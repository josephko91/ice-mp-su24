{
 "cells": [
  {
   "cell_type": "markdown",
   "metadata": {},
   "source": [
    "# Simple test: interactive plot of example mesh"
   ]
  },
  {
   "cell_type": "code",
   "execution_count": null,
   "metadata": {},
   "outputs": [],
   "source": [
    "import pyvista as pv\n",
    "# pv.set_jupyter_backend('server')\n",
    "# pv.start_xvfb()"
   ]
  },
  {
   "cell_type": "code",
   "execution_count": null,
   "metadata": {},
   "outputs": [],
   "source": [
    "print(pv.Report())"
   ]
  },
  {
   "cell_type": "code",
   "execution_count": null,
   "metadata": {},
   "outputs": [],
   "source": [
    "from pyvista import examples\n",
    "mesh = examples.download_dragon()\n",
    "mesh['scalars'] = mesh.points[:, 1]\n",
    "mesh.plot(cpos='xy', cmap='plasma')"
   ]
  },
  {
   "cell_type": "markdown",
   "metadata": {},
   "source": [
    "# More complicated test: render cloud GIF"
   ]
  },
  {
   "cell_type": "code",
   "execution_count": null,
   "metadata": {},
   "outputs": [],
   "source": [
    "import os, glob\n",
    "from pathlib import Path\n",
    "import xarray as xr\n",
    "import pyvista as pv\n",
    "import pvxarray"
   ]
  },
  {
   "cell_type": "code",
   "execution_count": null,
   "metadata": {},
   "outputs": [],
   "source": [
    "folder = '/glade/derecho/scratch/joko/from_cheyenne_pt1/cm1-iceball-ppe/iceball-test-ppe-n20/out/1' # folder of netcdf files, each file is one time step\n",
    "ds_list = []\n",
    "for f in sorted(glob.glob(os.path.join(folder, 'cm1out_0*'))):\n",
    "    f_temp = f.split(\".\",1)[0].rsplit(\"_\", 1)[1]\n",
    "    f_int = int(f_temp)\n",
    "    if (f_int >= 10) & (f_int < 15): # subset of time slices (optional)\n",
    "        # print(f)\n",
    "        ds = xr.open_dataset(f)\n",
    "        variables = ['qi1', 'qi2', 'qi3', 'qi4']\n",
    "        ds_qi = ds[variables]\n",
    "        # ds_mean = ds_qi.mean(dim='yh')\n",
    "        ds_list.append(ds_qi)\n",
    "    \n",
    "ds = xr.concat(ds_list, dim = 'time')\n",
    "ds "
   ]
  },
  {
   "cell_type": "code",
   "execution_count": null,
   "metadata": {},
   "outputs": [],
   "source": [
    "ds_new = ds.assign(qi=ds['qi1']+ds['qi2']+ds['qi3']+ds['qi4'])\n",
    "ds_new"
   ]
  },
  {
   "cell_type": "code",
   "execution_count": null,
   "metadata": {},
   "outputs": [],
   "source": [
    "# test with single frame \n",
    "ds_slice = ds_new.isel(time=0)\n",
    "da = ds_slice.qi\n",
    "mesh = da.pyvista.mesh(x='xh', y='yh', z='zh')\n",
    "mesh.plot(opacity='linear', cmap='binary', volume=True, clim = [0, 0.0002])"
   ]
  },
  {
   "cell_type": "code",
   "execution_count": null,
   "metadata": {},
   "outputs": [],
   "source": [
    "### === Create GIF from 10 frames === \n",
    "# Create plotter\n",
    "ds_slice = ds_new.isel(time=0)\n",
    "da = ds_slice.qi\n",
    "mesh = da.pyvista.mesh(x='xh', y='yh', z='zh')\n",
    "plotter = pv.Plotter(notebook=False, off_screen=True, window_size=[1024, 1024])\n",
    "n_frames = len(ds_new.time)\n",
    "plotter.add_volume(\n",
    "    mesh,\n",
    "    opacity='linear',\n",
    "    cmap=\"binary\",\n",
    "    show_scalar_bar=False,\n",
    "    clim=[0, 0.0002],\n",
    ")\n",
    "\n",
    "plotter.open_gif(\"iceball-3d-viz-test.gif\")\n",
    "\n",
    "# render and don't close\n",
    "plotter.show(auto_close=False)\n",
    "plotter.write_frame()\n",
    "\n",
    "# update each frame\n",
    "for i in range(1, n_frames):\n",
    "    print(f'Actors: {plotter.actors}')\n",
    "    print(f'loop {i}')\n",
    "    ds_time_i = ds_new.isel(time=i)\n",
    "    da_qi = ds_time_i.qi\n",
    "    mesh.point_data['qi'] = da_qi.to_numpy().flatten()\n",
    "    # print(mesh.active_scalars_info)\n",
    "    # print('removing actor')\n",
    "    removed = plotter.clear_actors()\n",
    "    # print(f'removed? {removed}')\n",
    "    # print(f'Actors: {plotter.actors}')\n",
    "    current_scalar = f'qi_{i}'\n",
    "    actor = plotter.add_volume(\n",
    "        mesh,\n",
    "        opacity='linear',\n",
    "        cmap=\"binary\",\n",
    "        show_scalar_bar=False,\n",
    "        clim=[0, 0.0002],\n",
    "        render=True\n",
    "    )\n",
    "    plotter.write_frame()\n",
    "    # plotter.screenshot(f'screenshot_{i}.png')\n",
    "\n",
    "plotter.close()"
   ]
  },
  {
   "cell_type": "code",
   "execution_count": null,
   "metadata": {},
   "outputs": [],
   "source": []
  }
 ],
 "metadata": {
  "kernelspec": {
   "display_name": "pyvista-egl",
   "language": "python",
   "name": "pyvista-egl"
  },
  "language_info": {
   "codemirror_mode": {
    "name": "ipython",
    "version": 3
   },
   "file_extension": ".py",
   "mimetype": "text/x-python",
   "name": "python",
   "nbconvert_exporter": "python",
   "pygments_lexer": "ipython3",
   "version": "3.12.4"
  }
 },
 "nbformat": 4,
 "nbformat_minor": 4
}
