{
 "cells": [
  {
   "cell_type": "markdown",
   "id": "7a6e2804-e981-4545-836e-9442fd963e20",
   "metadata": {},
   "source": [
    "Instructions for setting up conda kernel on NCAR machine:  \n",
    "- open terminal (e.g., in JupyterHub)\n",
    "- execute the following series of commands:\n",
    "\n",
    "`module load conda`  \n",
    "`conda create -n pyroved`  \n",
    "`conda activate pyroved`  \n",
    "`conda install pytorch pyro-ppl pytorch-cuda ipykernel jupyter ipywidgets -c pytorch -c nvidia`  \n",
    "`pip install pyroved`  \n",
    "\n",
    "- now you should see a [conda-env:pyroved] conda kernel available when you open a jupyter notebook"
   ]
  },
  {
   "cell_type": "markdown",
   "id": "d80a53ed-e09a-435d-8824-2bc2d7ce71c6",
   "metadata": {},
   "source": [
    "# Test: Shift-VAE example from documentation\n",
    "source: https://colab.research.google.com/github/ziatdinovmax/pyroVED/blob/master/examples/shiftVAE.ipynb#scrollTo=8CIc2tL_45qT"
   ]
  },
  {
   "cell_type": "code",
   "execution_count": null,
   "id": "f3c6f9cf-f2df-4adf-b318-9a99c47fef65",
   "metadata": {},
   "outputs": [],
   "source": [
    "import pyroved as pv\n",
    "import torch\n",
    "import matplotlib.pyplot as plt"
   ]
  },
  {
   "cell_type": "code",
   "execution_count": null,
   "id": "7b0d33d6-b3d4-4758-b914-a1836d52dabb",
   "metadata": {},
   "outputs": [],
   "source": [
    "torch.cuda.is_available() # check if GPU accessible"
   ]
  },
  {
   "cell_type": "code",
   "execution_count": null,
   "id": "d04f827c-beff-447f-a5f9-f9fef1e73b66",
   "metadata": {},
   "outputs": [],
   "source": [
    "def gaussian(x, mu, sig):\n",
    "    return torch.exp(-torch.pow(x - mu, 2.) / (2 * torch.pow(sig, 2.)))\n",
    "\n",
    "n_samples = 5000 # number of samples\n",
    "l_signal = 100 # signal length\n",
    "\n",
    "# Generate synthetic dataset with randomly shifted noisy 1D signal\n",
    "torch.manual_seed(1)  # for reproducibility\n",
    "x = torch.linspace(-12, 12, l_signal).expand(n_samples, l_signal)\n",
    "noise = torch.randint(1, 100, (n_samples, 1)) / 1e3\n",
    "mu = torch.randint(-30, 30, size=(n_samples, 1)) / 10\n",
    "sig = torch.randint(50, 500, size=(n_samples, 1)) / 1e2\n",
    "train_data = gaussian(x, mu, sig) + noise * torch.randn(size=(n_samples, l_signal))\n",
    "# Normalize to (0, 1)\n",
    "train_data = (train_data - train_data.min()) / (train_data.max() - train_data.min())\n",
    "\n",
    "# Initialize train loader\n",
    "train_loader = pv.utils.init_dataloader(train_data.unsqueeze(1), batch_size=64)"
   ]
  },
  {
   "cell_type": "code",
   "execution_count": null,
   "id": "d0caac9e-a016-4c3b-b791-b3e37effd563",
   "metadata": {},
   "outputs": [],
   "source": [
    "fig, axes = plt.subplots(8, 8, figsize=(8, 8),\n",
    "                         subplot_kw={'xticks':[], 'yticks':[]},\n",
    "                         gridspec_kw=dict(hspace=0.1, wspace=0.1))\n",
    "\n",
    "for ax, (y,) in zip(axes.flat, train_loader):\n",
    "    ax.plot(x[0], y[0, 0])"
   ]
  },
  {
   "cell_type": "code",
   "execution_count": null,
   "id": "00c00f26-7c6f-4f57-b418-4052168e8294",
   "metadata": {},
   "outputs": [],
   "source": [
    "in_dim = (100,)\n",
    "\n",
    "# Initialize vanilla VAE\n",
    "vae = pv.models.iVAE(in_dim, latent_dim=2, invariances=None, seed=0)\n",
    "\n",
    "# Initialize SVI trainer\n",
    "trainer = pv.trainers.SVItrainer(vae)\n",
    "\n",
    "# Train for n epochs:\n",
    "for e in range(250):\n",
    "    trainer.step(train_loader)\n",
    "    if e % 10 == 0: # only print every 10 epochs\n",
    "        trainer.print_statistics()"
   ]
  },
  {
   "cell_type": "code",
   "execution_count": null,
   "id": "70f7d1ad-8c21-40f4-884b-0464238c2a8d",
   "metadata": {},
   "outputs": [],
   "source": [
    "z_mean, z_sd = vae.encode(train_data)\n",
    "fig, (ax1, ax2) = plt.subplots(1, 2, figsize=(15, 6))\n",
    "im1 = ax1.scatter(z_mean[:, -1], z_mean[:, -2], s=1, c=mu)\n",
    "ax1.set_xlabel(r\"$z_2$\", fontsize=14)\n",
    "ax1.set_ylabel(r\"$z_1$\", fontsize=14)\n",
    "cbar1 = fig.colorbar(im1, ax=ax1, shrink=.8)\n",
    "cbar1.set_label(r\"$\\mu$\", fontsize=14)\n",
    "ax1.set_xlim(-2, 2)\n",
    "ax1.set_ylim(-2, 2)\n",
    "im2 = ax2.scatter(z_mean[:, -1], z_mean[:, -2], s=1, c=sig)\n",
    "ax2.set_xlabel(r\"$z_2$\", fontsize=14)\n",
    "ax2.set_ylabel(r\"$z_1$\", fontsize=14)\n",
    "cbar2 = fig.colorbar(im2, ax=ax2, shrink=.8)\n",
    "cbar2.set_label(r\"$\\sigma$\", fontsize=14)\n",
    "ax2.set_xlim(-2, 2)\n",
    "ax2.set_ylim(-2, 2);"
   ]
  },
  {
   "cell_type": "code",
   "execution_count": null,
   "id": "109180f4-8403-408c-9903-b39cf1e019f5",
   "metadata": {},
   "outputs": [],
   "source": [
    "vae.manifold2d(d=10);"
   ]
  },
  {
   "cell_type": "code",
   "execution_count": null,
   "id": "8a0aaa15-e335-497a-b435-4fb231ebed01",
   "metadata": {},
   "outputs": [],
   "source": [
    "_, ax = plt.subplots(2, 2, figsize=(10, 10))\n",
    "ax[0, 0].scatter(z_mean[:, 0], mu, c='blue')\n",
    "ax[0, 0].set_xlabel(r\"$\\mu$\", fontsize=14)\n",
    "ax[0, 0].set_ylabel(\"Latent variable 1\", fontsize=14)\n",
    "ax[0, 1].scatter(z_mean[:, 1], mu, c='blue')\n",
    "ax[0, 1].set_xlabel(r\"$\\mu$\", fontsize=14)\n",
    "ax[0, 1].set_ylabel(\"Latent variable 2\", fontsize=14)\n",
    "ax[1, 0].scatter(z_mean[:, 0], sig, c='blue')\n",
    "ax[1, 0].set_xlabel(r\"$\\sigma$\", fontsize=14)\n",
    "ax[1, 0].set_ylabel(\"Latent variable 1\", fontsize=14)\n",
    "ax[1, 1].scatter(z_mean[:, 1], sig, c='blue')\n",
    "ax[1, 1].set_xlabel(r\"$\\sigma$\", fontsize=14)\n",
    "ax[1, 1].set_ylabel(\"Latent variable 2\", fontsize=14);"
   ]
  },
  {
   "cell_type": "code",
   "execution_count": null,
   "id": "ca2e70b0-96cc-4589-ba89-02478b388aca",
   "metadata": {},
   "outputs": [],
   "source": [
    "in_dim = (100,)\n",
    "\n",
    "# Initialize shift-invariant VAE (to do this we add 't' to invariances)\n",
    "svae = pv.models.iVAE(in_dim, latent_dim=2, invariances=['t'], dx_prior=.3)\n",
    "\n",
    "# Initialize SVI trainer\n",
    "trainer = pv.trainers.SVItrainer(svae)\n",
    "\n",
    "# Train for n epochs:\n",
    "for e in range(250):\n",
    "    trainer.step(train_loader)\n",
    "    if e % 10 == 0: # only print every 10 epochs\n",
    "        trainer.print_statistics()"
   ]
  },
  {
   "cell_type": "code",
   "execution_count": null,
   "id": "771f7dc7-93ce-4298-9395-a391e3cdbbd6",
   "metadata": {},
   "outputs": [],
   "source": [
    "z_mean, z_sd = svae.encode(train_data)\n",
    "fig, (ax1, ax2) = plt.subplots(1, 2, figsize=(15, 6))\n",
    "im1 = ax1.scatter(z_mean[:, -1], z_mean[:, -2], s=1, c=mu)\n",
    "ax1.set_xlabel(r\"$z_1$\", fontsize=14)\n",
    "ax1.set_ylabel(r\"$z_2$\", fontsize=14)\n",
    "cbar1 = fig.colorbar(im1, ax=ax1, shrink=.8)\n",
    "cbar1.set_label(r\"$\\mu$\", fontsize=14)\n",
    "ax1.set_xlim(-2, 2)\n",
    "ax1.set_ylim(-2, 2)\n",
    "im2 = ax2.scatter(z_mean[:, -1], z_mean[:, -2], s=1, c=sig)\n",
    "ax2.set_xlabel(r\"$z_1$\", fontsize=14)\n",
    "ax2.set_ylabel(r\"$z_2$\", fontsize=14)\n",
    "cbar2 = fig.colorbar(im2, ax=ax2, shrink=.8)\n",
    "cbar2.set_label(r\"$\\sigma$\", fontsize=14)\n",
    "ax2.set_xlim(-2, 2)\n",
    "ax2.set_ylim(-2, 2);"
   ]
  },
  {
   "cell_type": "code",
   "execution_count": null,
   "id": "a41ea6eb-a500-483d-a6e7-931933d5e006",
   "metadata": {},
   "outputs": [],
   "source": [
    "svae.manifold2d(d=10);"
   ]
  },
  {
   "cell_type": "code",
   "execution_count": null,
   "id": "61908586-eed7-4ec8-8dac-dc9d84891252",
   "metadata": {},
   "outputs": [],
   "source": [
    "rescale = ((x.max() - x.min()) / 2 ) * svae.t_prior.cpu() # rescaling coefficient for shift latent variable\n",
    "i = 2 # non-collapsed latent variable \n",
    "_, (ax1, ax2) = plt.subplots(1, 2, figsize=(13.5, 6))\n",
    "ax1.scatter(mu, z_mean[:, 0] * rescale, c='blue', label=\"Encoded shift\")\n",
    "ax1.scatter(mu, mu, label=\"Actual shift\")\n",
    "ax1.set_xlabel(r\"$\\mu$\", fontsize=14)\n",
    "ax1.set_ylabel(\"Encoded shift\", fontsize=14)\n",
    "ax1.legend()\n",
    "ax1.grid()\n",
    "ax2.scatter(sig, z_mean[:, i], c='blue')\n",
    "ax2.set_xlabel(r\"$\\sigma$\", fontsize=14)\n",
    "ax2.set_ylabel(\"Latent variable {}\".format(i), fontsize=14)\n",
    "ax2.grid()"
   ]
  },
  {
   "cell_type": "code",
   "execution_count": null,
   "id": "eb87b61b-ee13-4df0-9d77-aafd54d00f09",
   "metadata": {},
   "outputs": [],
   "source": []
  },
  {
   "cell_type": "code",
   "execution_count": null,
   "id": "ddf05815-c9b5-4a8c-8c19-b8a9c12775bb",
   "metadata": {},
   "outputs": [],
   "source": []
  }
 ],
 "metadata": {
  "kernelspec": {
   "display_name": "Python [conda env:pyroved]",
   "language": "python",
   "name": "conda-env-pyroved-py"
  },
  "language_info": {
   "codemirror_mode": {
    "name": "ipython",
    "version": 3
   },
   "file_extension": ".py",
   "mimetype": "text/x-python",
   "name": "python",
   "nbconvert_exporter": "python",
   "pygments_lexer": "ipython3",
   "version": "3.12.4"
  }
 },
 "nbformat": 4,
 "nbformat_minor": 5
}
