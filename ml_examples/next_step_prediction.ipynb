{
 "cells": [
  {
   "cell_type": "code",
   "execution_count": 195,
   "id": "4315330c-69b3-4810-9375-e27f7f39df18",
   "metadata": {},
   "outputs": [],
   "source": [
    "import pandas as pd\n",
    "from sklearn import linear_model\n",
    "from sklearn.ensemble import RandomForestRegressor\n",
    "from sklearn.neural_network import MLPRegressor\n",
    "from sklearn.model_selection import train_test_split\n",
    "from sklearn.pipeline import make_pipeline\n",
    "from sklearn.preprocessing import StandardScaler\n",
    "import numpy as np\n",
    "from sklearn.metrics import mean_squared_error, r2_score\n",
    "import matplotlib.pyplot as plt"
   ]
  },
  {
   "cell_type": "markdown",
   "id": "f52bdfee-4dae-49f6-bf0c-2857948f9f13",
   "metadata": {},
   "source": [
    "# Data processing"
   ]
  },
  {
   "cell_type": "code",
   "execution_count": 59,
   "id": "fd4e3a45-a95e-475d-b347-b52774154674",
   "metadata": {},
   "outputs": [
    {
     "name": "stdout",
     "output_type": "stream",
     "text": [
      "        time    rk_deact\n",
      "4360    5100       13957\n",
      "4361    5100      150328\n",
      "4362    5100      206362\n",
      "4363    5100      207674\n",
      "4364    5100      218111\n",
      "...      ...         ...\n",
      "351068  7200  1015230609\n",
      "351069  7200  1015266378\n",
      "351070  7200  1015305678\n",
      "349741  7200  1015329135\n",
      "351024  7200  1015454933\n",
      "\n",
      "[356976 rows x 2 columns]\n",
      "Check for single timestep 5100s\n",
      "length of ID vector: 9916\n",
      "number of unique IDs: 9916\n"
     ]
    }
   ],
   "source": [
    "# load data\n",
    "filepath = '/glade/work/psturm/ice-mp-su24/saved_trajectory_data/trajs_5100_7200_Ns10000.csv' # obin's latest csv with combined data\n",
    "df = pd.read_csv(filepath)\n",
    "\n",
    "# sort df\n",
    "sort_cols = ['time', 'rk_deact']\n",
    "df_sort = df.sort_values(by=sort_cols)\n",
    "\n",
    "# print time and rk_deact columns as quick check\n",
    "print(df_sort[sort_cols])\n",
    "\n",
    "# do a check for a single timestep\n",
    "df_5100 = df_sort[df_sort.time==5100]\n",
    "print('Check for single timestep 5100s')\n",
    "print(f'length of ID vector: {len(df_5100.rk_deact)}')\n",
    "print(f'number of unique IDs: {len(df_5100.rk_deact.unique())}')"
   ]
  },
  {
   "cell_type": "code",
   "execution_count": 60,
   "id": "b7703185-37f3-4f3b-8bc6-a2fd87e7218d",
   "metadata": {},
   "outputs": [
    {
     "data": {
      "text/plain": [
       "Index(['Unnamed: 0', 'rk_deact', 'x[m]', 'y[m]', 'z[m]', 'vz[m]',\n",
       "       'radius(droplet)[m]', 'mass_of_aerosol_in_droplet/ice(1:01)[g]',\n",
       "       'radius_eq(ice)[m]', 'radius_pol(ice)[m]',\n",
       "       'density(droplet/ice)[kg/m3]', 'rhod [kg/m3]', 'multiplicity[-]',\n",
       "       'status[-]', 'index', 'rime_mass[kg]', 'num_of_monomers[-]', 'time',\n",
       "       'xi gridbox', 'yk gridbox', 'zh gridbox', 'time index', 'rh', 'th',\n",
       "       'prs', 'qv', 'uinterp', 'vinterp', 'winterp', 'out8', 'out9', 'out10',\n",
       "       'out11', 'out12', 'out13', 'out14', 'deactrat', 'T [K]', 'RH_ice',\n",
       "       'RH_liquid', 'RH_diff'],\n",
       "      dtype='object')"
      ]
     },
     "execution_count": 60,
     "metadata": {},
     "output_type": "execute_result"
    }
   ],
   "source": [
    "df_sort.columns"
   ]
  },
  {
   "cell_type": "code",
   "execution_count": 64,
   "id": "a1ec07a7-6fd4-4852-aef0-8a88bb9dd01e",
   "metadata": {},
   "outputs": [
    {
     "data": {
      "text/html": [
       "<div>\n",
       "<style scoped>\n",
       "    .dataframe tbody tr th:only-of-type {\n",
       "        vertical-align: middle;\n",
       "    }\n",
       "\n",
       "    .dataframe tbody tr th {\n",
       "        vertical-align: top;\n",
       "    }\n",
       "\n",
       "    .dataframe thead th {\n",
       "        text-align: right;\n",
       "    }\n",
       "</style>\n",
       "<table border=\"1\" class=\"dataframe\">\n",
       "  <thead>\n",
       "    <tr style=\"text-align: right;\">\n",
       "      <th></th>\n",
       "      <th>radius_eq(ice)[m]</th>\n",
       "      <th>volume[m3]</th>\n",
       "      <th>mass[kg]</th>\n",
       "    </tr>\n",
       "  </thead>\n",
       "  <tbody>\n",
       "    <tr>\n",
       "      <th>4360</th>\n",
       "      <td>0.000013</td>\n",
       "      <td>9.054558e-15</td>\n",
       "      <td>3.794836e-12</td>\n",
       "    </tr>\n",
       "    <tr>\n",
       "      <th>4361</th>\n",
       "      <td>0.000021</td>\n",
       "      <td>3.845164e-14</td>\n",
       "      <td>1.379069e-11</td>\n",
       "    </tr>\n",
       "    <tr>\n",
       "      <th>4362</th>\n",
       "      <td>0.000026</td>\n",
       "      <td>7.278837e-14</td>\n",
       "      <td>1.541835e-11</td>\n",
       "    </tr>\n",
       "    <tr>\n",
       "      <th>4363</th>\n",
       "      <td>0.000033</td>\n",
       "      <td>1.496556e-13</td>\n",
       "      <td>4.462700e-11</td>\n",
       "    </tr>\n",
       "    <tr>\n",
       "      <th>4364</th>\n",
       "      <td>0.000018</td>\n",
       "      <td>2.385564e-14</td>\n",
       "      <td>7.938225e-12</td>\n",
       "    </tr>\n",
       "    <tr>\n",
       "      <th>...</th>\n",
       "      <td>...</td>\n",
       "      <td>...</td>\n",
       "      <td>...</td>\n",
       "    </tr>\n",
       "    <tr>\n",
       "      <th>351068</th>\n",
       "      <td>0.000021</td>\n",
       "      <td>3.787968e-14</td>\n",
       "      <td>7.576020e-12</td>\n",
       "    </tr>\n",
       "    <tr>\n",
       "      <th>351069</th>\n",
       "      <td>0.000012</td>\n",
       "      <td>7.778861e-15</td>\n",
       "      <td>1.555800e-12</td>\n",
       "    </tr>\n",
       "    <tr>\n",
       "      <th>351070</th>\n",
       "      <td>0.000087</td>\n",
       "      <td>2.799120e-12</td>\n",
       "      <td>5.628925e-10</td>\n",
       "    </tr>\n",
       "    <tr>\n",
       "      <th>349741</th>\n",
       "      <td>0.000056</td>\n",
       "      <td>7.223066e-13</td>\n",
       "      <td>1.444621e-10</td>\n",
       "    </tr>\n",
       "    <tr>\n",
       "      <th>351024</th>\n",
       "      <td>0.000062</td>\n",
       "      <td>9.802727e-13</td>\n",
       "      <td>2.974833e-10</td>\n",
       "    </tr>\n",
       "  </tbody>\n",
       "</table>\n",
       "<p>356976 rows × 3 columns</p>\n",
       "</div>"
      ],
      "text/plain": [
       "        radius_eq(ice)[m]    volume[m3]      mass[kg]\n",
       "4360             0.000013  9.054558e-15  3.794836e-12\n",
       "4361             0.000021  3.845164e-14  1.379069e-11\n",
       "4362             0.000026  7.278837e-14  1.541835e-11\n",
       "4363             0.000033  1.496556e-13  4.462700e-11\n",
       "4364             0.000018  2.385564e-14  7.938225e-12\n",
       "...                   ...           ...           ...\n",
       "351068           0.000021  3.787968e-14  7.576020e-12\n",
       "351069           0.000012  7.778861e-15  1.555800e-12\n",
       "351070           0.000087  2.799120e-12  5.628925e-10\n",
       "349741           0.000056  7.223066e-13  1.444621e-10\n",
       "351024           0.000062  9.802727e-13  2.974833e-10\n",
       "\n",
       "[356976 rows x 3 columns]"
      ]
     },
     "execution_count": 64,
     "metadata": {},
     "output_type": "execute_result"
    }
   ],
   "source": [
    "# calculate mass and add as column\n",
    "df_sort['volume[m3]'] = (4/3)*np.pi*(df_sort['radius_eq(ice)[m]'])**3\n",
    "df_sort['mass[kg]'] = df_sort['volume[m3]']*df_sort['density(droplet/ice)[kg/m3]']\n",
    "df_sort[['radius_eq(ice)[m]', 'volume[m3]', 'mass[kg]']]"
   ]
  },
  {
   "cell_type": "code",
   "execution_count": 65,
   "id": "289337a1-5f90-4129-b584-69d49b3489c9",
   "metadata": {},
   "outputs": [
    {
     "data": {
      "text/plain": [
       "(347060, 44)"
      ]
     },
     "execution_count": 65,
     "metadata": {},
     "output_type": "execute_result"
    }
   ],
   "source": [
    "df1 = df_sort \n",
    "n_unique_ids = len(df1['rk_deact'].unique())\n",
    "len_df = len(df1) - n_unique_ids\n",
    "df1 = df_sort[:len_df]\n",
    "df1.reset_index(inplace=True)\n",
    "df1.shape"
   ]
  },
  {
   "cell_type": "code",
   "execution_count": 66,
   "id": "d51afebb-078c-4abd-b6e1-e839a199ad47",
   "metadata": {},
   "outputs": [
    {
     "data": {
      "text/plain": [
       "(347060, 44)"
      ]
     },
     "execution_count": 66,
     "metadata": {},
     "output_type": "execute_result"
    }
   ],
   "source": [
    "df2 = df_sort\n",
    "df2 = df2[n_unique_ids:]\n",
    "df2.reset_index(inplace=True)\n",
    "df2.shape"
   ]
  },
  {
   "cell_type": "code",
   "execution_count": 67,
   "id": "f4839b8c-3cf7-4c4d-bb1c-9b40f3bd5f63",
   "metadata": {},
   "outputs": [
    {
     "data": {
      "text/html": [
       "<div>\n",
       "<style scoped>\n",
       "    .dataframe tbody tr th:only-of-type {\n",
       "        vertical-align: middle;\n",
       "    }\n",
       "\n",
       "    .dataframe tbody tr th {\n",
       "        vertical-align: top;\n",
       "    }\n",
       "\n",
       "    .dataframe thead th {\n",
       "        text-align: right;\n",
       "    }\n",
       "</style>\n",
       "<table border=\"1\" class=\"dataframe\">\n",
       "  <thead>\n",
       "    <tr style=\"text-align: right;\">\n",
       "      <th></th>\n",
       "      <th>level_0_1</th>\n",
       "      <th>Unnamed: 0_1</th>\n",
       "      <th>rk_deact_1</th>\n",
       "      <th>x[m]_1</th>\n",
       "      <th>y[m]_1</th>\n",
       "      <th>z[m]_1</th>\n",
       "      <th>vz[m]_1</th>\n",
       "      <th>radius(droplet)[m]_1</th>\n",
       "      <th>mass_of_aerosol_in_droplet/ice(1:01)[g]_1</th>\n",
       "      <th>radius_eq(ice)[m]_1</th>\n",
       "      <th>...</th>\n",
       "      <th>out12_2</th>\n",
       "      <th>out13_2</th>\n",
       "      <th>out14_2</th>\n",
       "      <th>deactrat_2</th>\n",
       "      <th>T [K]_2</th>\n",
       "      <th>RH_ice_2</th>\n",
       "      <th>RH_liquid_2</th>\n",
       "      <th>RH_diff_2</th>\n",
       "      <th>volume[m3]_2</th>\n",
       "      <th>mass[kg]_2</th>\n",
       "    </tr>\n",
       "  </thead>\n",
       "  <tbody>\n",
       "    <tr>\n",
       "      <th>0</th>\n",
       "      <td>4360</td>\n",
       "      <td>4360</td>\n",
       "      <td>13957</td>\n",
       "      <td>187.02308</td>\n",
       "      <td>131.37815</td>\n",
       "      <td>9362.9834</td>\n",
       "      <td>0.0</td>\n",
       "      <td>0.0</td>\n",
       "      <td>1.048439e-14</td>\n",
       "      <td>0.000013</td>\n",
       "      <td>...</td>\n",
       "      <td>336.595032</td>\n",
       "      <td>14.001214</td>\n",
       "      <td>14.001214</td>\n",
       "      <td>-6.621117e-09</td>\n",
       "      <td>232.110924</td>\n",
       "      <td>0.997001</td>\n",
       "      <td>0.664628</td>\n",
       "      <td>0.008388</td>\n",
       "      <td>8.598998e-15</td>\n",
       "      <td>3.603907e-12</td>\n",
       "    </tr>\n",
       "    <tr>\n",
       "      <th>1</th>\n",
       "      <td>4361</td>\n",
       "      <td>4361</td>\n",
       "      <td>150328</td>\n",
       "      <td>280.41348</td>\n",
       "      <td>123.98104</td>\n",
       "      <td>9479.3545</td>\n",
       "      <td>0.0</td>\n",
       "      <td>0.0</td>\n",
       "      <td>1.776257e-14</td>\n",
       "      <td>0.000021</td>\n",
       "      <td>...</td>\n",
       "      <td>354.739624</td>\n",
       "      <td>9.352058</td>\n",
       "      <td>9.352058</td>\n",
       "      <td>-2.457631e-09</td>\n",
       "      <td>231.159666</td>\n",
       "      <td>1.000650</td>\n",
       "      <td>0.660578</td>\n",
       "      <td>0.008478</td>\n",
       "      <td>3.841255e-14</td>\n",
       "      <td>1.376532e-11</td>\n",
       "    </tr>\n",
       "    <tr>\n",
       "      <th>2</th>\n",
       "      <td>4362</td>\n",
       "      <td>4362</td>\n",
       "      <td>206362</td>\n",
       "      <td>362.41535</td>\n",
       "      <td>226.61712</td>\n",
       "      <td>9679.0052</td>\n",
       "      <td>0.0</td>\n",
       "      <td>0.0</td>\n",
       "      <td>2.233854e-14</td>\n",
       "      <td>0.000026</td>\n",
       "      <td>...</td>\n",
       "      <td>302.004425</td>\n",
       "      <td>6.072549</td>\n",
       "      <td>6.072549</td>\n",
       "      <td>1.721107e-09</td>\n",
       "      <td>229.309070</td>\n",
       "      <td>1.003703</td>\n",
       "      <td>0.650070</td>\n",
       "      <td>0.008626</td>\n",
       "      <td>7.294642e-14</td>\n",
       "      <td>1.544887e-11</td>\n",
       "    </tr>\n",
       "    <tr>\n",
       "      <th>3</th>\n",
       "      <td>4363</td>\n",
       "      <td>4363</td>\n",
       "      <td>207674</td>\n",
       "      <td>433.96419</td>\n",
       "      <td>252.61293</td>\n",
       "      <td>9350.2859</td>\n",
       "      <td>0.0</td>\n",
       "      <td>0.0</td>\n",
       "      <td>2.910743e-13</td>\n",
       "      <td>0.000033</td>\n",
       "      <td>...</td>\n",
       "      <td>420.421875</td>\n",
       "      <td>7.234190</td>\n",
       "      <td>7.234190</td>\n",
       "      <td>8.823843e-09</td>\n",
       "      <td>232.071147</td>\n",
       "      <td>1.017993</td>\n",
       "      <td>0.678345</td>\n",
       "      <td>0.008563</td>\n",
       "      <td>1.566355e-13</td>\n",
       "      <td>4.600479e-11</td>\n",
       "    </tr>\n",
       "    <tr>\n",
       "      <th>4</th>\n",
       "      <td>4364</td>\n",
       "      <td>4364</td>\n",
       "      <td>218111</td>\n",
       "      <td>123.32099</td>\n",
       "      <td>369.23415</td>\n",
       "      <td>9486.0378</td>\n",
       "      <td>0.0</td>\n",
       "      <td>0.0</td>\n",
       "      <td>8.156556e-14</td>\n",
       "      <td>0.000018</td>\n",
       "      <td>...</td>\n",
       "      <td>320.557495</td>\n",
       "      <td>6.739596</td>\n",
       "      <td>6.739596</td>\n",
       "      <td>-2.079506e-09</td>\n",
       "      <td>231.189258</td>\n",
       "      <td>1.001454</td>\n",
       "      <td>0.661310</td>\n",
       "      <td>0.008486</td>\n",
       "      <td>2.371593e-14</td>\n",
       "      <td>7.891735e-12</td>\n",
       "    </tr>\n",
       "    <tr>\n",
       "      <th>...</th>\n",
       "      <td>...</td>\n",
       "      <td>...</td>\n",
       "      <td>...</td>\n",
       "      <td>...</td>\n",
       "      <td>...</td>\n",
       "      <td>...</td>\n",
       "      <td>...</td>\n",
       "      <td>...</td>\n",
       "      <td>...</td>\n",
       "      <td>...</td>\n",
       "      <td>...</td>\n",
       "      <td>...</td>\n",
       "      <td>...</td>\n",
       "      <td>...</td>\n",
       "      <td>...</td>\n",
       "      <td>...</td>\n",
       "      <td>...</td>\n",
       "      <td>...</td>\n",
       "      <td>...</td>\n",
       "      <td>...</td>\n",
       "      <td>...</td>\n",
       "    </tr>\n",
       "    <tr>\n",
       "      <th>347055</th>\n",
       "      <td>343778</td>\n",
       "      <td>343778</td>\n",
       "      <td>1015230609</td>\n",
       "      <td>11655.36400</td>\n",
       "      <td>11895.40400</td>\n",
       "      <td>9597.7637</td>\n",
       "      <td>0.0</td>\n",
       "      <td>0.0</td>\n",
       "      <td>1.902701e-14</td>\n",
       "      <td>0.000022</td>\n",
       "      <td>...</td>\n",
       "      <td>414.409027</td>\n",
       "      <td>13.616765</td>\n",
       "      <td>13.616765</td>\n",
       "      <td>-6.029041e-08</td>\n",
       "      <td>229.940011</td>\n",
       "      <td>0.983420</td>\n",
       "      <td>0.641098</td>\n",
       "      <td>0.008381</td>\n",
       "      <td>3.787968e-14</td>\n",
       "      <td>7.576020e-12</td>\n",
       "    </tr>\n",
       "    <tr>\n",
       "      <th>347056</th>\n",
       "      <td>343779</td>\n",
       "      <td>343779</td>\n",
       "      <td>1015266378</td>\n",
       "      <td>11743.64800</td>\n",
       "      <td>11799.43100</td>\n",
       "      <td>9758.7617</td>\n",
       "      <td>0.0</td>\n",
       "      <td>0.0</td>\n",
       "      <td>5.646258e-15</td>\n",
       "      <td>0.000013</td>\n",
       "      <td>...</td>\n",
       "      <td>385.077393</td>\n",
       "      <td>5.706291</td>\n",
       "      <td>5.706291</td>\n",
       "      <td>-3.655712e-08</td>\n",
       "      <td>228.075858</td>\n",
       "      <td>0.989389</td>\n",
       "      <td>0.632679</td>\n",
       "      <td>0.008552</td>\n",
       "      <td>7.778861e-15</td>\n",
       "      <td>1.555800e-12</td>\n",
       "    </tr>\n",
       "    <tr>\n",
       "      <th>347057</th>\n",
       "      <td>343780</td>\n",
       "      <td>343780</td>\n",
       "      <td>1015305678</td>\n",
       "      <td>11771.92800</td>\n",
       "      <td>11686.20800</td>\n",
       "      <td>8977.0945</td>\n",
       "      <td>0.0</td>\n",
       "      <td>0.0</td>\n",
       "      <td>1.904751e-13</td>\n",
       "      <td>0.000087</td>\n",
       "      <td>...</td>\n",
       "      <td>367.272278</td>\n",
       "      <td>0.015625</td>\n",
       "      <td>0.015625</td>\n",
       "      <td>1.539362e-09</td>\n",
       "      <td>235.261644</td>\n",
       "      <td>1.017356</td>\n",
       "      <td>0.700312</td>\n",
       "      <td>0.008286</td>\n",
       "      <td>2.799120e-12</td>\n",
       "      <td>5.628925e-10</td>\n",
       "    </tr>\n",
       "    <tr>\n",
       "      <th>347058</th>\n",
       "      <td>340080</td>\n",
       "      <td>340080</td>\n",
       "      <td>1015329135</td>\n",
       "      <td>11473.41500</td>\n",
       "      <td>11976.99200</td>\n",
       "      <td>9335.0350</td>\n",
       "      <td>0.0</td>\n",
       "      <td>0.0</td>\n",
       "      <td>8.063607e-14</td>\n",
       "      <td>0.000056</td>\n",
       "      <td>...</td>\n",
       "      <td>524.944641</td>\n",
       "      <td>19.641491</td>\n",
       "      <td>19.641491</td>\n",
       "      <td>7.995893e-09</td>\n",
       "      <td>231.851583</td>\n",
       "      <td>1.010303</td>\n",
       "      <td>0.671707</td>\n",
       "      <td>0.008491</td>\n",
       "      <td>7.223066e-13</td>\n",
       "      <td>1.444621e-10</td>\n",
       "    </tr>\n",
       "    <tr>\n",
       "      <th>347059</th>\n",
       "      <td>342430</td>\n",
       "      <td>342430</td>\n",
       "      <td>1015454933</td>\n",
       "      <td>11861.36900</td>\n",
       "      <td>180.93205</td>\n",
       "      <td>9446.7867</td>\n",
       "      <td>0.0</td>\n",
       "      <td>0.0</td>\n",
       "      <td>6.797282e-13</td>\n",
       "      <td>0.000061</td>\n",
       "      <td>...</td>\n",
       "      <td>348.354309</td>\n",
       "      <td>15.680635</td>\n",
       "      <td>15.680635</td>\n",
       "      <td>3.769227e-08</td>\n",
       "      <td>230.985889</td>\n",
       "      <td>1.024081</td>\n",
       "      <td>0.674839</td>\n",
       "      <td>0.008672</td>\n",
       "      <td>9.802727e-13</td>\n",
       "      <td>2.974833e-10</td>\n",
       "    </tr>\n",
       "  </tbody>\n",
       "</table>\n",
       "<p>347060 rows × 88 columns</p>\n",
       "</div>"
      ],
      "text/plain": [
       "        level_0_1  Unnamed: 0_1  rk_deact_1       x[m]_1       y[m]_1  \\\n",
       "0            4360          4360       13957    187.02308    131.37815   \n",
       "1            4361          4361      150328    280.41348    123.98104   \n",
       "2            4362          4362      206362    362.41535    226.61712   \n",
       "3            4363          4363      207674    433.96419    252.61293   \n",
       "4            4364          4364      218111    123.32099    369.23415   \n",
       "...           ...           ...         ...          ...          ...   \n",
       "347055     343778        343778  1015230609  11655.36400  11895.40400   \n",
       "347056     343779        343779  1015266378  11743.64800  11799.43100   \n",
       "347057     343780        343780  1015305678  11771.92800  11686.20800   \n",
       "347058     340080        340080  1015329135  11473.41500  11976.99200   \n",
       "347059     342430        342430  1015454933  11861.36900    180.93205   \n",
       "\n",
       "           z[m]_1  vz[m]_1  radius(droplet)[m]_1  \\\n",
       "0       9362.9834      0.0                   0.0   \n",
       "1       9479.3545      0.0                   0.0   \n",
       "2       9679.0052      0.0                   0.0   \n",
       "3       9350.2859      0.0                   0.0   \n",
       "4       9486.0378      0.0                   0.0   \n",
       "...           ...      ...                   ...   \n",
       "347055  9597.7637      0.0                   0.0   \n",
       "347056  9758.7617      0.0                   0.0   \n",
       "347057  8977.0945      0.0                   0.0   \n",
       "347058  9335.0350      0.0                   0.0   \n",
       "347059  9446.7867      0.0                   0.0   \n",
       "\n",
       "        mass_of_aerosol_in_droplet/ice(1:01)[g]_1  radius_eq(ice)[m]_1  ...  \\\n",
       "0                                    1.048439e-14             0.000013  ...   \n",
       "1                                    1.776257e-14             0.000021  ...   \n",
       "2                                    2.233854e-14             0.000026  ...   \n",
       "3                                    2.910743e-13             0.000033  ...   \n",
       "4                                    8.156556e-14             0.000018  ...   \n",
       "...                                           ...                  ...  ...   \n",
       "347055                               1.902701e-14             0.000022  ...   \n",
       "347056                               5.646258e-15             0.000013  ...   \n",
       "347057                               1.904751e-13             0.000087  ...   \n",
       "347058                               8.063607e-14             0.000056  ...   \n",
       "347059                               6.797282e-13             0.000061  ...   \n",
       "\n",
       "           out12_2    out13_2    out14_2    deactrat_2     T [K]_2  RH_ice_2  \\\n",
       "0       336.595032  14.001214  14.001214 -6.621117e-09  232.110924  0.997001   \n",
       "1       354.739624   9.352058   9.352058 -2.457631e-09  231.159666  1.000650   \n",
       "2       302.004425   6.072549   6.072549  1.721107e-09  229.309070  1.003703   \n",
       "3       420.421875   7.234190   7.234190  8.823843e-09  232.071147  1.017993   \n",
       "4       320.557495   6.739596   6.739596 -2.079506e-09  231.189258  1.001454   \n",
       "...            ...        ...        ...           ...         ...       ...   \n",
       "347055  414.409027  13.616765  13.616765 -6.029041e-08  229.940011  0.983420   \n",
       "347056  385.077393   5.706291   5.706291 -3.655712e-08  228.075858  0.989389   \n",
       "347057  367.272278   0.015625   0.015625  1.539362e-09  235.261644  1.017356   \n",
       "347058  524.944641  19.641491  19.641491  7.995893e-09  231.851583  1.010303   \n",
       "347059  348.354309  15.680635  15.680635  3.769227e-08  230.985889  1.024081   \n",
       "\n",
       "        RH_liquid_2  RH_diff_2  volume[m3]_2    mass[kg]_2  \n",
       "0          0.664628   0.008388  8.598998e-15  3.603907e-12  \n",
       "1          0.660578   0.008478  3.841255e-14  1.376532e-11  \n",
       "2          0.650070   0.008626  7.294642e-14  1.544887e-11  \n",
       "3          0.678345   0.008563  1.566355e-13  4.600479e-11  \n",
       "4          0.661310   0.008486  2.371593e-14  7.891735e-12  \n",
       "...             ...        ...           ...           ...  \n",
       "347055     0.641098   0.008381  3.787968e-14  7.576020e-12  \n",
       "347056     0.632679   0.008552  7.778861e-15  1.555800e-12  \n",
       "347057     0.700312   0.008286  2.799120e-12  5.628925e-10  \n",
       "347058     0.671707   0.008491  7.223066e-13  1.444621e-10  \n",
       "347059     0.674839   0.008672  9.802727e-13  2.974833e-10  \n",
       "\n",
       "[347060 rows x 88 columns]"
      ]
     },
     "execution_count": 67,
     "metadata": {},
     "output_type": "execute_result"
    }
   ],
   "source": [
    "# join dataframes\n",
    "df = df1.join(df2, lsuffix='_1', rsuffix='_2')\n",
    "df"
   ]
  },
  {
   "cell_type": "code",
   "execution_count": 68,
   "id": "e933228f-5dfd-469d-bf9e-decf703e444c",
   "metadata": {},
   "outputs": [
    {
     "data": {
      "text/plain": [
       "Index(['level_0_1', 'Unnamed: 0_1', 'rk_deact_1', 'x[m]_1', 'y[m]_1', 'z[m]_1',\n",
       "       'vz[m]_1', 'radius(droplet)[m]_1',\n",
       "       'mass_of_aerosol_in_droplet/ice(1:01)[g]_1', 'radius_eq(ice)[m]_1',\n",
       "       'radius_pol(ice)[m]_1', 'density(droplet/ice)[kg/m3]_1',\n",
       "       'rhod [kg/m3]_1', 'multiplicity[-]_1', 'status[-]_1', 'index_1',\n",
       "       'rime_mass[kg]_1', 'num_of_monomers[-]_1', 'time_1', 'xi gridbox_1',\n",
       "       'yk gridbox_1', 'zh gridbox_1', 'time index_1', 'rh_1', 'th_1', 'prs_1',\n",
       "       'qv_1', 'uinterp_1', 'vinterp_1', 'winterp_1', 'out8_1', 'out9_1',\n",
       "       'out10_1', 'out11_1', 'out12_1', 'out13_1', 'out14_1', 'deactrat_1',\n",
       "       'T [K]_1', 'RH_ice_1', 'RH_liquid_1', 'RH_diff_1', 'volume[m3]_1',\n",
       "       'mass[kg]_1', 'level_0_2', 'Unnamed: 0_2', 'rk_deact_2', 'x[m]_2',\n",
       "       'y[m]_2', 'z[m]_2', 'vz[m]_2', 'radius(droplet)[m]_2',\n",
       "       'mass_of_aerosol_in_droplet/ice(1:01)[g]_2', 'radius_eq(ice)[m]_2',\n",
       "       'radius_pol(ice)[m]_2', 'density(droplet/ice)[kg/m3]_2',\n",
       "       'rhod [kg/m3]_2', 'multiplicity[-]_2', 'status[-]_2', 'index_2',\n",
       "       'rime_mass[kg]_2', 'num_of_monomers[-]_2', 'time_2', 'xi gridbox_2',\n",
       "       'yk gridbox_2', 'zh gridbox_2', 'time index_2', 'rh_2', 'th_2', 'prs_2',\n",
       "       'qv_2', 'uinterp_2', 'vinterp_2', 'winterp_2', 'out8_2', 'out9_2',\n",
       "       'out10_2', 'out11_2', 'out12_2', 'out13_2', 'out14_2', 'deactrat_2',\n",
       "       'T [K]_2', 'RH_ice_2', 'RH_liquid_2', 'RH_diff_2', 'volume[m3]_2',\n",
       "       'mass[kg]_2'],\n",
       "      dtype='object')"
      ]
     },
     "execution_count": 68,
     "metadata": {},
     "output_type": "execute_result"
    }
   ],
   "source": [
    "df.columns"
   ]
  },
  {
   "cell_type": "code",
   "execution_count": 69,
   "id": "774198f1-00a5-4ffe-bac8-7b1e53ba2e50",
   "metadata": {},
   "outputs": [
    {
     "data": {
      "text/plain": [
       "True"
      ]
     },
     "execution_count": 69,
     "metadata": {},
     "output_type": "execute_result"
    }
   ],
   "source": [
    "df['rk_deact_1'].equals(df['rk_deact_2'])"
   ]
  },
  {
   "cell_type": "code",
   "execution_count": 70,
   "id": "4518fd62-52f3-4597-ba4a-32281f3a5878",
   "metadata": {},
   "outputs": [
    {
     "data": {
      "text/html": [
       "<div>\n",
       "<style scoped>\n",
       "    .dataframe tbody tr th:only-of-type {\n",
       "        vertical-align: middle;\n",
       "    }\n",
       "\n",
       "    .dataframe tbody tr th {\n",
       "        vertical-align: top;\n",
       "    }\n",
       "\n",
       "    .dataframe thead th {\n",
       "        text-align: right;\n",
       "    }\n",
       "</style>\n",
       "<table border=\"1\" class=\"dataframe\">\n",
       "  <thead>\n",
       "    <tr style=\"text-align: right;\">\n",
       "      <th></th>\n",
       "      <th>time_1</th>\n",
       "      <th>rk_deact_1</th>\n",
       "      <th>time_2</th>\n",
       "      <th>rk_deact_2</th>\n",
       "    </tr>\n",
       "  </thead>\n",
       "  <tbody>\n",
       "    <tr>\n",
       "      <th>0</th>\n",
       "      <td>5100</td>\n",
       "      <td>13957</td>\n",
       "      <td>5160</td>\n",
       "      <td>13957</td>\n",
       "    </tr>\n",
       "    <tr>\n",
       "      <th>1</th>\n",
       "      <td>5100</td>\n",
       "      <td>150328</td>\n",
       "      <td>5160</td>\n",
       "      <td>150328</td>\n",
       "    </tr>\n",
       "    <tr>\n",
       "      <th>2</th>\n",
       "      <td>5100</td>\n",
       "      <td>206362</td>\n",
       "      <td>5160</td>\n",
       "      <td>206362</td>\n",
       "    </tr>\n",
       "    <tr>\n",
       "      <th>3</th>\n",
       "      <td>5100</td>\n",
       "      <td>207674</td>\n",
       "      <td>5160</td>\n",
       "      <td>207674</td>\n",
       "    </tr>\n",
       "    <tr>\n",
       "      <th>4</th>\n",
       "      <td>5100</td>\n",
       "      <td>218111</td>\n",
       "      <td>5160</td>\n",
       "      <td>218111</td>\n",
       "    </tr>\n",
       "    <tr>\n",
       "      <th>...</th>\n",
       "      <td>...</td>\n",
       "      <td>...</td>\n",
       "      <td>...</td>\n",
       "      <td>...</td>\n",
       "    </tr>\n",
       "    <tr>\n",
       "      <th>347055</th>\n",
       "      <td>7140</td>\n",
       "      <td>1015230609</td>\n",
       "      <td>7200</td>\n",
       "      <td>1015230609</td>\n",
       "    </tr>\n",
       "    <tr>\n",
       "      <th>347056</th>\n",
       "      <td>7140</td>\n",
       "      <td>1015266378</td>\n",
       "      <td>7200</td>\n",
       "      <td>1015266378</td>\n",
       "    </tr>\n",
       "    <tr>\n",
       "      <th>347057</th>\n",
       "      <td>7140</td>\n",
       "      <td>1015305678</td>\n",
       "      <td>7200</td>\n",
       "      <td>1015305678</td>\n",
       "    </tr>\n",
       "    <tr>\n",
       "      <th>347058</th>\n",
       "      <td>7140</td>\n",
       "      <td>1015329135</td>\n",
       "      <td>7200</td>\n",
       "      <td>1015329135</td>\n",
       "    </tr>\n",
       "    <tr>\n",
       "      <th>347059</th>\n",
       "      <td>7140</td>\n",
       "      <td>1015454933</td>\n",
       "      <td>7200</td>\n",
       "      <td>1015454933</td>\n",
       "    </tr>\n",
       "  </tbody>\n",
       "</table>\n",
       "<p>347060 rows × 4 columns</p>\n",
       "</div>"
      ],
      "text/plain": [
       "        time_1  rk_deact_1  time_2  rk_deact_2\n",
       "0         5100       13957    5160       13957\n",
       "1         5100      150328    5160      150328\n",
       "2         5100      206362    5160      206362\n",
       "3         5100      207674    5160      207674\n",
       "4         5100      218111    5160      218111\n",
       "...        ...         ...     ...         ...\n",
       "347055    7140  1015230609    7200  1015230609\n",
       "347056    7140  1015266378    7200  1015266378\n",
       "347057    7140  1015305678    7200  1015305678\n",
       "347058    7140  1015329135    7200  1015329135\n",
       "347059    7140  1015454933    7200  1015454933\n",
       "\n",
       "[347060 rows x 4 columns]"
      ]
     },
     "execution_count": 70,
     "metadata": {},
     "output_type": "execute_result"
    }
   ],
   "source": [
    "cols = ['time_1', 'rk_deact_1', 'time_2', 'rk_deact_2']\n",
    "test = df[cols]\n",
    "test"
   ]
  },
  {
   "cell_type": "code",
   "execution_count": 71,
   "id": "14654f99-11a5-4d5e-88d4-55b3b1c22f5f",
   "metadata": {},
   "outputs": [
    {
     "data": {
      "text/plain": [
       "9916"
      ]
     },
     "execution_count": 71,
     "metadata": {},
     "output_type": "execute_result"
    }
   ],
   "source": [
    "# split into training and test data\n",
    "ids = df['rk_deact_1'].unique()\n",
    "len(ids)"
   ]
  },
  {
   "cell_type": "code",
   "execution_count": 72,
   "id": "5fab7e52-222d-4d42-bba6-486dd5a7a497",
   "metadata": {},
   "outputs": [
    {
     "name": "stdout",
     "output_type": "stream",
     "text": [
      "7932 1984\n"
     ]
    }
   ],
   "source": [
    "ids_train, ids_test = train_test_split(ids, test_size=0.2, random_state=666)\n",
    "print(len(ids_train), len(ids_test))"
   ]
  },
  {
   "cell_type": "code",
   "execution_count": 73,
   "id": "d3ff10ae-f43c-4f89-83ee-338f1e9aa208",
   "metadata": {},
   "outputs": [],
   "source": [
    "df_train = df[df['rk_deact_1'].isin(ids_train)]\n",
    "df_test = df[df['rk_deact_1'].isin(ids_test)]"
   ]
  },
  {
   "cell_type": "markdown",
   "id": "4a9f44f8-fe09-4865-b1bf-697410450fb8",
   "metadata": {},
   "source": [
    "# Linear model"
   ]
  },
  {
   "cell_type": "code",
   "execution_count": 74,
   "id": "77d551cc-5a3a-487f-9e4b-b01a9d3e6c3a",
   "metadata": {},
   "outputs": [
    {
     "data": {
      "text/plain": [
       "Index(['level_0_1', 'Unnamed: 0_1', 'rk_deact_1', 'x[m]_1', 'y[m]_1', 'z[m]_1',\n",
       "       'vz[m]_1', 'radius(droplet)[m]_1',\n",
       "       'mass_of_aerosol_in_droplet/ice(1:01)[g]_1', 'radius_eq(ice)[m]_1',\n",
       "       'radius_pol(ice)[m]_1', 'density(droplet/ice)[kg/m3]_1',\n",
       "       'rhod [kg/m3]_1', 'multiplicity[-]_1', 'status[-]_1', 'index_1',\n",
       "       'rime_mass[kg]_1', 'num_of_monomers[-]_1', 'time_1', 'xi gridbox_1',\n",
       "       'yk gridbox_1', 'zh gridbox_1', 'time index_1', 'rh_1', 'th_1', 'prs_1',\n",
       "       'qv_1', 'uinterp_1', 'vinterp_1', 'winterp_1', 'out8_1', 'out9_1',\n",
       "       'out10_1', 'out11_1', 'out12_1', 'out13_1', 'out14_1', 'deactrat_1',\n",
       "       'T [K]_1', 'RH_ice_1', 'RH_liquid_1', 'RH_diff_1', 'volume[m3]_1',\n",
       "       'mass[kg]_1', 'level_0_2', 'Unnamed: 0_2', 'rk_deact_2', 'x[m]_2',\n",
       "       'y[m]_2', 'z[m]_2', 'vz[m]_2', 'radius(droplet)[m]_2',\n",
       "       'mass_of_aerosol_in_droplet/ice(1:01)[g]_2', 'radius_eq(ice)[m]_2',\n",
       "       'radius_pol(ice)[m]_2', 'density(droplet/ice)[kg/m3]_2',\n",
       "       'rhod [kg/m3]_2', 'multiplicity[-]_2', 'status[-]_2', 'index_2',\n",
       "       'rime_mass[kg]_2', 'num_of_monomers[-]_2', 'time_2', 'xi gridbox_2',\n",
       "       'yk gridbox_2', 'zh gridbox_2', 'time index_2', 'rh_2', 'th_2', 'prs_2',\n",
       "       'qv_2', 'uinterp_2', 'vinterp_2', 'winterp_2', 'out8_2', 'out9_2',\n",
       "       'out10_2', 'out11_2', 'out12_2', 'out13_2', 'out14_2', 'deactrat_2',\n",
       "       'T [K]_2', 'RH_ice_2', 'RH_liquid_2', 'RH_diff_2', 'volume[m3]_2',\n",
       "       'mass[kg]_2'],\n",
       "      dtype='object')"
      ]
     },
     "execution_count": 74,
     "metadata": {},
     "output_type": "execute_result"
    }
   ],
   "source": [
    "df_train.columns"
   ]
  },
  {
   "cell_type": "code",
   "execution_count": 81,
   "id": "f0aac19b-e27b-4f8c-af69-76a4033a5378",
   "metadata": {},
   "outputs": [],
   "source": [
    "# train model and predict\n",
    "model = linear_model.LinearRegression()\n",
    "X_cols = ['RH_ice_1', 'mass[kg]_1']\n",
    "y_cols = ['mass[kg]_2']\n",
    "X_train = df_train[X_cols]\n",
    "y_train = df_train[y_cols]\n",
    "X_test = df_test[X_cols]\n",
    "y_test = df_test[y_cols]\n",
    "model.fit(X_train, y_train)\n",
    "y_pred = model.predict(X_test)"
   ]
  },
  {
   "cell_type": "code",
   "execution_count": 85,
   "id": "b8fc7df8-3faa-4346-8c42-f0f6900163c1",
   "metadata": {},
   "outputs": [
    {
     "data": {
      "text/plain": [
       "(69440, 2)"
      ]
     },
     "execution_count": 85,
     "metadata": {},
     "output_type": "execute_result"
    }
   ],
   "source": [
    "X_test.shape"
   ]
  },
  {
   "cell_type": "code",
   "execution_count": 86,
   "id": "82900e16-e9fd-42e3-bb38-eccbae5730e8",
   "metadata": {},
   "outputs": [
    {
     "data": {
      "text/plain": [
       "(69440, 1)"
      ]
     },
     "execution_count": 86,
     "metadata": {},
     "output_type": "execute_result"
    }
   ],
   "source": [
    "y_test.shape"
   ]
  },
  {
   "cell_type": "code",
   "execution_count": 88,
   "id": "d2f44e6c-980f-40d9-bf15-f373786c9eb8",
   "metadata": {},
   "outputs": [
    {
     "data": {
      "text/plain": [
       "Index(['level_0_1', 'Unnamed: 0_1', 'rk_deact_1', 'x[m]_1', 'y[m]_1', 'z[m]_1',\n",
       "       'vz[m]_1', 'radius(droplet)[m]_1',\n",
       "       'mass_of_aerosol_in_droplet/ice(1:01)[g]_1', 'radius_eq(ice)[m]_1',\n",
       "       'radius_pol(ice)[m]_1', 'density(droplet/ice)[kg/m3]_1',\n",
       "       'rhod [kg/m3]_1', 'multiplicity[-]_1', 'status[-]_1', 'index_1',\n",
       "       'rime_mass[kg]_1', 'num_of_monomers[-]_1', 'time_1', 'xi gridbox_1',\n",
       "       'yk gridbox_1', 'zh gridbox_1', 'time index_1', 'rh_1', 'th_1', 'prs_1',\n",
       "       'qv_1', 'uinterp_1', 'vinterp_1', 'winterp_1', 'out8_1', 'out9_1',\n",
       "       'out10_1', 'out11_1', 'out12_1', 'out13_1', 'out14_1', 'deactrat_1',\n",
       "       'T [K]_1', 'RH_ice_1', 'RH_liquid_1', 'RH_diff_1', 'volume[m3]_1',\n",
       "       'mass[kg]_1', 'level_0_2', 'Unnamed: 0_2', 'rk_deact_2', 'x[m]_2',\n",
       "       'y[m]_2', 'z[m]_2', 'vz[m]_2', 'radius(droplet)[m]_2',\n",
       "       'mass_of_aerosol_in_droplet/ice(1:01)[g]_2', 'radius_eq(ice)[m]_2',\n",
       "       'radius_pol(ice)[m]_2', 'density(droplet/ice)[kg/m3]_2',\n",
       "       'rhod [kg/m3]_2', 'multiplicity[-]_2', 'status[-]_2', 'index_2',\n",
       "       'rime_mass[kg]_2', 'num_of_monomers[-]_2', 'time_2', 'xi gridbox_2',\n",
       "       'yk gridbox_2', 'zh gridbox_2', 'time index_2', 'rh_2', 'th_2', 'prs_2',\n",
       "       'qv_2', 'uinterp_2', 'vinterp_2', 'winterp_2', 'out8_2', 'out9_2',\n",
       "       'out10_2', 'out11_2', 'out12_2', 'out13_2', 'out14_2', 'deactrat_2',\n",
       "       'T [K]_2', 'RH_ice_2', 'RH_liquid_2', 'RH_diff_2', 'volume[m3]_2',\n",
       "       'mass[kg]_2'],\n",
       "      dtype='object')"
      ]
     },
     "execution_count": 88,
     "metadata": {},
     "output_type": "execute_result"
    }
   ],
   "source": [
    "df_train.columns"
   ]
  },
  {
   "cell_type": "code",
   "execution_count": 89,
   "id": "47ea2dbb-3680-4721-82f3-6f8d444171d2",
   "metadata": {},
   "outputs": [
    {
     "name": "stderr",
     "output_type": "stream",
     "text": [
      "/glade/derecho/scratch/joko/tmp/ipykernel_17083/3446523609.py:1: SettingWithCopyWarning: \n",
      "A value is trying to be set on a copy of a slice from a DataFrame.\n",
      "Try using .loc[row_indexer,col_indexer] = value instead\n",
      "\n",
      "See the caveats in the documentation: https://pandas.pydata.org/pandas-docs/stable/user_guide/indexing.html#returning-a-view-versus-a-copy\n",
      "  df_train['mass_diff']=df_train['mass[kg]_2'] - df_train['mass[kg]_1']\n"
     ]
    },
    {
     "data": {
      "text/plain": [
       "<matplotlib.collections.PathCollection at 0x14e225e36ed0>"
      ]
     },
     "execution_count": 89,
     "metadata": {},
     "output_type": "execute_result"
    },
    {
     "data": {
      "image/png": "[encoded data removed]",
      "text/plain": [
       "<Figure size 640x480 with 1 Axes>"
      ]
     },
     "metadata": {},
     "output_type": "display_data"
    }
   ],
   "source": [
    "# plot mass growth vs. RH_ice relationship\n",
    "df_train['mass_diff']=df_train['mass[kg]_2'] - df_train['mass[kg]_1']\n",
    "plt.scatter(df_train['mass_diff'], df_train['RH_ice_1'], color=\"black\")"
   ]
  },
  {
   "cell_type": "code",
   "execution_count": 102,
   "id": "dcdc4507-7c1d-4e86-8abd-3c5d0e8c2bb5",
   "metadata": {},
   "outputs": [
    {
     "name": "stdout",
     "output_type": "stream",
     "text": [
      "Coefficients: \n",
      " [[7.48105249e-10 9.88957221e-01]]\n",
      "Mean squared error: 0.00\n",
      "Coefficient of determination: 1.00\n"
     ]
    },
    {
     "data": {
      "image/png": "[encoded data removed]",
      "text/plain": [
       "<Figure size 640x480 with 1 Axes>"
      ]
     },
     "metadata": {},
     "output_type": "display_data"
    }
   ],
   "source": [
    "# plot results\n",
    "\n",
    "# The coefficients\n",
    "print(\"Coefficients: \\n\", model.coef_)\n",
    "# The mean squared error\n",
    "print(\"Mean squared error: %.2f\" % mean_squared_error(y_test, y_pred))\n",
    "# The coefficient of determination: 1 is perfect prediction\n",
    "print(\"Coefficient of determination: %.2f\" % r2_score(y_test, y_pred))\n",
    "\n",
    "# Plot outputs\n",
    "plt.scatter(y_pred, y_test, color=\"black\")\n",
    "# plt.plot(X_test, y_pred, color=\"blue\", linewidth=3)\n",
    "\n",
    "# plt.xticks(())\n",
    "# plt.yticks(())\n",
    "\n",
    "plt.show()"
   ]
  },
  {
   "cell_type": "markdown",
   "id": "826334a5-a51e-4cfe-b5b7-9ede6ee34bb3",
   "metadata": {},
   "source": [
    "## multi-step prediction with single-timestep linear model"
   ]
  },
  {
   "cell_type": "markdown",
   "id": "3f5bf980-9adc-4ef7-b526-9cf10c440c0d",
   "metadata": {},
   "source": [
    "i.e., what happens if we predict mass change in a markov chain fashion over multiple time steps into the future?"
   ]
  },
  {
   "cell_type": "code",
   "execution_count": null,
   "id": "4a1d8ae8-54ce-427c-a907-6b5aa080c5ac",
   "metadata": {},
   "outputs": [],
   "source": []
  },
  {
   "cell_type": "markdown",
   "id": "8d2c5630-7222-4d70-bb72-2b9d18ef2381",
   "metadata": {},
   "source": [
    "# Random forest"
   ]
  },
  {
   "cell_type": "code",
   "execution_count": 186,
   "id": "086102ca-dd28-4dff-aac2-62b372fc662b",
   "metadata": {},
   "outputs": [
    {
     "name": "stdout",
     "output_type": "stream",
     "text": [
      "(50000, 2)\n",
      "(50000, 1)\n"
     ]
    }
   ],
   "source": [
    "# get subset for faster training (if needed)\n",
    "X_train_subset = X_train.sample(50000)\n",
    "train_idx = X_train_subset.index\n",
    "y_train_subset = y_train.loc[train_idx]\n",
    "print(X_train_subset.shape)\n",
    "print(y_train_subset.shape)"
   ]
  },
  {
   "cell_type": "code",
   "execution_count": 187,
   "id": "b50015b3-323c-4c93-9349-4f7cd2ccbeff",
   "metadata": {},
   "outputs": [
    {
     "data": {
      "text/plain": [
       "50415"
      ]
     },
     "execution_count": 187,
     "metadata": {},
     "output_type": "execute_result"
    }
   ],
   "source": [
    "rf = RandomForestRegressor(n_estimators=100, random_state=666, max_depth=50, \n",
    "                           bootstrap=True, criterion='poisson')\n",
    "# rf.fit(X_train, y_train.values.ravel())\n",
    "rf.fit(X_train_subset, y_train_subset.values.ravel())\n",
    "y_pred_rf = rf.predict(X_test)\n",
    "len(np.unique(y_pred_rf))"
   ]
  },
  {
   "cell_type": "code",
   "execution_count": 188,
   "id": "e240741c-6cd4-4eb5-966c-cbccf73e698a",
   "metadata": {},
   "outputs": [
    {
     "name": "stdout",
     "output_type": "stream",
     "text": [
      "Coefficients: \n",
      " [[7.48105249e-10 9.88957221e-01]]\n",
      "Mean squared error: 0.00\n",
      "Coefficient of determination: 0.14\n"
     ]
    },
    {
     "data": {
      "image/png": "[encoded data removed]",
      "text/plain": [
       "<Figure size 640x480 with 1 Axes>"
      ]
     },
     "metadata": {},
     "output_type": "display_data"
    }
   ],
   "source": [
    "# plot results\n",
    "\n",
    "# The coefficients\n",
    "print(\"Coefficients: \\n\", model.coef_)\n",
    "# The mean squared error\n",
    "print(\"Mean squared error: %.2f\" % mean_squared_error(y_test, y_pred_rf))\n",
    "# The coefficient of determination: 1 is perfect prediction\n",
    "print(\"Coefficient of determination: %.2f\" % r2_score(y_test, y_pred_rf))\n",
    "\n",
    "# Plot outputs\n",
    "plt.scatter(y_pred_rf, y_test, color=\"black\")\n",
    "# plt.plot(X_test, y_pred, color=\"blue\", linewidth=3)\n",
    "\n",
    "# plt.xticks(())\n",
    "# plt.yticks(())\n",
    "\n",
    "plt.show()"
   ]
  },
  {
   "cell_type": "markdown",
   "id": "bbdc53b5-c5b5-4860-a243-a3f0c8363285",
   "metadata": {},
   "source": [
    "Notes on RF:  \n",
    "- seems to be quite sensitive to hyperparameters\n",
    "- squared_error and friendmas_mse returns a single value\n",
    "- poisson and absolute_error return different values\n",
    "- absolute_error is very slow\n",
    "- seems to do much worse than linear regression"
   ]
  },
  {
   "cell_type": "markdown",
   "id": "cd3aa712-bb6e-4c3f-a8c2-00ca7ee42307",
   "metadata": {},
   "source": [
    "# scikit MLP"
   ]
  },
  {
   "cell_type": "code",
   "execution_count": 204,
   "id": "ae4f492e-bd59-4ec0-91ed-73e19b513694",
   "metadata": {},
   "outputs": [],
   "source": [
    "# # get subset for faster training (if needed)\n",
    "# X_train_subset = X_train.sample(50000)\n",
    "# train_idx = X_train_subset.index\n",
    "# y_train_subset = y_train.loc[train_idx]\n",
    "# print(X_train_subset.shape)\n",
    "# print(y_train_subset.shape)"
   ]
  },
  {
   "cell_type": "code",
   "execution_count": null,
   "id": "d73ede2f-9a7d-419f-8b9e-f1a9179eed6c",
   "metadata": {},
   "outputs": [],
   "source": [
    "# make mass_change the target\n"
   ]
  },
  {
   "cell_type": "code",
   "execution_count": 226,
   "id": "6026a39a-3c4b-41a6-8139-815d5c1eef12",
   "metadata": {},
   "outputs": [],
   "source": [
    "# fit mlp and predict\n",
    "mlp = MLPRegressor(random_state=666, max_iter=500, \n",
    "                   hidden_layer_sizes=(100))\n",
    "# mlp.fit(X_train, y_train.values.ravel())\n",
    "# y_pred_mlp = mlp.predict(X_test)\n",
    "y_scaler = StandardScaler().fit(y_train.values)\n",
    "pipe = make_pipeline(StandardScaler(), mlp)\n",
    "# pipe.fit(X_train, y_train.values.ravel())\n",
    "pipe.fit(X_train, y_scaler.transform(y_train.values).ravel())\n",
    "y_pred_mlp_scaled = pipe.predict(X_test)\n",
    "y_pred_mlp = y_scaler.inverse_transform(y_pred_mlp_scaled.reshape(-1, 1))"
   ]
  },
  {
   "cell_type": "code",
   "execution_count": 230,
   "id": "8d553e52-8db4-49da-a027-8115877f5640",
   "metadata": {},
   "outputs": [
    {
     "name": "stdout",
     "output_type": "stream",
     "text": [
      "Coefficients: \n",
      " [[7.48105249e-10 9.88957221e-01]]\n",
      "Mean squared error: 0.00\n",
      "Coefficient of determination: 1.00\n"
     ]
    },
    {
     "data": {
      "image/png": "[encoded data removed]",
      "text/plain": [
       "<Figure size 640x480 with 1 Axes>"
      ]
     },
     "metadata": {},
     "output_type": "display_data"
    }
   ],
   "source": [
    "# plot results\n",
    "\n",
    "# The coefficients\n",
    "print(\"Coefficients: \\n\", model.coef_)\n",
    "# The mean squared error\n",
    "print(\"Mean squared error: %.2f\" % mean_squared_error(y_test, y_pred_mlp))\n",
    "# The coefficient of determination: 1 is perfect prediction\n",
    "print(\"Coefficient of determination: %.2f\" % r2_score(y_test, y_pred_mlp))\n",
    "\n",
    "# Plot outputs\n",
    "fig, ax = plt.subplots()\n",
    "plt.scatter(y_pred_mlp, y_test, color=\"blue\", alpha=0.8)\n",
    "ax.set_box_aspect(1)\n",
    "plt.show()"
   ]
  },
  {
   "cell_type": "code",
   "execution_count": null,
   "id": "80282e50-440d-4caa-83f6-9cd9d1cb2ac3",
   "metadata": {},
   "outputs": [],
   "source": []
  },
  {
   "cell_type": "code",
   "execution_count": null,
   "id": "37e99aad-8a82-4f99-aafa-428699dd72c1",
   "metadata": {},
   "outputs": [],
   "source": []
  }
 ],
 "metadata": {
  "kernelspec": {
   "display_name": "NPL 2024a",
   "language": "python",
   "name": "npl-2024a"
  },
  "language_info": {
   "codemirror_mode": {
    "name": "ipython",
    "version": 3
   },
   "file_extension": ".py",
   "mimetype": "text/x-python",
   "name": "python",
   "nbconvert_exporter": "python",
   "pygments_lexer": "ipython3",
   "version": "3.11.6"
  }
 },
 "nbformat": 4,
 "nbformat_minor": 5
}
