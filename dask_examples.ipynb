{
 "cells": [
  {
   "cell_type": "markdown",
   "id": "93d75831-49fd-4c70-8577-5a5fe4bcac81",
   "metadata": {},
   "source": [
    "Examples demonstrating the use of Dask with xarray and pandas\n",
    "- Use NPL2024a kernel on NCAR Jupyterhub"
   ]
  },
  {
   "cell_type": "code",
   "execution_count": 1,
   "id": "082e10e4-a931-4b28-9e86-c952a12b30f4",
   "metadata": {},
   "outputs": [
    {
     "name": "stderr",
     "output_type": "stream",
     "text": [
      "/glade/u/apps/opt/conda/envs/npl-2024a/lib/python3.11/site-packages/dask/dataframe/_pyarrow_compat.py:17: FutureWarning: Minimal version of pyarrow will soon be increased to 14.0.1. You are using 13.0.0. Please consider upgrading.\n",
      "  warnings.warn(\n"
     ]
    }
   ],
   "source": [
    "# Libraries for reading and working with multidimensional arrays\n",
    "import numpy as np\n",
    "import xarray as xr\n",
    "import datetime\n",
    "import pandas as pd\n",
    "# dask\n",
    "from dask_jobqueue import PBSCluster\n",
    "import dask.dataframe as dd\n",
    "# Libraries to assist with animation and visualisations\n",
    "import matplotlib.pyplot as plt\n",
    "from matplotlib import animation\n",
    "from IPython.display import HTML\n",
    "# other\n",
    "import os, glob\n",
    "from pathlib import Path\n",
    "import time\n",
    "import datetime"
   ]
  },
  {
   "cell_type": "markdown",
   "id": "643bfee8-313c-4852-a2a8-1c8a416b045f",
   "metadata": {},
   "source": [
    "# Set up the dask cluster"
   ]
  },
  {
   "cell_type": "code",
   "execution_count": 2,
   "id": "c993d31b-daf7-4f14-8199-bf96e55d143c",
   "metadata": {},
   "outputs": [
    {
     "name": "stdout",
     "output_type": "stream",
     "text": [
      "#!/usr/bin/env bash\n",
      "\n",
      "#PBS -N dask-worker\n",
      "#PBS -q casper\n",
      "#PBS -A UPSU0052\n",
      "#PBS -l select=1:ncpus=1:mem=15GB\n",
      "#PBS -l walltime=02:00:00\n",
      "\n",
      "/glade/u/apps/opt/conda/envs/npl-2024a/bin/python -m distributed.cli.dask_worker tcp://128.117.208.112:42035 --nthreads 1 --memory-limit 14.90GiB --name dummy-name --nanny --death-timeout 60\n",
      "\n"
     ]
    }
   ],
   "source": [
    "# connect to dask distributed cluster\n",
    "n_jobs = 8 # specify number of jobs\n",
    "# !!!IMPORTANT!!! -> you need to change the account parameter below to an account you belong to\n",
    "cluster = PBSCluster(account='UPSU0052', \n",
    "                     queue='casper', \n",
    "                     memory='16GB', \n",
    "                     cores=1, \n",
    "                     processes=1, \n",
    "                     walltime='02:00:00')\n",
    "cluster.scale(jobs=n_jobs) # scale up by n_jobs\n",
    "client = cluster.get_client()\n",
    "print(cluster.job_script()) # show the submitted job script"
   ]
  },
  {
   "cell_type": "code",
   "execution_count": 3,
   "id": "4e0236a6-307e-4ec6-92d6-54643daeefa9",
   "metadata": {},
   "outputs": [
    {
     "name": "stdout",
     "output_type": "stream",
     "text": [
      "                                                            Req'd  Req'd   Elap\n",
      "Job ID          Username Queue    Jobname    SessID NDS TSK Memory Time  S Time\n",
      "--------------- -------- -------- ---------- ------ --- --- ------ ----- - -----\n",
      "1595182.casper* joko     htc      STDIN       59457   1   1   16gb 12:00 R 00:39\n"
     ]
    }
   ],
   "source": [
    "# check that dask-workers are in queue or running (may take a couple minutes)\n",
    "!qstat -u joko # change to your usename"
   ]
  },
  {
   "cell_type": "code",
   "execution_count": 4,
   "id": "5c2551a6-51bb-412a-b8da-15beeefa1a3f",
   "metadata": {},
   "outputs": [
    {
     "data": {
      "text/html": [
       "<div>\n",
       "    <div style=\"width: 24px; height: 24px; background-color: #e1e1e1; border: 3px solid #9D9D9D; border-radius: 5px; position: absolute;\"> </div>\n",
       "    <div style=\"margin-left: 48px;\">\n",
       "        <h3 style=\"margin-bottom: 0px;\">Client</h3>\n",
       "        <p style=\"color: #9D9D9D; margin-bottom: 0px;\">Client-e9386e89-2da6-11ef-a12e-3cecef1acbfa</p>\n",
       "        <table style=\"width: 100%; text-align: left;\">\n",
       "\n",
       "        <tr>\n",
       "        \n",
       "            <td style=\"text-align: left;\"><strong>Connection method:</strong> Cluster object</td>\n",
       "            <td style=\"text-align: left;\"><strong>Cluster type:</strong> dask_jobqueue.PBSCluster</td>\n",
       "        \n",
       "        </tr>\n",
       "\n",
       "        \n",
       "            <tr>\n",
       "                <td style=\"text-align: left;\">\n",
       "                    <strong>Dashboard: </strong> <a href=\"https://jupyterhub.hpc.ucar.edu/stable/user/joko/proxy/8787/status\" target=\"_blank\">https://jupyterhub.hpc.ucar.edu/stable/user/joko/proxy/8787/status</a>\n",
       "                </td>\n",
       "                <td style=\"text-align: left;\"></td>\n",
       "            </tr>\n",
       "        \n",
       "\n",
       "        </table>\n",
       "\n",
       "        \n",
       "            <button style=\"margin-bottom: 12px;\" data-commandlinker-command=\"dask:populate-and-launch-layout\" data-commandlinker-args='{\"url\": \"https://jupyterhub.hpc.ucar.edu/stable/user/joko/proxy/8787/status\" }'>\n",
       "                Launch dashboard in JupyterLab\n",
       "            </button>\n",
       "        \n",
       "\n",
       "        \n",
       "            <details>\n",
       "            <summary style=\"margin-bottom: 20px;\"><h3 style=\"display: inline;\">Cluster Info</h3></summary>\n",
       "            <div class=\"jp-RenderedHTMLCommon jp-RenderedHTML jp-mod-trusted jp-OutputArea-output\">\n",
       "    <div style=\"width: 24px; height: 24px; background-color: #e1e1e1; border: 3px solid #9D9D9D; border-radius: 5px; position: absolute;\">\n",
       "    </div>\n",
       "    <div style=\"margin-left: 48px;\">\n",
       "        <h3 style=\"margin-bottom: 0px; margin-top: 0px;\">PBSCluster</h3>\n",
       "        <p style=\"color: #9D9D9D; margin-bottom: 0px;\">2bcfdec7</p>\n",
       "        <table style=\"width: 100%; text-align: left;\">\n",
       "            <tr>\n",
       "                <td style=\"text-align: left;\">\n",
       "                    <strong>Dashboard:</strong> <a href=\"https://jupyterhub.hpc.ucar.edu/stable/user/joko/proxy/8787/status\" target=\"_blank\">https://jupyterhub.hpc.ucar.edu/stable/user/joko/proxy/8787/status</a>\n",
       "                </td>\n",
       "                <td style=\"text-align: left;\">\n",
       "                    <strong>Workers:</strong> 1\n",
       "                </td>\n",
       "            </tr>\n",
       "            <tr>\n",
       "                <td style=\"text-align: left;\">\n",
       "                    <strong>Total threads:</strong> 1\n",
       "                </td>\n",
       "                <td style=\"text-align: left;\">\n",
       "                    <strong>Total memory:</strong> 14.90 GiB\n",
       "                </td>\n",
       "            </tr>\n",
       "            \n",
       "        </table>\n",
       "\n",
       "        <details>\n",
       "            <summary style=\"margin-bottom: 20px;\">\n",
       "                <h3 style=\"display: inline;\">Scheduler Info</h3>\n",
       "            </summary>\n",
       "\n",
       "            <div style=\"\">\n",
       "    <div>\n",
       "        <div style=\"width: 24px; height: 24px; background-color: #FFF7E5; border: 3px solid #FF6132; border-radius: 5px; position: absolute;\"> </div>\n",
       "        <div style=\"margin-left: 48px;\">\n",
       "            <h3 style=\"margin-bottom: 0px;\">Scheduler</h3>\n",
       "            <p style=\"color: #9D9D9D; margin-bottom: 0px;\">Scheduler-28db9590-7d67-4166-b7b4-b3ad2fd3b4d4</p>\n",
       "            <table style=\"width: 100%; text-align: left;\">\n",
       "                <tr>\n",
       "                    <td style=\"text-align: left;\">\n",
       "                        <strong>Comm:</strong> tcp://128.117.208.112:42035\n",
       "                    </td>\n",
       "                    <td style=\"text-align: left;\">\n",
       "                        <strong>Workers:</strong> 1\n",
       "                    </td>\n",
       "                </tr>\n",
       "                <tr>\n",
       "                    <td style=\"text-align: left;\">\n",
       "                        <strong>Dashboard:</strong> <a href=\"https://jupyterhub.hpc.ucar.edu/stable/user/joko/proxy/8787/status\" target=\"_blank\">https://jupyterhub.hpc.ucar.edu/stable/user/joko/proxy/8787/status</a>\n",
       "                    </td>\n",
       "                    <td style=\"text-align: left;\">\n",
       "                        <strong>Total threads:</strong> 1\n",
       "                    </td>\n",
       "                </tr>\n",
       "                <tr>\n",
       "                    <td style=\"text-align: left;\">\n",
       "                        <strong>Started:</strong> Just now\n",
       "                    </td>\n",
       "                    <td style=\"text-align: left;\">\n",
       "                        <strong>Total memory:</strong> 14.90 GiB\n",
       "                    </td>\n",
       "                </tr>\n",
       "            </table>\n",
       "        </div>\n",
       "    </div>\n",
       "\n",
       "    <details style=\"margin-left: 48px;\">\n",
       "        <summary style=\"margin-bottom: 20px;\">\n",
       "            <h3 style=\"display: inline;\">Workers</h3>\n",
       "        </summary>\n",
       "\n",
       "        \n",
       "        <div style=\"margin-bottom: 20px;\">\n",
       "            <div style=\"width: 24px; height: 24px; background-color: #DBF5FF; border: 3px solid #4CC9FF; border-radius: 5px; position: absolute;\"> </div>\n",
       "            <div style=\"margin-left: 48px;\">\n",
       "            <details>\n",
       "                <summary>\n",
       "                    <h4 style=\"margin-bottom: 0px; display: inline;\">Worker: PBSCluster-0</h4>\n",
       "                </summary>\n",
       "                <table style=\"width: 100%; text-align: left;\">\n",
       "                    <tr>\n",
       "                        <td style=\"text-align: left;\">\n",
       "                            <strong>Comm: </strong> tcp://128.117.208.75:37993\n",
       "                        </td>\n",
       "                        <td style=\"text-align: left;\">\n",
       "                            <strong>Total threads: </strong> 1\n",
       "                        </td>\n",
       "                    </tr>\n",
       "                    <tr>\n",
       "                        <td style=\"text-align: left;\">\n",
       "                            <strong>Dashboard: </strong> <a href=\"https://jupyterhub.hpc.ucar.edu/stable/user/joko/proxy/33997/status\" target=\"_blank\">https://jupyterhub.hpc.ucar.edu/stable/user/joko/proxy/33997/status</a>\n",
       "                        </td>\n",
       "                        <td style=\"text-align: left;\">\n",
       "                            <strong>Memory: </strong> 14.90 GiB\n",
       "                        </td>\n",
       "                    </tr>\n",
       "                    <tr>\n",
       "                        <td style=\"text-align: left;\">\n",
       "                            <strong>Nanny: </strong> tcp://128.117.208.75:43487\n",
       "                        </td>\n",
       "                        <td style=\"text-align: left;\"></td>\n",
       "                    </tr>\n",
       "                    <tr>\n",
       "                        <td colspan=\"2\" style=\"text-align: left;\">\n",
       "                            <strong>Local directory: </strong> /glade/derecho/scratch/joko/tmp/dask-scratch-space/worker-y9wj258k\n",
       "                        </td>\n",
       "                    </tr>\n",
       "\n",
       "                    \n",
       "\n",
       "                    \n",
       "\n",
       "                </table>\n",
       "            </details>\n",
       "            </div>\n",
       "        </div>\n",
       "        \n",
       "\n",
       "    </details>\n",
       "</div>\n",
       "\n",
       "        </details>\n",
       "    </div>\n",
       "</div>\n",
       "            </details>\n",
       "        \n",
       "\n",
       "    </div>\n",
       "</div>"
      ],
      "text/plain": [
       "<Client: 'tcp://128.117.208.112:42035' processes=0 threads=0, memory=0 B>"
      ]
     },
     "execution_count": 4,
     "metadata": {},
     "output_type": "execute_result"
    }
   ],
   "source": [
    "# launch client dashboard to visualize dask diagnostics \n",
    "# click on \"Launch dashboard in JupyterLab\" \n",
    "client"
   ]
  },
  {
   "cell_type": "markdown",
   "id": "e87fb099-3ad6-4404-be58-045bfbf876f5",
   "metadata": {
    "jp-MarkdownHeadingCollapsed": true
   },
   "source": [
    "# Xarray example\n",
    "Load a collection of netcdf CM1 output files and do basic calculations"
   ]
  },
  {
   "cell_type": "code",
   "execution_count": null,
   "id": "1f067b37-6b17-4dc4-9a6c-f146acacd789",
   "metadata": {},
   "outputs": [],
   "source": [
    "# Load bunch of netcdf files as single dataset\n",
    "data_folder = '/glade/derecho/scratch/joko/cm1-iceball-nucleation-exp/200' # sample experiment: CM1 simulation with bulk microphysics\n",
    "save_folder = '/glade/work/joko/nucleation-test/output' # where to save modified dataset (if you want)\n",
    "Path(save_folder).mkdir(parents=True, exist_ok=True) # make folder if it doesn't exist\n",
    "bulk_vars = ['qi2', 'qi4'] # subset of variables to look at \n",
    "file_path = f'{data_folder}/cm1out_0*.nc' # lets us select all nc files with cm1out- prefix in data_folder\n",
    "ds = xr.open_mfdataset(file_path, combine='nested', concat_dim=['time'], preprocess=lambda ds: ds[bulk_vars]) # open collection netcdf files"
   ]
  },
  {
   "cell_type": "markdown",
   "id": "d8dc2232-7a6a-45db-8fa2-b767f8d73f22",
   "metadata": {},
   "source": [
    "If you look at the data variables in the ds, you will see that the data is chunked automatically by dask under the hood. You can see the visualization of the chunk by pressing the 'Show/Hide data repr' (three little stacked disks symbol) next to a data variable (e.g., qi2). These chunks are sent to the N workers you spawned earlier and they are processed in parallel when you execute some calculations."
   ]
  },
  {
   "cell_type": "code",
   "execution_count": null,
   "id": "0f60c39b-eac8-4a57-9146-0632681f7f51",
   "metadata": {},
   "outputs": [],
   "source": [
    "ds"
   ]
  },
  {
   "cell_type": "code",
   "execution_count": null,
   "id": "5a2f645a-5097-44d5-9498-878cea22394b",
   "metadata": {},
   "outputs": [],
   "source": [
    "# define some calculations (e.g., calculate the mean, sum, etc.)\n",
    "ds_mean = ds.mean(dim=['xh', 'yh']) # calculate mean vertical profile\n",
    "ds_mean = ds_mean.assign(qi = ds_mean['qi2'] + ds_mean['qi4']) # sum/assign total mass mixing ratio"
   ]
  },
  {
   "cell_type": "code",
   "execution_count": null,
   "id": "cbe1c765-0389-41cb-82eb-4e69835d9c26",
   "metadata": {},
   "outputs": [],
   "source": [
    "ds_mean"
   ]
  },
  {
   "cell_type": "markdown",
   "id": "264d7b03-7597-4cf8-95e9-797d53f25f37",
   "metadata": {},
   "source": [
    "At this point, the calculations haven't actually been executed. You will need to explicitly call compute() for dask to execute the computations across the distibuted cluster."
   ]
  },
  {
   "cell_type": "code",
   "execution_count": null,
   "id": "00b6a3c9-78f7-4cdd-9ec5-ead9520c61dc",
   "metadata": {},
   "outputs": [],
   "source": [
    "# execute the calculations\n",
    "ds_mean = ds_mean.compute()"
   ]
  },
  {
   "cell_type": "code",
   "execution_count": null,
   "id": "0bf0faf1-5277-4ccd-9a63-fe742f542b34",
   "metadata": {},
   "outputs": [],
   "source": [
    "# look at the new dataset (now you will see numeric values in the dataset)\n",
    "ds_mean"
   ]
  },
  {
   "cell_type": "code",
   "execution_count": null,
   "id": "6d5a1f30-73f2-40e7-99be-963d37aadbd8",
   "metadata": {},
   "outputs": [],
   "source": [
    "# Example viz: create animation of vertical profile changing over the simulation time period\n",
    "\n",
    "# initialize plot\n",
    "fig, ax = plt.subplots(figsize=(3, 4))\n",
    "line, = ax.plot(ds_mean.qi[0, :], ds_mean.zh)\n",
    "x_max, y_max = 9e-5, 14\n",
    "ax.set_xlabel('qi [kg/kg]', fontsize=12)\n",
    "ax.set_ylabel('z [km]', fontsize=12)\n",
    "ax.set_ylim(0, y_max)\n",
    "ax.set_xlim(0, x_max)\n",
    "fig.set_tight_layout(True)\n",
    "time_array = ds_mean.time.values\n",
    "\n",
    "# create function that will be called by animation object\n",
    "frames = 37\n",
    "def animate(i):\n",
    "    line.set_xdata(ds_mean.qi[i, :])\n",
    "    timestamp = time_array[i]\n",
    "    timestamp_seconds = timestamp / np.timedelta64(1, 's')\n",
    "    timestamp_str = str(datetime.timedelta(seconds = timestamp_seconds))\n",
    "    title = f'qi, mass mixing ratio: {timestamp_str} [H:MM:SS]'\n",
    "    ax.set_title(title, fontsize=8)\n",
    "    return line,\n",
    "    \n",
    "# create animation object & save\n",
    "ani = animation.FuncAnimation(fig, animate, frames, interval=150)\n",
    "\n",
    "# # if you want to save the figure\n",
    "# save_folder = '/glade/u/home/joko/cm1/analysis/bulk_sdm_comparison/output/figures' # folder to save\n",
    "# save_filename = 'bulk_old_irho6_qi_z_profile_ts.mp4' # name of file to save\n",
    "# save_path = os.path.join(save_folder, save_filename)\n",
    "# ani.save(save_path)\n",
    "\n",
    "# display w/ Javascript\n",
    "HTML(ani.to_jshtml())"
   ]
  },
  {
   "cell_type": "markdown",
   "id": "fd45ed00-5dfa-42ef-b78a-d212581a495d",
   "metadata": {
    "jp-MarkdownHeadingCollapsed": true
   },
   "source": [
    "# Pandas example\n",
    "Load a collection of CM1 SDM trajectory files and do basic calculations"
   ]
  },
  {
   "cell_type": "code",
   "execution_count": null,
   "id": "37c84870-4757-428a-936d-3a864fa52776",
   "metadata": {},
   "outputs": [],
   "source": [
    "# Read 10 files from single timestep (05400) \n",
    "data_folder = '/glade/derecho/scratch/klamb/superdroplets/outsdm_iceball_nowind_rhod_dist_min200_time_var_sgs_1024_poly_trj/SDM_trajs'\n",
    "file_path = f'{data_folder}/SD_output_ASCII_05400*' # files with 05400 timestamp prefix\n",
    "list_paths = glob.glob(file_path)\n",
    "list_paths.sort()\n",
    "n_files = 10 # just use first 10 files\n",
    "colnames =['x[m]', 'y[m]', 'z[m]', 'vz[m]','radius(droplet)[m]',\n",
    "           'mass_of_aerosol_in_droplet/ice(1:01)[g]', 'radius_eq(ice)[m]',\n",
    "           'radius_pol(ice)[m]', 'density(droplet/ice)[kg/m3]', 'rhod [kg/m3]',\n",
    "           'multiplicity[-]','status[-]','index','rime_mass[kg]',\n",
    "           'num_of_monomers[-]','rk_deact']\n",
    "# df = dd.read_csv(list_paths[:n_files])\n",
    "df = dd.read_csv(list_paths[:n_files], sep = '\\s+', skiprows=1, \n",
    "                 header=None, delim_whitespace=False, \n",
    "                 names=colnames).set_index('rk_deact')\n",
    "df"
   ]
  },
  {
   "cell_type": "markdown",
   "id": "bbc0fa30-bd23-402d-9cc3-becd7e172668",
   "metadata": {},
   "source": [
    "Dask has paritioned the dataset into 10 parts - one for each file."
   ]
  },
  {
   "cell_type": "code",
   "execution_count": null,
   "id": "c88bfac6-28d8-4b08-a8ff-8d82de7bbfab",
   "metadata": {},
   "outputs": [],
   "source": [
    "df.visualize()"
   ]
  },
  {
   "cell_type": "markdown",
   "id": "b9d77a86-d828-4e4d-b0fb-cd1b3a9df2fa",
   "metadata": {},
   "source": [
    "first basic computation: len() will trigger a load + computation"
   ]
  },
  {
   "cell_type": "code",
   "execution_count": null,
   "id": "3e81bf7a-9ae4-4347-9fcc-3f76bd4b3916",
   "metadata": {},
   "outputs": [],
   "source": [
    "# load and count number of rows \n",
    "len(df)"
   ]
  },
  {
   "cell_type": "markdown",
   "id": "d4049271-496f-4e7a-8986-c18801e8de8d",
   "metadata": {},
   "source": [
    "Do a more non-trivial computation"
   ]
  },
  {
   "cell_type": "code",
   "execution_count": null,
   "id": "324ca07e-13d6-4a12-97ce-9e94e41d6314",
   "metadata": {},
   "outputs": [],
   "source": [
    "df.columns"
   ]
  },
  {
   "cell_type": "code",
   "execution_count": null,
   "id": "baa16b90-8f5c-49f8-a018-ef213a51e7fe",
   "metadata": {},
   "outputs": [],
   "source": [
    "# find max deposition density in df\n",
    "rhod_max = df['rhod [kg/m3]'].mean()\n",
    "rhod_max.compute()"
   ]
  },
  {
   "cell_type": "code",
   "execution_count": null,
   "id": "c1813b1a-6673-4022-9ac2-6a5f4f291e3d",
   "metadata": {},
   "outputs": [],
   "source": [
    "# calculate mass [kg] of each particle \n",
    "vol = (4/3) * np.pi * (df['radius_eq(ice)[m]'])**3\n",
    "mass = vol * df['density(droplet/ice)[kg/m3]']\n",
    "mass = mass.compute()\n",
    "mass[:10] # print first values"
   ]
  },
  {
   "cell_type": "markdown",
   "id": "7484896d-0c28-474b-9183-78260564b141",
   "metadata": {},
   "source": [
    "# Simple speed test: dask vs. regular pandas"
   ]
  },
  {
   "cell_type": "markdown",
   "id": "ae77ce38-9ed6-4607-9d9e-d2677d693c55",
   "metadata": {},
   "source": [
    "In this example, we compare dask vs. regular (serial) pandas for a simple mean calculation on a column. Here we show that dask may not always be beneficial to use. Generally, if the data is small and fits easily on memory, regular pandas may actually be faster! We demonstrate this here by doing the same calculation, except in Case (1) we use 10 files and in Case (2) we use 576 files. "
   ]
  },
  {
   "cell_type": "markdown",
   "id": "a9e8c9d6-2a59-474f-a539-f764c22031c6",
   "metadata": {},
   "source": [
    "## Case (1): 10 files"
   ]
  },
  {
   "cell_type": "code",
   "execution_count": 12,
   "id": "27626cf1-52b4-4543-b4f6-8f27b073074c",
   "metadata": {},
   "outputs": [
    {
     "name": "stdout",
     "output_type": "stream",
     "text": [
      "576\n"
     ]
    }
   ],
   "source": [
    "# Get list of files from single timestep (05400) --> should be 576 files in total\n",
    "data_folder = '/glade/derecho/scratch/klamb/superdroplets/outsdm_iceball_nowind_rhod_dist_min200_time_var_sgs_1024_poly_trj/SDM_trajs'\n",
    "file_path = f'{data_folder}/SD_output_ASCII_05400*' # files with 05400 timestamp prefix\n",
    "list_paths = glob.glob(file_path)\n",
    "list_paths.sort()\n",
    "print(len(list_paths))\n",
    "n_files = 10\n",
    "colnames =['x[m]', 'y[m]', 'z[m]', 'vz[m]','radius(droplet)[m]',\n",
    "           'mass_of_aerosol_in_droplet/ice(1:01)[g]', 'radius_eq(ice)[m]',\n",
    "           'radius_pol(ice)[m]', 'density(droplet/ice)[kg/m3]', 'rhod [kg/m3]',\n",
    "           'multiplicity[-]','status[-]','index','rime_mass[kg]',\n",
    "           'num_of_monomers[-]','rk_deact']"
   ]
  },
  {
   "cell_type": "markdown",
   "id": "604176a1-07db-489b-9a20-7a0bd5da83a8",
   "metadata": {},
   "source": [
    "(a) Using Dask"
   ]
  },
  {
   "cell_type": "code",
   "execution_count": 13,
   "id": "4bf9b829-0263-4ee2-80a3-05ad404f710c",
   "metadata": {},
   "outputs": [
    {
     "name": "stdout",
     "output_type": "stream",
     "text": [
      "rhod_max = 326.9066903097588\n",
      "CPU times: user 259 ms, sys: 24.7 ms, total: 283 ms\n",
      "Wall time: 724 ms\n"
     ]
    }
   ],
   "source": [
    "%%time\n",
    "\n",
    "df = dd.read_csv(list_paths[:n_files], sep = '\\s+', skiprows=1, \n",
    "                 header=None, delim_whitespace=False, \n",
    "                 names=colnames).set_index('rk_deact')\n",
    "# find max deposition density in df\n",
    "rhod_max = df['rhod [kg/m3]'].mean()\n",
    "rhod_max = rhod_max.compute()\n",
    "print(f'rhod_max = {rhod_max}')"
   ]
  },
  {
   "cell_type": "markdown",
   "id": "1cd1648f-e18a-4c9e-b98f-e1f7e5fb3de6",
   "metadata": {},
   "source": [
    "(b) Serially using pandas"
   ]
  },
  {
   "cell_type": "code",
   "execution_count": 14,
   "id": "7ae2b330-4d05-4a5d-a9d4-10b415c0f9ab",
   "metadata": {},
   "outputs": [
    {
     "name": "stdout",
     "output_type": "stream",
     "text": [
      "rhod_max = 326.9066903097588\n",
      "CPU times: user 131 ms, sys: 9.02 ms, total: 140 ms\n",
      "Wall time: 211 ms\n"
     ]
    }
   ],
   "source": [
    "%%time\n",
    "data = [] # list of df's\n",
    "for f in list_paths[:n_files]:\n",
    "    df = pd.read_csv(f, sep = '\\s+', skiprows=1, \n",
    "                 header=None, delim_whitespace=False, \n",
    "                 names=colnames).set_index('rk_deact')\n",
    "    data.append(df)\n",
    "df = pd.concat(data)\n",
    "# find max deposition density in df\n",
    "rhod_max = df['rhod [kg/m3]'].mean()\n",
    "print(f'rhod_max = {rhod_max}')"
   ]
  },
  {
   "cell_type": "markdown",
   "id": "19da7efb-858d-4652-8080-36b1dbdc22ce",
   "metadata": {},
   "source": [
    "## Case (2): 576 files"
   ]
  },
  {
   "cell_type": "code",
   "execution_count": 15,
   "id": "18a14517-4dc4-4d7b-8c8f-337706ccda3a",
   "metadata": {},
   "outputs": [
    {
     "name": "stdout",
     "output_type": "stream",
     "text": [
      "576\n"
     ]
    }
   ],
   "source": [
    "# Get list of files from single timestep (05400) --> should be 576 files in total\n",
    "data_folder = '/glade/derecho/scratch/klamb/superdroplets/outsdm_iceball_nowind_rhod_dist_min200_time_var_sgs_1024_poly_trj/SDM_trajs'\n",
    "file_path = f'{data_folder}/SD_output_ASCII_05400*' # files with 05400 timestamp prefix\n",
    "list_paths = glob.glob(file_path)\n",
    "list_paths.sort()\n",
    "print(len(list_paths))\n",
    "n_files = len(list_paths)\n",
    "colnames =['x[m]', 'y[m]', 'z[m]', 'vz[m]','radius(droplet)[m]',\n",
    "           'mass_of_aerosol_in_droplet/ice(1:01)[g]', 'radius_eq(ice)[m]',\n",
    "           'radius_pol(ice)[m]', 'density(droplet/ice)[kg/m3]', 'rhod [kg/m3]',\n",
    "           'multiplicity[-]','status[-]','index','rime_mass[kg]',\n",
    "           'num_of_monomers[-]','rk_deact']"
   ]
  },
  {
   "cell_type": "markdown",
   "id": "aeee96c4-eb9d-4938-a676-be64e845a195",
   "metadata": {},
   "source": [
    "(a) Using Dask"
   ]
  },
  {
   "cell_type": "code",
   "execution_count": 17,
   "id": "d510bc39-7cb0-4391-8908-b26ae9e8174f",
   "metadata": {},
   "outputs": [
    {
     "name": "stdout",
     "output_type": "stream",
     "text": [
      "rhod_max = 324.2411671882189\n",
      "CPU times: user 6.61 s, sys: 363 ms, total: 6.97 s\n",
      "Wall time: 12.1 s\n"
     ]
    }
   ],
   "source": [
    "%%time\n",
    "n_files = len(list_paths)\n",
    "colnames =['x[m]', 'y[m]', 'z[m]', 'vz[m]','radius(droplet)[m]',\n",
    "           'mass_of_aerosol_in_droplet/ice(1:01)[g]', 'radius_eq(ice)[m]',\n",
    "           'radius_pol(ice)[m]', 'density(droplet/ice)[kg/m3]', 'rhod [kg/m3]',\n",
    "           'multiplicity[-]','status[-]','index','rime_mass[kg]',\n",
    "           'num_of_monomers[-]','rk_deact']\n",
    "df = dd.read_csv(list_paths[:n_files], sep = '\\s+', skiprows=1, \n",
    "                 header=None, delim_whitespace=False, \n",
    "                 names=colnames).set_index('rk_deact')\n",
    "# find max deposition density in df\n",
    "rhod_max = df['rhod [kg/m3]'].mean()\n",
    "rhod_max = rhod_max.compute()\n",
    "print(f'rhod_max = {rhod_max}')"
   ]
  },
  {
   "cell_type": "markdown",
   "id": "c39cd9bb-7529-494f-b894-6725ae6ac9b0",
   "metadata": {},
   "source": [
    "(b) Serial using Pandas"
   ]
  },
  {
   "cell_type": "code",
   "execution_count": 18,
   "id": "5f3e4593-bf73-405e-9c5f-061f323196b8",
   "metadata": {},
   "outputs": [
    {
     "name": "stdout",
     "output_type": "stream",
     "text": [
      "rhod_max = 324.2411671882188\n",
      "CPU times: user 7.39 s, sys: 4.72 s, total: 12.1 s\n",
      "Wall time: 38.9 s\n"
     ]
    }
   ],
   "source": [
    "%%time\n",
    "data = [] # list of df's\n",
    "for f in list_paths[:n_files]:\n",
    "    df = pd.read_csv(f, sep = '\\s+', skiprows=1, \n",
    "                 header=None, delim_whitespace=False, \n",
    "                 names=colnames).set_index('rk_deact')\n",
    "    data.append(df)\n",
    "df = pd.concat(data)\n",
    "# find max deposition density in df\n",
    "rhod_max = df['rhod [kg/m3]'].mean()\n",
    "print(f'rhod_max = {rhod_max}')"
   ]
  },
  {
   "cell_type": "markdown",
   "id": "c543af05-81f3-4ba0-91c9-048877e9747f",
   "metadata": {},
   "source": [
    "Summary: (values may vary by machine and # dask workers)\n",
    "| | Dask Pandas | Serial Pandas |\n",
    "| --- | --- | --- |\n",
    "| n_files=10 | 724 ms | 211 ms |\n",
    "| n_files=576 | 12.1 s | 38.9 s |\n",
    "\n",
    "The takeaway: Use Dask with caution! You will generally only see the scaling advantage of distributed computing as the data gets larger. I.e. if the data is small and fits on memory, it's probably best to use regular pandas or xarray."
   ]
  },
  {
   "cell_type": "code",
   "execution_count": null,
   "id": "282024b6-e826-4c98-b7dd-859244b074db",
   "metadata": {},
   "outputs": [],
   "source": []
  },
  {
   "cell_type": "code",
   "execution_count": null,
   "id": "de74bdb2-3780-4188-8837-d763b4410d34",
   "metadata": {},
   "outputs": [],
   "source": []
  },
  {
   "cell_type": "code",
   "execution_count": null,
   "id": "515e6687-e6c7-44fa-97ec-b1bfd7d1bf38",
   "metadata": {},
   "outputs": [],
   "source": []
  }
 ],
 "metadata": {
  "kernelspec": {
   "display_name": "NPL 2024a",
   "language": "python",
   "name": "npl-2024a"
  },
  "language_info": {
   "codemirror_mode": {
    "name": "ipython",
    "version": 3
   },
   "file_extension": ".py",
   "mimetype": "text/x-python",
   "name": "python",
   "nbconvert_exporter": "python",
   "pygments_lexer": "ipython3",
   "version": "3.11.6"
  }
 },
 "nbformat": 4,
 "nbformat_minor": 5
}
