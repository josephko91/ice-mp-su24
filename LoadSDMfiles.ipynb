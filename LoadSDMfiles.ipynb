{
 "cells": [
  {
   "cell_type": "markdown",
   "id": "ad796ee9-a982-4c21-a866-8391b8e7f667",
   "metadata": {},
   "source": [
    "## This notebook shows how the superdroplet datasets on the Derecho scratch can be accessed"
   ]
  },
  {
   "cell_type": "code",
   "execution_count": 1,
   "id": "47df7e39-11f4-44e5-9452-eecf6706d249",
   "metadata": {},
   "outputs": [],
   "source": [
    "from load_trajectories import get_timestamps, load_trajectories"
   ]
  },
  {
   "cell_type": "code",
   "execution_count": 2,
   "id": "7630d2ce-b2a7-4e5d-9ced-f30aa5a5d417",
   "metadata": {},
   "outputs": [
    {
     "data": {
      "text/plain": [
       "<function load_trajectories.load_trajectories(dirpath, num_timesteps=1, times=None)>"
      ]
     },
     "execution_count": 2,
     "metadata": {},
     "output_type": "execute_result"
    }
   ],
   "source": [
    "load_trajectories"
   ]
  },
  {
   "cell_type": "code",
   "execution_count": 3,
   "id": "41f59684-cb0e-4880-93d0-327e9361fecd",
   "metadata": {},
   "outputs": [],
   "source": [
    "# Using the NPL 2024a kernel\n",
    "import os\n",
    "import os.path\n",
    "\n",
    "import dask\n",
    "import dask.dataframe as dd\n",
    "import numpy as np\n",
    "import pandas as pd\n",
    "import xarray as xr\n",
    "from matplotlib import pyplot as plt"
   ]
  },
  {
   "cell_type": "code",
   "execution_count": 76,
   "id": "c42b4497-2669-4aae-86b8-4ca3edb411e2",
   "metadata": {},
   "outputs": [],
   "source": [
    "%matplotlib inline"
   ]
  },
  {
   "cell_type": "markdown",
   "id": "27719631-ec74-443c-a760-c28082cc5963",
   "metadata": {},
   "source": [
    "## Environmental variable file\n",
    "This first filetype includes the time evolution of the simulated cloud in the 3D domain (the microphysical evolution of the cloud and its interaction with the dynamic environmnent)"
   ]
  },
  {
   "cell_type": "code",
   "execution_count": 77,
   "id": "fa50e83a-7fd0-474d-bd37-56c7a423e167",
   "metadata": {},
   "outputs": [],
   "source": [
    "# filepaths for 3d variables\n",
    "dirpath = \"/glade/derecho/scratch/klamb/superdroplets/outsdm_iceball_nowind_rhod_dist_min200_time_var_sgs_1024_poly_trj/\"\n",
    "fn = \"cm1out.nc\""
   ]
  },
  {
   "cell_type": "code",
   "execution_count": 78,
   "id": "ac520e87-0b38-4d4d-95a4-ca6b610b70b9",
   "metadata": {},
   "outputs": [
    {
     "name": "stdout",
     "output_type": "stream",
     "text": [
      "/glade/derecho/scratch/klamb/superdroplets/outsdm_iceball_nowind_rhod_dist_min200_time_var_sgs_1024_poly_trj/cm1out.nc\n"
     ]
    }
   ],
   "source": [
    "newncfilepath = os.path.join(dirpath, fn)\n",
    "print(newncfilepath)"
   ]
  },
  {
   "cell_type": "code",
   "execution_count": 79,
   "id": "f889dde4-2cfd-4f86-b6d6-c63b3b82c666",
   "metadata": {},
   "outputs": [],
   "source": [
    "nc = xr.open_dataset(newncfilepath)"
   ]
  },
  {
   "cell_type": "code",
   "execution_count": 80,
   "id": "977b7279-1e9c-48f9-bff7-baebf3fbac97",
   "metadata": {},
   "outputs": [
    {
     "data": {
      "text/plain": [
       "<xarray.Dataset>\n",
       "Dimensions:   (ni: 120, nip1: 121, nj: 120, njp1: 121, nk: 140, nkp1: 141, one: 1, time: 41)\n",
       "Coordinates:\n",
       "  * time      (time) timedelta64[ns] 01:26:00 01:27:00 ... 02:00:00.000488\n",
       "Dimensions without coordinates: ni, nip1, nj, njp1, nk, nkp1, one\n",
       "Data variables:\n",
       "    f_cor     (one) float32 ...\n",
       "    ztop      (one) float32 ...\n",
       "    xh        (ni) float32 ...\n",
       "    xf        (nip1) float32 ...\n",
       "    yh        (nj) float32 ...\n",
       "    yf        (njp1) float32 ...\n",
       "    z         (nk) float32 ...\n",
       "    zf        (nkp1) float32 ...\n",
       "    sgs       (time, nj, ni) float32 ...\n",
       "    actrate   (time, nk, nj, ni) float32 ...\n",
       "    deactrat  (time, nk, nj, ni) float32 ...\n",
       "    rh        (time, nk, nj, ni) float32 ...\n",
       "    th        (time, nk, nj, ni) float32 ...\n",
       "    prs       (time, nk, nj, ni) float32 ...\n",
       "    qv        (time, nk, nj, ni) float32 ...\n",
       "    qc        (time, nk, nj, ni) float32 ...\n",
       "    qr        (time, nk, nj, ni) float32 ...\n",
       "    qa        (time, nk, nj, ni) float32 ...\n",
       "    qi        (time, nk, nj, ni) float32 ...\n",
       "    qs        (time, nk, nj, ni) float32 ...\n",
       "    qg        (time, nk, nj, ni) float32 ...\n",
       "    uinterp   (time, nk, nj, ni) float32 ...\n",
       "    vinterp   (time, nk, nj, ni) float32 ...\n",
       "    winterp   (time, nk, nj, ni) float32 ...\n",
       "    swten     (time, nk, nj, ni) float32 ...\n",
       "    lwten     (time, nk, nj, ni) float32 ...\n",
       "    cldfra    (time, nk, nj, ni) float32 ...\n",
       "    effc      (time, nk, nj, ni) float32 ...\n",
       "    out1      (time, nk, nj, ni) float32 ...\n",
       "    out2      (time, nk, nj, ni) float32 ...\n",
       "    out3      (time, nk, nj, ni) float32 ...\n",
       "    out4      (time, nk, nj, ni) float32 ...\n",
       "    out5      (time, nk, nj, ni) float32 ...\n",
       "    out6      (time, nk, nj, ni) float32 ...\n",
       "    out7      (time, nk, nj, ni) float32 ...\n",
       "    out8      (time, nk, nj, ni) float32 ...\n",
       "    out9      (time, nk, nj, ni) float32 ...\n",
       "    out10     (time, nk, nj, ni) float32 ...\n",
       "    out11     (time, nk, nj, ni) float32 ...\n",
       "    out12     (time, nk, nj, ni) float32 ...\n",
       "    out13     (time, nk, nj, ni) float32 ...\n",
       "    out14     (time, nk, nj, ni) float32 ...\n",
       "    tke       (time, nkp1, nj, ni) float32 ...\n",
       "Attributes:\n",
       "    cm1 version:  cm1r19.1\n",
       "    x_units:      km\n",
       "    x_label:      x\n",
       "    y_units:      km\n",
       "    y_label:      y\n",
       "    z_units:      km\n",
       "    z_label:      z\n",
       "    nx:           120\n",
       "    ny:           120\n",
       "    nz:           140\n",
       "    imoist:       1\n",
       "    sgsmodel:     1\n",
       "    tconfig:      1\n",
       "    bcturbs:      1\n",
       "    ptype:        7\n",
       "    wbc:          1\n",
       "    ebc:          1\n",
       "    sbc:          1\n",
       "    nbc:          1\n",
       "    bbc:          3\n",
       "    tbc:          1\n",
       "    iorigin:      1\n",
       "    axisymm:      0\n",
       "    iptra:        0\n",
       "    npt:          1\n",
       "    fcor:         7.5994336e-05\n",
       "    radopt:       2\n",
       "    dtrad:        300.0\n",
       "    ctrlat:       36.68\n",
       "    ctrlon:       -98.35\n",
       "    year:         2021\n",
       "    month:        10\n",
       "    day:          21\n",
       "    hour:         21\n",
       "    minute:       0\n",
       "    second:       0\n",
       "    sfcmodel:     2\n",
       "    oceanmodel:   1\n",
       "    ipbl:         0\n",
       "    iice:         1\n",
       "    idm:          0\n",
       "    idmplus:      0\n",
       "    numq:         7\n",
       "    nql1:         2\n",
       "    nql2:         4\n",
       "    nqs1:         5\n",
       "    nqs2:         7\n",
       "    nnc1:         1\n",
       "    nnc2:         1\n",
       "    nzl1:         1\n",
       "    nzl2:         1\n",
       "    nvl1:         1\n",
       "    nvl2:         1\n",
       "    c_m:          0.1\n",
       "    c_e1:         0.20000169\n",
       "    c_e2:         0.7869588\n",
       "    c_s:          0.17841241\n",
       "    cgs1:         1.875\n",
       "    cgs2:         -1.25\n",
       "    cgs3:         0.375\n",
       "    dgs1:         -2.0\n",
       "    dgs2:         3.0\n",
       "    dgs3:         -1.0\n",
       "    cgt1:         1.875\n",
       "    cgt2:         -1.25\n",
       "    cgt3:         0.375\n",
       "    dgt1:         2.0\n",
       "    dgt2:         -3.0\n",
       "    dgt3:         1.0"
      ]
     },
     "execution_count": 80,
     "metadata": {},
     "output_type": "execute_result"
    }
   ],
   "source": [
    "# check what variables are available in this file\n",
    "nc"
   ]
  },
  {
   "cell_type": "markdown",
   "id": "503fcb76-5f01-4278-a759-d04d4cc0ec06",
   "metadata": {},
   "source": [
    "Definitions of the output variables specific for ice deposition simulations are given below:\n",
    "- out8: mean size in um (a)\n",
    "- out9: mean size in um (c)\n",
    "- out10: ice number mixing ratio (#/kg)\n",
    "- out11: mean settling velocity (m/s)\n",
    "- out12: mean ice density (kg/m^3)\n",
    "- out13: standard deviation of size in um (a_std)\n",
    "- out14: standard deviation of size in um (c_std)\n",
    "- deactrat: mean deposition/sublimation rate (kg/kg/s)"
   ]
  },
  {
   "cell_type": "code",
   "execution_count": 81,
   "id": "e75452e0-d093-4d45-b7d1-9bf9316878f7",
   "metadata": {},
   "outputs": [
    {
     "data": {
      "text/plain": [
       "<matplotlib.image.AxesImage at 0x14c021549438>"
      ]
     },
     "execution_count": 81,
     "metadata": {},
     "output_type": "execute_result"
    },
    {
     "data": {
      "image/png": "[encoded data removed]",
      "text/plain": [
       "<Figure size 432x288 with 1 Axes>"
      ]
     },
     "metadata": {
      "needs_background": "light"
     },
     "output_type": "display_data"
    }
   ],
   "source": [
    "# this plots the horizontal velocity for a specific time (z vs. x)\n",
    "plt.imshow(nc[\"vinterp\"][24, :, 60, :], origin=\"lower\")"
   ]
  },
  {
   "cell_type": "markdown",
   "id": "4402924d-9096-4ccd-97c1-ca17f161e8b7",
   "metadata": {},
   "source": [
    "## Superdroplet trajectory files\n",
    "These text files include the position and attributes of individual superdroplets. When the large eddy simulation is run, the calculations for individual superdroplets are distributed across different processors for computational efficiency. To load all the superdroplets at a single model time step, we need to load all of the text files that are at the same time step. The naming convention for the files (e.g. \"SD_output_ASCII_05430.pe000245\") includes the time step (in this case time_step =5430) and the processor the superdroplets were processed on (in this case, the processor = 245). "
   ]
  },
  {
   "cell_type": "code",
   "execution_count": null,
   "id": "a07b7e20-4777-4b3a-a443-6991a4b9ad7a",
   "metadata": {},
   "outputs": [],
   "source": [
    "# filepaths for trajectories\n",
    "dirpath = \"/glade/derecho/scratch/klamb/superdroplets/outsdm_iceball_nowind_rhod_dist_min200_time_var_sgs_1024_poly_trj/SDM_trajs/\"\n",
    "# this command lists all the files in the directory\n",
    "trajfiles = os.listdir(dirpath)"
   ]
  },
  {
   "cell_type": "code",
   "execution_count": 83,
   "id": "6335d04e-33bf-4d22-9103-464574a28fc0",
   "metadata": {},
   "outputs": [],
   "source": [
    "# this is the file path for the first trajectory file in the directory\n",
    "filepath = os.path.join(dirpath, trajfiles[0])"
   ]
  },
  {
   "cell_type": "code",
   "execution_count": 84,
   "id": "29776dbc-ed72-4ae8-ac74-96eeab812cfe",
   "metadata": {},
   "outputs": [
    {
     "data": {
      "text/plain": [
       "'/glade/derecho/scratch/klamb/superdroplets/outsdm_iceball_nowind_rhod_dist_min200_time_var_sgs_1024_poly_trj/SDM_trajs/SD_output_ASCII_05280.pe000020'"
      ]
     },
     "execution_count": 84,
     "metadata": {},
     "output_type": "execute_result"
    }
   ],
   "source": [
    "filepath"
   ]
  },
  {
   "cell_type": "code",
   "execution_count": 85,
   "id": "5fcf599a-0982-4db8-85f6-d840143125aa",
   "metadata": {},
   "outputs": [],
   "source": [
    "# these are the column names for the data in the ascii files\n",
    "cols = {\n",
    "    0: \"x[m]\",\n",
    "    1: \"y[m]\",\n",
    "    \n",
    "    2: \"z[m]\",\n",
    "    3: \"vz[m]\",\n",
    "    4: \"radius(droplet)[m]\",\n",
    "    5: \"mass_of_aerosol_in_droplet/ice(1:01)[g]\",\n",
    "    6: \"radius_eq(ice)[m]\",\n",
    "    7: \"radius_pol(ice)[m]\",\n",
    "    8: \"density(droplet/ice)[kg/m3]\",\n",
    "    9: \"rhod [kg/m3]\",\n",
    "    10: \"multiplicity[-]\",\n",
    "    11: \"status[-]\",\n",
    "    12: \"index\",\n",
    "    13: \"rime_mass[kg]\",\n",
    "    14: \"num_of_monomers[-]\",\n",
    "    15: \"rk_deact\",\n",
    "}\n",
    "\n",
    "colnames = [\n",
    "    \"x[m]\",\n",
    "    \"y[m]\",\n",
    "    \"z[m]\",\n",
    "    \"vz[m]\",\n",
    "    \"radius(droplet)[m]\",\n",
    "    \"mass_of_aerosol_in_droplet/ice(1:01)[g]\",\n",
    "    \"radius_eq(ice)[m]\",\n",
    "    \"radius_pol(ice)[m]\",\n",
    "    \"density(droplet/ice)[kg/m3]\",\n",
    "    \"rhod [kg/m3]\",\n",
    "    \"multiplicity[-]\",\n",
    "    \"status[-]\",\n",
    "    \"index\",\n",
    "    \"rime_mass[kg]\",\n",
    "    \"num_of_monomers[-]\",\n",
    "    \"rk_deact\",\n",
    "]"
   ]
  },
  {
   "cell_type": "code",
   "execution_count": 86,
   "id": "c2039853-46f7-4775-b94a-c832e8254cc8",
   "metadata": {},
   "outputs": [],
   "source": [
    "traj = pd.read_csv(\n",
    "    filepath,\n",
    "    sep=\"\\s+\",\n",
    "    skiprows=1,\n",
    "    header=None,\n",
    "    delim_whitespace=False,\n",
    "    names=colnames,\n",
    "    index_col=\"index\",\n",
    ")"
   ]
  },
  {
   "cell_type": "code",
   "execution_count": 93,
   "id": "c4abb86d-963e-49e0-a5ee-c59f460b8722",
   "metadata": {},
   "outputs": [
    {
     "data": {
      "text/html": [
       "<div>\n",
       "<style scoped>\n",
       "    .dataframe tbody tr th:only-of-type {\n",
       "        vertical-align: middle;\n",
       "    }\n",
       "\n",
       "    .dataframe tbody tr th {\n",
       "        vertical-align: top;\n",
       "    }\n",
       "\n",
       "    .dataframe thead th {\n",
       "        text-align: right;\n",
       "    }\n",
       "</style>\n",
       "<table border=\"1\" class=\"dataframe\">\n",
       "  <thead>\n",
       "    <tr style=\"text-align: right;\">\n",
       "      <th></th>\n",
       "      <th>index</th>\n",
       "      <th>x[m]</th>\n",
       "      <th>y[m]</th>\n",
       "      <th>z[m]</th>\n",
       "      <th>vz[m]</th>\n",
       "      <th>radius(droplet)[m]</th>\n",
       "      <th>mass_of_aerosol_in_droplet/ice(1:01)[g]</th>\n",
       "      <th>radius_eq(ice)[m]</th>\n",
       "      <th>radius_pol(ice)[m]</th>\n",
       "      <th>density(droplet/ice)[kg/m3]</th>\n",
       "      <th>rhod [kg/m3]</th>\n",
       "      <th>multiplicity[-]</th>\n",
       "      <th>status[-]</th>\n",
       "      <th>rime_mass[kg]</th>\n",
       "      <th>num_of_monomers[-]</th>\n",
       "      <th>rk_deact</th>\n",
       "    </tr>\n",
       "  </thead>\n",
       "  <tbody>\n",
       "    <tr>\n",
       "      <td>0</td>\n",
       "      <td>304</td>\n",
       "      <td>10227.159</td>\n",
       "      <td>267.207020</td>\n",
       "      <td>9817.8229</td>\n",
       "      <td>0.0</td>\n",
       "      <td>0.0</td>\n",
       "      <td>4.603646e-13</td>\n",
       "      <td>0.000029</td>\n",
       "      <td>0.000029</td>\n",
       "      <td>443.01759</td>\n",
       "      <td>203.18</td>\n",
       "      <td>13565076480</td>\n",
       "      <td>ICE</td>\n",
       "      <td>0.0</td>\n",
       "      <td>1</td>\n",
       "      <td>35277104</td>\n",
       "    </tr>\n",
       "    <tr>\n",
       "      <td>1</td>\n",
       "      <td>707</td>\n",
       "      <td>10464.579</td>\n",
       "      <td>463.374830</td>\n",
       "      <td>9222.9961</td>\n",
       "      <td>0.0</td>\n",
       "      <td>0.0</td>\n",
       "      <td>3.962118e-14</td>\n",
       "      <td>0.000021</td>\n",
       "      <td>0.000021</td>\n",
       "      <td>460.94420</td>\n",
       "      <td>332.73</td>\n",
       "      <td>70467960832</td>\n",
       "      <td>ICE</td>\n",
       "      <td>0.0</td>\n",
       "      <td>1</td>\n",
       "      <td>77707083</td>\n",
       "    </tr>\n",
       "    <tr>\n",
       "      <td>2</td>\n",
       "      <td>737</td>\n",
       "      <td>10330.807</td>\n",
       "      <td>90.648202</td>\n",
       "      <td>9668.2532</td>\n",
       "      <td>0.0</td>\n",
       "      <td>0.0</td>\n",
       "      <td>3.453011e-14</td>\n",
       "      <td>0.000025</td>\n",
       "      <td>0.000025</td>\n",
       "      <td>465.52915</td>\n",
       "      <td>496.82</td>\n",
       "      <td>72555749376</td>\n",
       "      <td>ICE</td>\n",
       "      <td>0.0</td>\n",
       "      <td>1</td>\n",
       "      <td>35277537</td>\n",
       "    </tr>\n",
       "    <tr>\n",
       "      <td>3</td>\n",
       "      <td>1077</td>\n",
       "      <td>10468.836</td>\n",
       "      <td>355.238080</td>\n",
       "      <td>9630.9639</td>\n",
       "      <td>0.0</td>\n",
       "      <td>0.0</td>\n",
       "      <td>1.333735e-14</td>\n",
       "      <td>0.000025</td>\n",
       "      <td>0.000025</td>\n",
       "      <td>449.62187</td>\n",
       "      <td>341.36</td>\n",
       "      <td>73889251328</td>\n",
       "      <td>ICE</td>\n",
       "      <td>0.0</td>\n",
       "      <td>1</td>\n",
       "      <td>35277877</td>\n",
       "    </tr>\n",
       "    <tr>\n",
       "      <td>4</td>\n",
       "      <td>1922</td>\n",
       "      <td>10250.350</td>\n",
       "      <td>302.214770</td>\n",
       "      <td>9642.4682</td>\n",
       "      <td>0.0</td>\n",
       "      <td>0.0</td>\n",
       "      <td>5.103863e-13</td>\n",
       "      <td>0.000048</td>\n",
       "      <td>0.000048</td>\n",
       "      <td>438.78979</td>\n",
       "      <td>151.36</td>\n",
       "      <td>12078625792</td>\n",
       "      <td>ICE</td>\n",
       "      <td>0.0</td>\n",
       "      <td>1</td>\n",
       "      <td>35278722</td>\n",
       "    </tr>\n",
       "    <tr>\n",
       "      <td>...</td>\n",
       "      <td>...</td>\n",
       "      <td>...</td>\n",
       "      <td>...</td>\n",
       "      <td>...</td>\n",
       "      <td>...</td>\n",
       "      <td>...</td>\n",
       "      <td>...</td>\n",
       "      <td>...</td>\n",
       "      <td>...</td>\n",
       "      <td>...</td>\n",
       "      <td>...</td>\n",
       "      <td>...</td>\n",
       "      <td>...</td>\n",
       "      <td>...</td>\n",
       "      <td>...</td>\n",
       "      <td>...</td>\n",
       "    </tr>\n",
       "    <tr>\n",
       "      <td>3367</td>\n",
       "      <td>1355947</td>\n",
       "      <td>10354.271</td>\n",
       "      <td>437.236120</td>\n",
       "      <td>9373.3480</td>\n",
       "      <td>0.0</td>\n",
       "      <td>0.0</td>\n",
       "      <td>2.185584e-13</td>\n",
       "      <td>0.000030</td>\n",
       "      <td>0.000030</td>\n",
       "      <td>450.95880</td>\n",
       "      <td>203.18</td>\n",
       "      <td>28040101888</td>\n",
       "      <td>ICE</td>\n",
       "      <td>0.0</td>\n",
       "      <td>1</td>\n",
       "      <td>36632747</td>\n",
       "    </tr>\n",
       "    <tr>\n",
       "      <td>3368</td>\n",
       "      <td>1357900</td>\n",
       "      <td>10477.751</td>\n",
       "      <td>258.113780</td>\n",
       "      <td>9774.9383</td>\n",
       "      <td>0.0</td>\n",
       "      <td>0.0</td>\n",
       "      <td>3.150492e-14</td>\n",
       "      <td>0.000033</td>\n",
       "      <td>0.000033</td>\n",
       "      <td>453.59865</td>\n",
       "      <td>436.36</td>\n",
       "      <td>73706553344</td>\n",
       "      <td>ICE</td>\n",
       "      <td>0.0</td>\n",
       "      <td>1</td>\n",
       "      <td>36634700</td>\n",
       "    </tr>\n",
       "    <tr>\n",
       "      <td>3369</td>\n",
       "      <td>1357996</td>\n",
       "      <td>10257.743</td>\n",
       "      <td>301.673990</td>\n",
       "      <td>9736.2547</td>\n",
       "      <td>0.0</td>\n",
       "      <td>0.0</td>\n",
       "      <td>7.116150e-13</td>\n",
       "      <td>0.000030</td>\n",
       "      <td>0.000030</td>\n",
       "      <td>454.92888</td>\n",
       "      <td>583.18</td>\n",
       "      <td>8099348992</td>\n",
       "      <td>ICE</td>\n",
       "      <td>0.0</td>\n",
       "      <td>1</td>\n",
       "      <td>36634796</td>\n",
       "    </tr>\n",
       "    <tr>\n",
       "      <td>3370</td>\n",
       "      <td>1358316</td>\n",
       "      <td>10131.488</td>\n",
       "      <td>425.010980</td>\n",
       "      <td>8788.9003</td>\n",
       "      <td>0.0</td>\n",
       "      <td>0.0</td>\n",
       "      <td>4.931359e-13</td>\n",
       "      <td>0.000113</td>\n",
       "      <td>0.000113</td>\n",
       "      <td>422.20476</td>\n",
       "      <td>419.09</td>\n",
       "      <td>12560335872</td>\n",
       "      <td>ICE</td>\n",
       "      <td>0.0</td>\n",
       "      <td>1</td>\n",
       "      <td>36635116</td>\n",
       "    </tr>\n",
       "    <tr>\n",
       "      <td>3371</td>\n",
       "      <td>1358461</td>\n",
       "      <td>10085.412</td>\n",
       "      <td>381.675710</td>\n",
       "      <td>9082.0438</td>\n",
       "      <td>0.0</td>\n",
       "      <td>0.0</td>\n",
       "      <td>7.889367e-13</td>\n",
       "      <td>0.000079</td>\n",
       "      <td>0.000079</td>\n",
       "      <td>423.93475</td>\n",
       "      <td>393.18</td>\n",
       "      <td>7097793536</td>\n",
       "      <td>ICE</td>\n",
       "      <td>0.0</td>\n",
       "      <td>1</td>\n",
       "      <td>36635261</td>\n",
       "    </tr>\n",
       "  </tbody>\n",
       "</table>\n",
       "<p>3372 rows × 16 columns</p>\n",
       "</div>"
      ],
      "text/plain": [
       "        index       x[m]        y[m]       z[m]  vz[m]  radius(droplet)[m]  \\\n",
       "0         304  10227.159  267.207020  9817.8229    0.0                 0.0   \n",
       "1         707  10464.579  463.374830  9222.9961    0.0                 0.0   \n",
       "2         737  10330.807   90.648202  9668.2532    0.0                 0.0   \n",
       "3        1077  10468.836  355.238080  9630.9639    0.0                 0.0   \n",
       "4        1922  10250.350  302.214770  9642.4682    0.0                 0.0   \n",
       "...       ...        ...         ...        ...    ...                 ...   \n",
       "3367  1355947  10354.271  437.236120  9373.3480    0.0                 0.0   \n",
       "3368  1357900  10477.751  258.113780  9774.9383    0.0                 0.0   \n",
       "3369  1357996  10257.743  301.673990  9736.2547    0.0                 0.0   \n",
       "3370  1358316  10131.488  425.010980  8788.9003    0.0                 0.0   \n",
       "3371  1358461  10085.412  381.675710  9082.0438    0.0                 0.0   \n",
       "\n",
       "      mass_of_aerosol_in_droplet/ice(1:01)[g]  radius_eq(ice)[m]  \\\n",
       "0                                4.603646e-13           0.000029   \n",
       "1                                3.962118e-14           0.000021   \n",
       "2                                3.453011e-14           0.000025   \n",
       "3                                1.333735e-14           0.000025   \n",
       "4                                5.103863e-13           0.000048   \n",
       "...                                       ...                ...   \n",
       "3367                             2.185584e-13           0.000030   \n",
       "3368                             3.150492e-14           0.000033   \n",
       "3369                             7.116150e-13           0.000030   \n",
       "3370                             4.931359e-13           0.000113   \n",
       "3371                             7.889367e-13           0.000079   \n",
       "\n",
       "      radius_pol(ice)[m]  density(droplet/ice)[kg/m3]  rhod [kg/m3]  \\\n",
       "0               0.000029                    443.01759        203.18   \n",
       "1               0.000021                    460.94420        332.73   \n",
       "2               0.000025                    465.52915        496.82   \n",
       "3               0.000025                    449.62187        341.36   \n",
       "4               0.000048                    438.78979        151.36   \n",
       "...                  ...                          ...           ...   \n",
       "3367            0.000030                    450.95880        203.18   \n",
       "3368            0.000033                    453.59865        436.36   \n",
       "3369            0.000030                    454.92888        583.18   \n",
       "3370            0.000113                    422.20476        419.09   \n",
       "3371            0.000079                    423.93475        393.18   \n",
       "\n",
       "      multiplicity[-] status[-]  rime_mass[kg]  num_of_monomers[-]  rk_deact  \n",
       "0         13565076480       ICE            0.0                   1  35277104  \n",
       "1         70467960832       ICE            0.0                   1  77707083  \n",
       "2         72555749376       ICE            0.0                   1  35277537  \n",
       "3         73889251328       ICE            0.0                   1  35277877  \n",
       "4         12078625792       ICE            0.0                   1  35278722  \n",
       "...               ...       ...            ...                 ...       ...  \n",
       "3367      28040101888       ICE            0.0                   1  36632747  \n",
       "3368      73706553344       ICE            0.0                   1  36634700  \n",
       "3369       8099348992       ICE            0.0                   1  36634796  \n",
       "3370      12560335872       ICE            0.0                   1  36635116  \n",
       "3371       7097793536       ICE            0.0                   1  36635261  \n",
       "\n",
       "[3372 rows x 16 columns]"
      ]
     },
     "execution_count": 93,
     "metadata": {},
     "output_type": "execute_result"
    }
   ],
   "source": [
    "traj = traj[traj[\"z[m]\"] > 0]\n",
    "traj.reset_index()"
   ]
  },
  {
   "cell_type": "code",
   "execution_count": 40,
   "id": "01806344-3b16-4b3b-ac2b-38d1cdc33a49",
   "metadata": {},
   "outputs": [],
   "source": [
    "# load the data for a single trajectory file using pandas\n",
    "# ATTEMPT TO USE THE DASK FOR FILE\n",
    "\n",
    "# traj= dd.read_csv(filepath,sep = '\\s+',skiprows=1,header=None,delim_whitespace=False,names=colnames,index_col='index')\n",
    "# traj = dd.read_csv"
   ]
  },
  {
   "cell_type": "code",
   "execution_count": 95,
   "id": "d1277f30-1259-458f-aaae-399bc1bba221",
   "metadata": {},
   "outputs": [
    {
     "data": {
      "text/plain": [
       "<xarray.Dataset>\n",
       "Dimensions:                                  (index: 3372)\n",
       "Coordinates:\n",
       "  * index                                    (index) int64 304 707 ... 1358461\n",
       "Data variables:\n",
       "    x[m]                                     (index) float64 1.023e+04 ... 1.009e+04\n",
       "    y[m]                                     (index) float64 267.2 ... 381.7\n",
       "    z[m]                                     (index) float64 9.818e+03 ... 9.082e+03\n",
       "    vz[m]                                    (index) float64 0.0 0.0 ... 0.0 0.0\n",
       "    radius(droplet)[m]                       (index) float64 0.0 0.0 ... 0.0 0.0\n",
       "    mass_of_aerosol_in_droplet/ice(1:01)[g]  (index) float64 4.604e-13 ... 7.889e-13\n",
       "    radius_eq(ice)[m]                        (index) float64 2.868e-05 ... 7.853e-05\n",
       "    radius_pol(ice)[m]                       (index) float64 2.868e-05 ... 7.853e-05\n",
       "    density(droplet/ice)[kg/m3]              (index) float64 443.0 ... 423.9\n",
       "    rhod [kg/m3]                             (index) float64 203.2 ... 393.2\n",
       "    multiplicity[-]                          (index) int64 13565076480 ... 7097793536\n",
       "    status[-]                                (index) object 'ICE' ... 'ICE'\n",
       "    rime_mass[kg]                            (index) float64 0.0 0.0 ... 0.0 0.0\n",
       "    num_of_monomers[-]                       (index) int64 1 1 1 1 1 ... 1 1 1 1\n",
       "    rk_deact                                 (index) int64 35277104 ... 36635261"
      ]
     },
     "execution_count": 95,
     "metadata": {},
     "output_type": "execute_result"
    }
   ],
   "source": [
    "trajectory = traj.to_xarray()\n",
    "trajectory"
   ]
  },
  {
   "cell_type": "code",
   "execution_count": 96,
   "id": "93f9c752-d169-47d3-b4f1-216a08b8cee4",
   "metadata": {},
   "outputs": [
    {
     "data": {
      "text/plain": [
       "[<matplotlib.lines.Line2D at 0x14c0214adb38>]"
      ]
     },
     "execution_count": 96,
     "metadata": {},
     "output_type": "execute_result"
    },
    {
     "data": {
      "image/png": "[encoded data removed]",
      "text/plain": [
       "<Figure size 432x288 with 1 Axes>"
      ]
     },
     "metadata": {
      "needs_background": "light"
     },
     "output_type": "display_data"
    }
   ],
   "source": [
    "trajectory[\"density(droplet/ice)[kg/m3]\"].plot()"
   ]
  },
  {
   "cell_type": "code",
   "execution_count": 97,
   "id": "452ea198-4594-48d8-9bc1-1d432d50d3d7",
   "metadata": {},
   "outputs": [
    {
     "data": {
      "text/plain": [
       "[<matplotlib.lines.Line2D at 0x14c0213fb780>]"
      ]
     },
     "execution_count": 97,
     "metadata": {},
     "output_type": "execute_result"
    },
    {
     "data": {
      "image/png": "[encoded data removed]",
      "text/plain": [
       "<Figure size 432x288 with 1 Axes>"
      ]
     },
     "metadata": {
      "needs_background": "light"
     },
     "output_type": "display_data"
    }
   ],
   "source": [
    "trajectory[\"radius_eq(ice)[m]\"].plot()"
   ]
  },
  {
   "cell_type": "code",
   "execution_count": 98,
   "id": "35404f8d-fca6-4236-bad1-f74443ba6435",
   "metadata": {},
   "outputs": [
    {
     "name": "stdout",
     "output_type": "stream",
     "text": [
      "[5100 5220 5340 5460 5580 5700 5820 5940 6060 6180 6300 6420 6540 6660\n",
      " 6780 6900 7020 7140]\n",
      "Loading trajectories for time 5100 \n",
      "Loading trajectories for time 5220 \n",
      "Loading trajectories for time 5340 \n",
      "Loading trajectories for time 5460 \n",
      "Loading trajectories for time 5580 \n"
     ]
    }
   ],
   "source": [
    "# trajs = load_trajectories(dirpath,num_timesteps=10)\n",
    "timestamps = get_timestamps(dirpath)\n",
    "\n",
    "# load every 4 timestamps (every two minutes)\n",
    "coarse_timestamps = timestamps[0::4]\n",
    "print(coarse_timestamps)\n",
    "trajs = load_trajectories(dirpath, num_timesteps=5, times=coarse_timestamps)\n",
    "# trajs"
   ]
  },
  {
   "cell_type": "code",
   "execution_count": 99,
   "id": "72684933-585e-4891-a8f4-3b1769a8b9b4",
   "metadata": {},
   "outputs": [
    {
     "data": {
      "text/html": [
       "<div>\n",
       "<style scoped>\n",
       "    .dataframe tbody tr th:only-of-type {\n",
       "        vertical-align: middle;\n",
       "    }\n",
       "\n",
       "    .dataframe tbody tr th {\n",
       "        vertical-align: top;\n",
       "    }\n",
       "\n",
       "    .dataframe thead th {\n",
       "        text-align: right;\n",
       "    }\n",
       "</style>\n",
       "<table border=\"1\" class=\"dataframe\">\n",
       "  <thead>\n",
       "    <tr style=\"text-align: right;\">\n",
       "      <th></th>\n",
       "      <th>x[m]</th>\n",
       "      <th>y[m]</th>\n",
       "      <th>z[m]</th>\n",
       "      <th>vz[m]</th>\n",
       "      <th>radius(droplet)[m]</th>\n",
       "      <th>mass_of_aerosol_in_droplet/ice(1:01)[g]</th>\n",
       "      <th>radius_eq(ice)[m]</th>\n",
       "      <th>radius_pol(ice)[m]</th>\n",
       "      <th>density(droplet/ice)[kg/m3]</th>\n",
       "      <th>rhod [kg/m3]</th>\n",
       "      <th>multiplicity[-]</th>\n",
       "      <th>status[-]</th>\n",
       "      <th>index</th>\n",
       "      <th>rime_mass[kg]</th>\n",
       "      <th>num_of_monomers[-]</th>\n",
       "      <th>time</th>\n",
       "    </tr>\n",
       "    <tr>\n",
       "      <th>rk_deact</th>\n",
       "      <th></th>\n",
       "      <th></th>\n",
       "      <th></th>\n",
       "      <th></th>\n",
       "      <th></th>\n",
       "      <th></th>\n",
       "      <th></th>\n",
       "      <th></th>\n",
       "      <th></th>\n",
       "      <th></th>\n",
       "      <th></th>\n",
       "      <th></th>\n",
       "      <th></th>\n",
       "      <th></th>\n",
       "      <th></th>\n",
       "      <th></th>\n",
       "    </tr>\n",
       "  </thead>\n",
       "  <tbody>\n",
       "    <tr>\n",
       "      <td>941892399</td>\n",
       "      <td>3259.9497</td>\n",
       "      <td>11273.9360</td>\n",
       "      <td>9563.3612</td>\n",
       "      <td>0.0</td>\n",
       "      <td>0.0</td>\n",
       "      <td>4.982834e-14</td>\n",
       "      <td>1.000000e-07</td>\n",
       "      <td>1.000000e-07</td>\n",
       "      <td>916.80000</td>\n",
       "      <td>332.73</td>\n",
       "      <td>66127384576</td>\n",
       "      <td>ICE</td>\n",
       "      <td>1839</td>\n",
       "      <td>0.0</td>\n",
       "      <td>1</td>\n",
       "      <td>5100</td>\n",
       "    </tr>\n",
       "    <tr>\n",
       "      <td>684371759</td>\n",
       "      <td>2352.4851</td>\n",
       "      <td>8128.1848</td>\n",
       "      <td>9489.9541</td>\n",
       "      <td>0.0</td>\n",
       "      <td>0.0</td>\n",
       "      <td>8.441880e-14</td>\n",
       "      <td>1.581682e-05</td>\n",
       "      <td>1.581682e-05</td>\n",
       "      <td>460.99146</td>\n",
       "      <td>540.00</td>\n",
       "      <td>53229633536</td>\n",
       "      <td>ICE</td>\n",
       "      <td>1839</td>\n",
       "      <td>0.0</td>\n",
       "      <td>1</td>\n",
       "      <td>5100</td>\n",
       "    </tr>\n",
       "    <tr>\n",
       "      <td>941892399</td>\n",
       "      <td>3233.8714</td>\n",
       "      <td>11263.4190</td>\n",
       "      <td>9562.2017</td>\n",
       "      <td>0.0</td>\n",
       "      <td>0.0</td>\n",
       "      <td>4.982834e-14</td>\n",
       "      <td>1.000000e-07</td>\n",
       "      <td>1.000000e-07</td>\n",
       "      <td>916.80000</td>\n",
       "      <td>332.73</td>\n",
       "      <td>66127384576</td>\n",
       "      <td>ICE</td>\n",
       "      <td>1839</td>\n",
       "      <td>0.0</td>\n",
       "      <td>1</td>\n",
       "      <td>5220</td>\n",
       "    </tr>\n",
       "    <tr>\n",
       "      <td>684371759</td>\n",
       "      <td>2338.9289</td>\n",
       "      <td>8141.2439</td>\n",
       "      <td>9521.6421</td>\n",
       "      <td>0.0</td>\n",
       "      <td>0.0</td>\n",
       "      <td>8.441880e-14</td>\n",
       "      <td>1.654310e-05</td>\n",
       "      <td>1.654310e-05</td>\n",
       "      <td>465.10180</td>\n",
       "      <td>540.00</td>\n",
       "      <td>53229633536</td>\n",
       "      <td>ICE</td>\n",
       "      <td>1839</td>\n",
       "      <td>0.0</td>\n",
       "      <td>1</td>\n",
       "      <td>5220</td>\n",
       "    </tr>\n",
       "    <tr>\n",
       "      <td>941892399</td>\n",
       "      <td>3212.8923</td>\n",
       "      <td>11252.9690</td>\n",
       "      <td>9557.0263</td>\n",
       "      <td>0.0</td>\n",
       "      <td>0.0</td>\n",
       "      <td>4.982834e-14</td>\n",
       "      <td>1.000000e-07</td>\n",
       "      <td>1.000000e-07</td>\n",
       "      <td>916.80000</td>\n",
       "      <td>332.73</td>\n",
       "      <td>66127384576</td>\n",
       "      <td>ICE</td>\n",
       "      <td>1839</td>\n",
       "      <td>0.0</td>\n",
       "      <td>1</td>\n",
       "      <td>5340</td>\n",
       "    </tr>\n",
       "    <tr>\n",
       "      <td>684371759</td>\n",
       "      <td>2331.1208</td>\n",
       "      <td>8148.6154</td>\n",
       "      <td>9567.9420</td>\n",
       "      <td>0.0</td>\n",
       "      <td>0.0</td>\n",
       "      <td>8.441880e-14</td>\n",
       "      <td>1.744628e-05</td>\n",
       "      <td>1.744628e-05</td>\n",
       "      <td>467.41130</td>\n",
       "      <td>540.00</td>\n",
       "      <td>53229633536</td>\n",
       "      <td>ICE</td>\n",
       "      <td>1839</td>\n",
       "      <td>0.0</td>\n",
       "      <td>1</td>\n",
       "      <td>5340</td>\n",
       "    </tr>\n",
       "    <tr>\n",
       "      <td>684371759</td>\n",
       "      <td>2313.7171</td>\n",
       "      <td>8155.1853</td>\n",
       "      <td>9632.0026</td>\n",
       "      <td>0.0</td>\n",
       "      <td>0.0</td>\n",
       "      <td>8.441880e-14</td>\n",
       "      <td>1.852721e-05</td>\n",
       "      <td>1.852721e-05</td>\n",
       "      <td>468.45408</td>\n",
       "      <td>540.00</td>\n",
       "      <td>53229633536</td>\n",
       "      <td>ICE</td>\n",
       "      <td>1839</td>\n",
       "      <td>0.0</td>\n",
       "      <td>1</td>\n",
       "      <td>5460</td>\n",
       "    </tr>\n",
       "    <tr>\n",
       "      <td>941892399</td>\n",
       "      <td>3191.4758</td>\n",
       "      <td>11244.9860</td>\n",
       "      <td>9569.0705</td>\n",
       "      <td>0.0</td>\n",
       "      <td>0.0</td>\n",
       "      <td>4.982834e-14</td>\n",
       "      <td>1.462762e-06</td>\n",
       "      <td>1.462762e-06</td>\n",
       "      <td>610.05347</td>\n",
       "      <td>332.73</td>\n",
       "      <td>66127384576</td>\n",
       "      <td>ICE</td>\n",
       "      <td>1839</td>\n",
       "      <td>0.0</td>\n",
       "      <td>1</td>\n",
       "      <td>5460</td>\n",
       "    </tr>\n",
       "    <tr>\n",
       "      <td>684371759</td>\n",
       "      <td>2286.5585</td>\n",
       "      <td>8152.7767</td>\n",
       "      <td>9661.4310</td>\n",
       "      <td>0.0</td>\n",
       "      <td>0.0</td>\n",
       "      <td>8.441880e-14</td>\n",
       "      <td>1.916260e-05</td>\n",
       "      <td>1.916260e-05</td>\n",
       "      <td>471.05129</td>\n",
       "      <td>540.00</td>\n",
       "      <td>53229633536</td>\n",
       "      <td>ICE</td>\n",
       "      <td>1839</td>\n",
       "      <td>0.0</td>\n",
       "      <td>1</td>\n",
       "      <td>5580</td>\n",
       "    </tr>\n",
       "    <tr>\n",
       "      <td>941892399</td>\n",
       "      <td>3176.5238</td>\n",
       "      <td>11242.3900</td>\n",
       "      <td>9611.6999</td>\n",
       "      <td>0.0</td>\n",
       "      <td>0.0</td>\n",
       "      <td>4.982834e-14</td>\n",
       "      <td>3.948750e-06</td>\n",
       "      <td>3.948750e-06</td>\n",
       "      <td>487.36348</td>\n",
       "      <td>332.73</td>\n",
       "      <td>66127384576</td>\n",
       "      <td>ICE</td>\n",
       "      <td>1839</td>\n",
       "      <td>0.0</td>\n",
       "      <td>1</td>\n",
       "      <td>5580</td>\n",
       "    </tr>\n",
       "  </tbody>\n",
       "</table>\n",
       "</div>"
      ],
      "text/plain": [
       "                x[m]        y[m]       z[m]  vz[m]  radius(droplet)[m]  \\\n",
       "rk_deact                                                                 \n",
       "941892399  3259.9497  11273.9360  9563.3612    0.0                 0.0   \n",
       "684371759  2352.4851   8128.1848  9489.9541    0.0                 0.0   \n",
       "941892399  3233.8714  11263.4190  9562.2017    0.0                 0.0   \n",
       "684371759  2338.9289   8141.2439  9521.6421    0.0                 0.0   \n",
       "941892399  3212.8923  11252.9690  9557.0263    0.0                 0.0   \n",
       "684371759  2331.1208   8148.6154  9567.9420    0.0                 0.0   \n",
       "684371759  2313.7171   8155.1853  9632.0026    0.0                 0.0   \n",
       "941892399  3191.4758  11244.9860  9569.0705    0.0                 0.0   \n",
       "684371759  2286.5585   8152.7767  9661.4310    0.0                 0.0   \n",
       "941892399  3176.5238  11242.3900  9611.6999    0.0                 0.0   \n",
       "\n",
       "           mass_of_aerosol_in_droplet/ice(1:01)[g]  radius_eq(ice)[m]  \\\n",
       "rk_deact                                                                \n",
       "941892399                             4.982834e-14       1.000000e-07   \n",
       "684371759                             8.441880e-14       1.581682e-05   \n",
       "941892399                             4.982834e-14       1.000000e-07   \n",
       "684371759                             8.441880e-14       1.654310e-05   \n",
       "941892399                             4.982834e-14       1.000000e-07   \n",
       "684371759                             8.441880e-14       1.744628e-05   \n",
       "684371759                             8.441880e-14       1.852721e-05   \n",
       "941892399                             4.982834e-14       1.462762e-06   \n",
       "684371759                             8.441880e-14       1.916260e-05   \n",
       "941892399                             4.982834e-14       3.948750e-06   \n",
       "\n",
       "           radius_pol(ice)[m]  density(droplet/ice)[kg/m3]  rhod [kg/m3]  \\\n",
       "rk_deact                                                                   \n",
       "941892399        1.000000e-07                    916.80000        332.73   \n",
       "684371759        1.581682e-05                    460.99146        540.00   \n",
       "941892399        1.000000e-07                    916.80000        332.73   \n",
       "684371759        1.654310e-05                    465.10180        540.00   \n",
       "941892399        1.000000e-07                    916.80000        332.73   \n",
       "684371759        1.744628e-05                    467.41130        540.00   \n",
       "684371759        1.852721e-05                    468.45408        540.00   \n",
       "941892399        1.462762e-06                    610.05347        332.73   \n",
       "684371759        1.916260e-05                    471.05129        540.00   \n",
       "941892399        3.948750e-06                    487.36348        332.73   \n",
       "\n",
       "           multiplicity[-] status[-]  index  rime_mass[kg]  \\\n",
       "rk_deact                                                     \n",
       "941892399      66127384576       ICE   1839            0.0   \n",
       "684371759      53229633536       ICE   1839            0.0   \n",
       "941892399      66127384576       ICE   1839            0.0   \n",
       "684371759      53229633536       ICE   1839            0.0   \n",
       "941892399      66127384576       ICE   1839            0.0   \n",
       "684371759      53229633536       ICE   1839            0.0   \n",
       "684371759      53229633536       ICE   1839            0.0   \n",
       "941892399      66127384576       ICE   1839            0.0   \n",
       "684371759      53229633536       ICE   1839            0.0   \n",
       "941892399      66127384576       ICE   1839            0.0   \n",
       "\n",
       "           num_of_monomers[-]  time  \n",
       "rk_deact                             \n",
       "941892399                   1  5100  \n",
       "684371759                   1  5100  \n",
       "941892399                   1  5220  \n",
       "684371759                   1  5220  \n",
       "941892399                   1  5340  \n",
       "684371759                   1  5340  \n",
       "684371759                   1  5460  \n",
       "941892399                   1  5460  \n",
       "684371759                   1  5580  \n",
       "941892399                   1  5580  "
      ]
     },
     "execution_count": 99,
     "metadata": {},
     "output_type": "execute_result"
    }
   ],
   "source": [
    "# wrong one; we don't want to just find the index\n",
    "traj1839 = trajs[trajs[\"index\"] == 1839]\n",
    "traj1839"
   ]
  },
  {
   "cell_type": "code",
   "execution_count": 65,
   "id": "7c154bcd-0075-4003-92b0-8a763e9a8d70",
   "metadata": {},
   "outputs": [
    {
     "data": {
      "text/html": [
       "<div>\n",
       "<style scoped>\n",
       "    .dataframe tbody tr th:only-of-type {\n",
       "        vertical-align: middle;\n",
       "    }\n",
       "\n",
       "    .dataframe tbody tr th {\n",
       "        vertical-align: top;\n",
       "    }\n",
       "\n",
       "    .dataframe thead th {\n",
       "        text-align: right;\n",
       "    }\n",
       "</style>\n",
       "<table border=\"1\" class=\"dataframe\">\n",
       "  <thead>\n",
       "    <tr style=\"text-align: right;\">\n",
       "      <th></th>\n",
       "      <th>x[m]</th>\n",
       "      <th>y[m]</th>\n",
       "      <th>z[m]</th>\n",
       "      <th>vz[m]</th>\n",
       "      <th>radius(droplet)[m]</th>\n",
       "      <th>mass_of_aerosol_in_droplet/ice(1:01)[g]</th>\n",
       "      <th>radius_eq(ice)[m]</th>\n",
       "      <th>radius_pol(ice)[m]</th>\n",
       "      <th>density(droplet/ice)[kg/m3]</th>\n",
       "      <th>rhod [kg/m3]</th>\n",
       "      <th>multiplicity[-]</th>\n",
       "      <th>status[-]</th>\n",
       "      <th>index</th>\n",
       "      <th>rime_mass[kg]</th>\n",
       "      <th>num_of_monomers[-]</th>\n",
       "      <th>time</th>\n",
       "    </tr>\n",
       "    <tr>\n",
       "      <th>rk_deact</th>\n",
       "      <th></th>\n",
       "      <th></th>\n",
       "      <th></th>\n",
       "      <th></th>\n",
       "      <th></th>\n",
       "      <th></th>\n",
       "      <th></th>\n",
       "      <th></th>\n",
       "      <th></th>\n",
       "      <th></th>\n",
       "      <th></th>\n",
       "      <th></th>\n",
       "      <th></th>\n",
       "      <th></th>\n",
       "      <th></th>\n",
       "      <th></th>\n",
       "    </tr>\n",
       "  </thead>\n",
       "  <tbody>\n",
       "    <tr>\n",
       "      <td>35277104</td>\n",
       "      <td>10247.191</td>\n",
       "      <td>285.55230</td>\n",
       "      <td>9740.0787</td>\n",
       "      <td>0.0</td>\n",
       "      <td>0.0</td>\n",
       "      <td>4.603646e-13</td>\n",
       "      <td>0.000028</td>\n",
       "      <td>0.000028</td>\n",
       "      <td>439.38230</td>\n",
       "      <td>203.18</td>\n",
       "      <td>13565076480</td>\n",
       "      <td>ICE</td>\n",
       "      <td>304</td>\n",
       "      <td>0.0</td>\n",
       "      <td>1</td>\n",
       "      <td>5100</td>\n",
       "    </tr>\n",
       "    <tr>\n",
       "      <td>35277104</td>\n",
       "      <td>10244.592</td>\n",
       "      <td>280.10652</td>\n",
       "      <td>9759.2363</td>\n",
       "      <td>0.0</td>\n",
       "      <td>0.0</td>\n",
       "      <td>4.603646e-13</td>\n",
       "      <td>0.000028</td>\n",
       "      <td>0.000028</td>\n",
       "      <td>440.11344</td>\n",
       "      <td>203.18</td>\n",
       "      <td>13565076480</td>\n",
       "      <td>ICE</td>\n",
       "      <td>304</td>\n",
       "      <td>0.0</td>\n",
       "      <td>1</td>\n",
       "      <td>5130</td>\n",
       "    </tr>\n",
       "    <tr>\n",
       "      <td>35277104</td>\n",
       "      <td>10241.599</td>\n",
       "      <td>274.41092</td>\n",
       "      <td>9776.1006</td>\n",
       "      <td>0.0</td>\n",
       "      <td>0.0</td>\n",
       "      <td>4.603646e-13</td>\n",
       "      <td>0.000028</td>\n",
       "      <td>0.000028</td>\n",
       "      <td>440.48219</td>\n",
       "      <td>203.18</td>\n",
       "      <td>13565076480</td>\n",
       "      <td>ICE</td>\n",
       "      <td>304</td>\n",
       "      <td>0.0</td>\n",
       "      <td>1</td>\n",
       "      <td>5160</td>\n",
       "    </tr>\n",
       "    <tr>\n",
       "      <td>35277104</td>\n",
       "      <td>10238.095</td>\n",
       "      <td>268.82023</td>\n",
       "      <td>9790.7368</td>\n",
       "      <td>0.0</td>\n",
       "      <td>0.0</td>\n",
       "      <td>4.603646e-13</td>\n",
       "      <td>0.000028</td>\n",
       "      <td>0.000028</td>\n",
       "      <td>441.79240</td>\n",
       "      <td>203.18</td>\n",
       "      <td>13565076480</td>\n",
       "      <td>ICE</td>\n",
       "      <td>304</td>\n",
       "      <td>0.0</td>\n",
       "      <td>1</td>\n",
       "      <td>5190</td>\n",
       "    </tr>\n",
       "    <tr>\n",
       "      <td>35277104</td>\n",
       "      <td>10234.341</td>\n",
       "      <td>265.16436</td>\n",
       "      <td>9803.0233</td>\n",
       "      <td>0.0</td>\n",
       "      <td>0.0</td>\n",
       "      <td>4.603646e-13</td>\n",
       "      <td>0.000029</td>\n",
       "      <td>0.000029</td>\n",
       "      <td>442.33447</td>\n",
       "      <td>203.18</td>\n",
       "      <td>13565076480</td>\n",
       "      <td>ICE</td>\n",
       "      <td>304</td>\n",
       "      <td>0.0</td>\n",
       "      <td>1</td>\n",
       "      <td>5220</td>\n",
       "    </tr>\n",
       "  </tbody>\n",
       "</table>\n",
       "</div>"
      ],
      "text/plain": [
       "               x[m]       y[m]       z[m]  vz[m]  radius(droplet)[m]  \\\n",
       "rk_deact                                                               \n",
       "35277104  10247.191  285.55230  9740.0787    0.0                 0.0   \n",
       "35277104  10244.592  280.10652  9759.2363    0.0                 0.0   \n",
       "35277104  10241.599  274.41092  9776.1006    0.0                 0.0   \n",
       "35277104  10238.095  268.82023  9790.7368    0.0                 0.0   \n",
       "35277104  10234.341  265.16436  9803.0233    0.0                 0.0   \n",
       "\n",
       "          mass_of_aerosol_in_droplet/ice(1:01)[g]  radius_eq(ice)[m]  \\\n",
       "rk_deact                                                               \n",
       "35277104                             4.603646e-13           0.000028   \n",
       "35277104                             4.603646e-13           0.000028   \n",
       "35277104                             4.603646e-13           0.000028   \n",
       "35277104                             4.603646e-13           0.000028   \n",
       "35277104                             4.603646e-13           0.000029   \n",
       "\n",
       "          radius_pol(ice)[m]  density(droplet/ice)[kg/m3]  rhod [kg/m3]  \\\n",
       "rk_deact                                                                  \n",
       "35277104            0.000028                    439.38230        203.18   \n",
       "35277104            0.000028                    440.11344        203.18   \n",
       "35277104            0.000028                    440.48219        203.18   \n",
       "35277104            0.000028                    441.79240        203.18   \n",
       "35277104            0.000029                    442.33447        203.18   \n",
       "\n",
       "          multiplicity[-] status[-]  index  rime_mass[kg]  num_of_monomers[-]  \\\n",
       "rk_deact                                                                        \n",
       "35277104      13565076480       ICE    304            0.0                   1   \n",
       "35277104      13565076480       ICE    304            0.0                   1   \n",
       "35277104      13565076480       ICE    304            0.0                   1   \n",
       "35277104      13565076480       ICE    304            0.0                   1   \n",
       "35277104      13565076480       ICE    304            0.0                   1   \n",
       "\n",
       "          time  \n",
       "rk_deact        \n",
       "35277104  5100  \n",
       "35277104  5130  \n",
       "35277104  5160  \n",
       "35277104  5190  \n",
       "35277104  5220  "
      ]
     },
     "execution_count": 65,
     "metadata": {},
     "output_type": "execute_result"
    }
   ],
   "source": [
    "# checks if the density is not 916.8 to identify that it is not a duplicate\n",
    "# traj1839 = trajs[trajs['density(droplet/ice)[kg/m3]']!=916.80000]\n",
    "# traj1839[traj1839['index'] == 304]"
   ]
  },
  {
   "cell_type": "code",
   "execution_count": 66,
   "id": "306803ac-6be5-4868-838d-40a61ce19ca9",
   "metadata": {},
   "outputs": [
    {
     "data": {
      "text/plain": [
       "<matplotlib.axes._subplots.AxesSubplot at 0x1514e2c45be0>"
      ]
     },
     "execution_count": 66,
     "metadata": {},
     "output_type": "execute_result"
    },
    {
     "data": {
      "image/png": "[encoded data removed]",
      "text/plain": [
       "<Figure size 432x288 with 1 Axes>"
      ]
     },
     "metadata": {
      "needs_background": "light"
     },
     "output_type": "display_data"
    }
   ],
   "source": [
    "traj1839.plot.line(x=\"density(droplet/ice)[kg/m3]\", y=\"time\")"
   ]
  },
  {
   "cell_type": "code",
   "execution_count": 67,
   "id": "b800cd52-b423-4a4b-9bbd-d14827a33189",
   "metadata": {},
   "outputs": [],
   "source": [
    "timestamps = []\n",
    "processors = []\n",
    "filelen = []\n",
    "filenames = []\n",
    "\n",
    "for file in trajfiles:\n",
    "    if len(file) > 29:\n",
    "        filelen.append(len(file))\n",
    "        filenames.append(file)\n",
    "        timestamps.append(int(file[16:21]))\n",
    "        processors.append(int(file[24:]))"
   ]
  },
  {
   "cell_type": "code",
   "execution_count": 74,
   "id": "85d47081-5cdd-4b96-804a-8c85d997fbdc",
   "metadata": {},
   "outputs": [
    {
     "data": {
      "text/plain": [
       "Text(0.5, 0, 'Time stamp')"
      ]
     },
     "execution_count": 74,
     "metadata": {},
     "output_type": "execute_result"
    },
    {
     "data": {
      "image/png": "[encoded data removed]",
      "text/plain": [
       "<Figure size 432x288 with 1 Axes>"
      ]
     },
     "metadata": {
      "needs_background": "light"
     },
     "output_type": "display_data"
    }
   ],
   "source": [
    "plt.scatter(timestamps, processors, s=0.2)\n",
    "plt.ylabel(\"Processor number\")\n",
    "plt.xlabel(\"Time stamp\")"
   ]
  },
  {
   "cell_type": "code",
   "execution_count": 77,
   "id": "099834bb-7eab-437e-9452-e610c70b7186",
   "metadata": {},
   "outputs": [],
   "source": [
    "times = np.unique(timestamps)"
   ]
  },
  {
   "cell_type": "code",
   "execution_count": 78,
   "id": "11e400fa-ff0f-4ca4-836e-7006a5bc1c7b",
   "metadata": {},
   "outputs": [
    {
     "name": "stdout",
     "output_type": "stream",
     "text": [
      "[5100 5130 5160 5190 5220 5250 5280 5310 5340 5370 5400 5430 5460 5490\n",
      " 5520 5550 5580 5610 5640 5670 5700 5730 5760 5790 5820 5850 5880 5910\n",
      " 5940 5970 6000 6030 6060 6090 6120 6150 6180 6210 6240 6270 6300 6330\n",
      " 6360 6390 6420 6450 6480 6510 6540 6570 6600 6630 6660 6690 6720 6750\n",
      " 6780 6810 6840 6870 6900 6930 6960 6990 7020 7050 7080 7110 7140 7170\n",
      " 7200]\n"
     ]
    }
   ],
   "source": [
    "# these are the timestamps we have saved information about the location and attributes of each superdroplet (in seconds)\n",
    "print(times)"
   ]
  },
  {
   "cell_type": "code",
   "execution_count": 79,
   "id": "fc7407c1-1e2d-496c-a3c3-326bf6df9366",
   "metadata": {},
   "outputs": [
    {
     "data": {
      "text/plain": [
       "<xarray.DataArray 'time' (time: 41)>\n",
       "array([5160, 5220, 5280, 5340, 5400, 5460, 5160, 5220, 5280, 5340, 5400, 5460,\n",
       "       5520, 5580, 5640, 5700, 5760, 5820, 5880, 5940, 6000, 6060, 6120, 6180,\n",
       "       6240, 6300, 6360, 6420, 6480, 6540, 6600, 6660, 6720, 6780, 6840, 6900,\n",
       "       6960, 7020, 7080, 7140, 7200], dtype='timedelta64[ns]')\n",
       "Coordinates:\n",
       "  * time     (time) timedelta64[ns] 01:26:00 01:27:00 ... 02:00:00.000488"
      ]
     },
     "execution_count": 79,
     "metadata": {},
     "output_type": "execute_result"
    }
   ],
   "source": [
    "# these are the times in the 3D environmental variable file (note the environmental variables are recorded at a different frequency than the superdroplet data)\n",
    "nc[\"time\"] / 1e9"
   ]
  },
  {
   "cell_type": "markdown",
   "id": "b6a44b8a-6fe4-4463-af23-a8a945e4be20",
   "metadata": {},
   "source": [
    "## Load all the trajectory data for a single time step"
   ]
  },
  {
   "cell_type": "code",
   "execution_count": 51,
   "id": "7486f451-4e70-497d-b5ec-0a1c7d96fcd5",
   "metadata": {},
   "outputs": [
    {
     "ename": "NameError",
     "evalue": "name 'times' is not defined",
     "output_type": "error",
     "traceback": [
      "\u001b[0;31m---------------------------------------------------------------------------\u001b[0m",
      "\u001b[0;31mNameError\u001b[0m                                 Traceback (most recent call last)",
      "\u001b[0;32m<ipython-input-51-e120292d7b6c>\u001b[0m in \u001b[0;36m<module>\u001b[0;34m\u001b[0m\n\u001b[1;32m      1\u001b[0m \u001b[0;31m# for a specific time, load in all the superdroplet data\u001b[0m\u001b[0;34m\u001b[0m\u001b[0;34m\u001b[0m\u001b[0;34m\u001b[0m\u001b[0m\n\u001b[0;32m----> 2\u001b[0;31m \u001b[0midx0\u001b[0m \u001b[0;34m=\u001b[0m \u001b[0mnp\u001b[0m\u001b[0;34m.\u001b[0m\u001b[0mwhere\u001b[0m\u001b[0;34m(\u001b[0m\u001b[0mtimestamps\u001b[0m \u001b[0;34m==\u001b[0m \u001b[0mtimes\u001b[0m\u001b[0;34m[\u001b[0m\u001b[0;36m0\u001b[0m\u001b[0;34m]\u001b[0m\u001b[0;34m)\u001b[0m\u001b[0;34m\u001b[0m\u001b[0;34m\u001b[0m\u001b[0m\n\u001b[0m",
      "\u001b[0;31mNameError\u001b[0m: name 'times' is not defined"
     ]
    }
   ],
   "source": [
    "# for a specific time, load in all the superdroplet data\n",
    "idx0 = np.where(timestamps == times[0])"
   ]
  },
  {
   "cell_type": "code",
   "execution_count": 52,
   "id": "fa2d0faa-8220-40fb-b5d4-8ed57189e59d",
   "metadata": {},
   "outputs": [
    {
     "ename": "NameError",
     "evalue": "name 'idx0' is not defined",
     "output_type": "error",
     "traceback": [
      "\u001b[0;31m---------------------------------------------------------------------------\u001b[0m",
      "\u001b[0;31mNameError\u001b[0m                                 Traceback (most recent call last)",
      "\u001b[0;32m<ipython-input-52-791fb9dd984f>\u001b[0m in \u001b[0;36m<module>\u001b[0;34m\u001b[0m\n\u001b[0;32m----> 1\u001b[0;31m \u001b[0mfn0\u001b[0m \u001b[0;34m=\u001b[0m \u001b[0;34m[\u001b[0m\u001b[0mfilenames\u001b[0m\u001b[0;34m[\u001b[0m\u001b[0midx0\u001b[0m\u001b[0;34m[\u001b[0m\u001b[0;36m0\u001b[0m\u001b[0;34m]\u001b[0m\u001b[0;34m[\u001b[0m\u001b[0mi\u001b[0m\u001b[0;34m]\u001b[0m\u001b[0;34m]\u001b[0m \u001b[0;32mfor\u001b[0m \u001b[0mi\u001b[0m \u001b[0;32min\u001b[0m \u001b[0mrange\u001b[0m\u001b[0;34m(\u001b[0m\u001b[0;36m0\u001b[0m\u001b[0;34m,\u001b[0m \u001b[0mlen\u001b[0m\u001b[0;34m(\u001b[0m\u001b[0midx0\u001b[0m\u001b[0;34m[\u001b[0m\u001b[0;36m0\u001b[0m\u001b[0;34m]\u001b[0m\u001b[0;34m)\u001b[0m\u001b[0;34m)\u001b[0m\u001b[0;34m]\u001b[0m\u001b[0;34m\u001b[0m\u001b[0;34m\u001b[0m\u001b[0m\n\u001b[0m",
      "\u001b[0;31mNameError\u001b[0m: name 'idx0' is not defined"
     ]
    }
   ],
   "source": [
    "fn0 = [filenames[idx0[0][i]] for i in range(0, len(idx0[0]))]"
   ]
  },
  {
   "cell_type": "code",
   "execution_count": 49,
   "id": "1ffbe2b5-e56e-455d-881f-a22e4928a628",
   "metadata": {},
   "outputs": [
    {
     "ename": "NameError",
     "evalue": "name 'fn0' is not defined",
     "output_type": "error",
     "traceback": [
      "\u001b[0;31m---------------------------------------------------------------------------\u001b[0m",
      "\u001b[0;31mNameError\u001b[0m                                 Traceback (most recent call last)",
      "\u001b[0;32m<ipython-input-49-6932ea39af0e>\u001b[0m in \u001b[0;36m<module>\u001b[0;34m\u001b[0m\n\u001b[1;32m      1\u001b[0m \u001b[0;31m# this goes through all the files at the first time step, loads the trajectory data, concatenates it to the pandas dataframe\u001b[0m\u001b[0;34m\u001b[0m\u001b[0;34m\u001b[0m\u001b[0;34m\u001b[0m\u001b[0m\n\u001b[1;32m      2\u001b[0m \u001b[0mi\u001b[0m \u001b[0;34m=\u001b[0m \u001b[0;36m0\u001b[0m\u001b[0;34m\u001b[0m\u001b[0;34m\u001b[0m\u001b[0m\n\u001b[0;32m----> 3\u001b[0;31m \u001b[0;32mfor\u001b[0m \u001b[0mfn\u001b[0m \u001b[0;32min\u001b[0m \u001b[0mfn0\u001b[0m\u001b[0;34m:\u001b[0m\u001b[0;34m\u001b[0m\u001b[0;34m\u001b[0m\u001b[0m\n\u001b[0m\u001b[1;32m      4\u001b[0m     \u001b[0mfilepath\u001b[0m \u001b[0;34m=\u001b[0m \u001b[0mos\u001b[0m\u001b[0;34m.\u001b[0m\u001b[0mpath\u001b[0m\u001b[0;34m.\u001b[0m\u001b[0mjoin\u001b[0m\u001b[0;34m(\u001b[0m\u001b[0mdirpath\u001b[0m\u001b[0;34m,\u001b[0m \u001b[0mfn\u001b[0m\u001b[0;34m)\u001b[0m\u001b[0;34m\u001b[0m\u001b[0;34m\u001b[0m\u001b[0m\n\u001b[1;32m      5\u001b[0m     traj = pd.read_csv(\n",
      "\u001b[0;31mNameError\u001b[0m: name 'fn0' is not defined"
     ]
    }
   ],
   "source": [
    "# this goes through all the files at the first time step, loads the trajectory data, concatenates it to the pandas dataframe\n",
    "i = 0\n",
    "for fn in fn0:\n",
    "    filepath = os.path.join(dirpath, fn)\n",
    "    traj = pd.read_csv(\n",
    "        filepath,\n",
    "        sep=\"\\s+\",\n",
    "        skiprows=1,\n",
    "        header=None,\n",
    "        delim_whitespace=False,\n",
    "        names=colnames,\n",
    "        index_col=\"rk_deact\",\n",
    "    )\n",
    "    if i == 0:\n",
    "        trajs = traj\n",
    "    else:\n",
    "        trajs = pd.concat([trajs, traj])\n",
    "    i = i + 1"
   ]
  },
  {
   "cell_type": "code",
   "execution_count": 50,
   "id": "341c2597-7fa8-4c20-b3ba-16058bc2fb3b",
   "metadata": {},
   "outputs": [
    {
     "name": "stdout",
     "output_type": "stream",
     "text": [
      "7867203\n"
     ]
    }
   ],
   "source": [
    "# this is the total number of superdroplets at this time step\n",
    "print(len(trajs))"
   ]
  },
  {
   "cell_type": "code",
   "execution_count": 84,
   "id": "03ee6e0f-9caf-4774-b8ef-9b2c11135d71",
   "metadata": {},
   "outputs": [],
   "source": [
    "traj0 = trajs.sort_index()"
   ]
  },
  {
   "cell_type": "code",
   "execution_count": 85,
   "id": "0597bf67-6d49-4b95-8f3a-86e529019030",
   "metadata": {},
   "outputs": [],
   "source": [
    "# this drops some unnecessary columns from the dataframe\n",
    "colnames = [\n",
    "    \"x[m]\",\n",
    "    \"y[m]\",\n",
    "    \"z[m]\",\n",
    "    \"vz[m]\",\n",
    "    \"radius(droplet)[m]\",\n",
    "    \"radius_eq(ice)[m]\",\n",
    "    \"radius_pol(ice)[m]\",\n",
    "    \"density(droplet/ice)[kg/m3]\",\n",
    "    \"status[-]\",\n",
    "    \"index\",\n",
    "    \"rime_mass[kg]\",\n",
    "    \"num_of_monomers[-]\",\n",
    "    \"rk_deact\",\n",
    "]\n",
    "dropcols = [\n",
    "    \"vz[m]\",\n",
    "    \"radius(droplet)[m]\",\n",
    "    \"status[-]\",\n",
    "    \"index\",\n",
    "    \"rime_mass[kg]\",\n",
    "    \"num_of_monomers[-]\",\n",
    "]\n",
    "\n",
    "traj0 = traj0.drop(columns=dropcols)"
   ]
  },
  {
   "cell_type": "code",
   "execution_count": 86,
   "id": "0926a8b8-bb31-4ea5-b12c-8654a130f043",
   "metadata": {},
   "outputs": [],
   "source": [
    "traj0 = traj0.reset_index()"
   ]
  },
  {
   "cell_type": "code",
   "execution_count": 87,
   "id": "a5ed480e-1090-4c77-9ed9-654d50333c3d",
   "metadata": {},
   "outputs": [
    {
     "data": {
      "text/html": [
       "<div>\n",
       "<style scoped>\n",
       "    .dataframe tbody tr th:only-of-type {\n",
       "        vertical-align: middle;\n",
       "    }\n",
       "\n",
       "    .dataframe tbody tr th {\n",
       "        vertical-align: top;\n",
       "    }\n",
       "\n",
       "    .dataframe thead th {\n",
       "        text-align: right;\n",
       "    }\n",
       "</style>\n",
       "<table border=\"1\" class=\"dataframe\">\n",
       "  <thead>\n",
       "    <tr style=\"text-align: right;\">\n",
       "      <th></th>\n",
       "      <th>rk_deact</th>\n",
       "      <th>x[m]</th>\n",
       "      <th>y[m]</th>\n",
       "      <th>z[m]</th>\n",
       "      <th>mass_of_aerosol_in_droplet/ice(1:01)[g]</th>\n",
       "      <th>radius_eq(ice)[m]</th>\n",
       "      <th>radius_pol(ice)[m]</th>\n",
       "      <th>density(droplet/ice)[kg/m3]</th>\n",
       "      <th>rhod [kg/m3]</th>\n",
       "      <th>multiplicity[-]</th>\n",
       "    </tr>\n",
       "  </thead>\n",
       "  <tbody>\n",
       "    <tr>\n",
       "      <td>0</td>\n",
       "      <td>345</td>\n",
       "      <td>473.12640</td>\n",
       "      <td>474.646910</td>\n",
       "      <td>9500.5181</td>\n",
       "      <td>1.696665e-14</td>\n",
       "      <td>0.000013</td>\n",
       "      <td>0.000013</td>\n",
       "      <td>447.15654</td>\n",
       "      <td>289.55</td>\n",
       "      <td>75815124992</td>\n",
       "    </tr>\n",
       "    <tr>\n",
       "      <td>1</td>\n",
       "      <td>514</td>\n",
       "      <td>410.95111</td>\n",
       "      <td>241.540830</td>\n",
       "      <td>9719.1948</td>\n",
       "      <td>4.244163e-14</td>\n",
       "      <td>0.000023</td>\n",
       "      <td>0.000023</td>\n",
       "      <td>464.61306</td>\n",
       "      <td>263.64</td>\n",
       "      <td>69272150016</td>\n",
       "    </tr>\n",
       "    <tr>\n",
       "      <td>2</td>\n",
       "      <td>872</td>\n",
       "      <td>258.41102</td>\n",
       "      <td>331.613820</td>\n",
       "      <td>9533.4725</td>\n",
       "      <td>1.622385e-13</td>\n",
       "      <td>0.000009</td>\n",
       "      <td>0.000009</td>\n",
       "      <td>494.52613</td>\n",
       "      <td>375.91</td>\n",
       "      <td>35479605248</td>\n",
       "    </tr>\n",
       "    <tr>\n",
       "      <td>3</td>\n",
       "      <td>962</td>\n",
       "      <td>466.02906</td>\n",
       "      <td>450.631740</td>\n",
       "      <td>9662.1907</td>\n",
       "      <td>8.539189e-14</td>\n",
       "      <td>0.000008</td>\n",
       "      <td>0.000008</td>\n",
       "      <td>455.89723</td>\n",
       "      <td>194.55</td>\n",
       "      <td>52921167872</td>\n",
       "    </tr>\n",
       "    <tr>\n",
       "      <td>4</td>\n",
       "      <td>1107</td>\n",
       "      <td>169.25433</td>\n",
       "      <td>20.785657</td>\n",
       "      <td>9577.0813</td>\n",
       "      <td>4.147985e-14</td>\n",
       "      <td>0.000027</td>\n",
       "      <td>0.000027</td>\n",
       "      <td>473.55919</td>\n",
       "      <td>401.82</td>\n",
       "      <td>69681471488</td>\n",
       "    </tr>\n",
       "  </tbody>\n",
       "</table>\n",
       "</div>"
      ],
      "text/plain": [
       "   rk_deact       x[m]        y[m]       z[m]  \\\n",
       "0       345  473.12640  474.646910  9500.5181   \n",
       "1       514  410.95111  241.540830  9719.1948   \n",
       "2       872  258.41102  331.613820  9533.4725   \n",
       "3       962  466.02906  450.631740  9662.1907   \n",
       "4      1107  169.25433   20.785657  9577.0813   \n",
       "\n",
       "   mass_of_aerosol_in_droplet/ice(1:01)[g]  radius_eq(ice)[m]  \\\n",
       "0                             1.696665e-14           0.000013   \n",
       "1                             4.244163e-14           0.000023   \n",
       "2                             1.622385e-13           0.000009   \n",
       "3                             8.539189e-14           0.000008   \n",
       "4                             4.147985e-14           0.000027   \n",
       "\n",
       "   radius_pol(ice)[m]  density(droplet/ice)[kg/m3]  rhod [kg/m3]  \\\n",
       "0            0.000013                    447.15654        289.55   \n",
       "1            0.000023                    464.61306        263.64   \n",
       "2            0.000009                    494.52613        375.91   \n",
       "3            0.000008                    455.89723        194.55   \n",
       "4            0.000027                    473.55919        401.82   \n",
       "\n",
       "   multiplicity[-]  \n",
       "0      75815124992  \n",
       "1      69272150016  \n",
       "2      35479605248  \n",
       "3      52921167872  \n",
       "4      69681471488  "
      ]
     },
     "execution_count": 87,
     "metadata": {},
     "output_type": "execute_result"
    }
   ],
   "source": [
    "traj0.head()"
   ]
  },
  {
   "cell_type": "code",
   "execution_count": 88,
   "id": "b0bfa7a9-95aa-435a-9fb4-c86fb871d2d1",
   "metadata": {},
   "outputs": [
    {
     "data": {
      "text/plain": [
       "<matplotlib.colorbar.Colorbar at 0x1514dec1a0f0>"
      ]
     },
     "execution_count": 88,
     "metadata": {},
     "output_type": "execute_result"
    },
    {
     "data": {
      "image/png": "[encoded data removed]",
      "text/plain": [
       "<Figure size 720x576 with 2 Axes>"
      ]
     },
     "metadata": {
      "needs_background": "light"
     },
     "output_type": "display_data"
    }
   ],
   "source": [
    "xs = traj[\"x[m]\"].values\n",
    "ys = traj[\"y[m]\"].values\n",
    "zs = traj[\"z[m]\"].values\n",
    "rads = 1e4 * traj[\"radius_eq(ice)[m]\"].values\n",
    "rhod = traj[\"rhod [kg/m3]\"].values\n",
    "\n",
    "fig, ax = plt.subplots(figsize=(10, 8))\n",
    "plt.scatter(xs, zs, s=rads, c=rhod)\n",
    "plt.ylabel(\"Height (m)\")\n",
    "plt.xlabel(\"Width (m)\")\n",
    "plt.colorbar(label=\"Rhod\")"
   ]
  },
  {
   "cell_type": "markdown",
   "id": "139c6e6b-577e-4849-9e73-441d228ce86c",
   "metadata": {},
   "source": [
    "# Single Droplet (Density and Time Relationship)"
   ]
  },
  {
   "cell_type": "code",
   "execution_count": 53,
   "id": "48bba0de-0c35-496f-86d6-fdc9750ef95b",
   "metadata": {},
   "outputs": [
    {
     "name": "stdout",
     "output_type": "stream",
     "text": [
      "[5100 5220 5340 5460 5580 5700 5820 5940 6060 6180 6300 6420 6540 6660\n",
      " 6780 6900 7020 7140]\n",
      "Loading trajectories for time 5100 \n",
      "Loading trajectories for time 5220 \n",
      "Loading trajectories for time 5340 \n",
      "Loading trajectories for time 5460 \n",
      "Loading trajectories for time 5580 \n"
     ]
    }
   ],
   "source": [
    "# trajs = load_trajectories(dirpath,num_timesteps=10)\n",
    "timestamps = get_timestamps(dirpath)\n",
    "\n",
    "# load every 4 timestamps (every two minutes)\n",
    "coarse_timestamps = timestamps[0::4]\n",
    "print(coarse_timestamps)\n",
    "trajs = load_trajectories(dirpath, num_timesteps=5, times=coarse_timestamps)"
   ]
  },
  {
   "cell_type": "code",
   "execution_count": 24,
   "id": "cf516762-5b8d-4f39-b801-ed11506ce913",
   "metadata": {},
   "outputs": [
    {
     "ename": "NameError",
     "evalue": "name 'trajs' is not defined",
     "output_type": "error",
     "traceback": [
      "\u001b[0;31m---------------------------------------------------------------------------\u001b[0m",
      "\u001b[0;31mNameError\u001b[0m                                 Traceback (most recent call last)",
      "\u001b[0;32m<ipython-input-24-bc0d4e940bb6>\u001b[0m in \u001b[0;36m<module>\u001b[0;34m\u001b[0m\n\u001b[0;32m----> 1\u001b[0;31m \u001b[0mtrajs\u001b[0m\u001b[0;34m.\u001b[0m\u001b[0mloc\u001b[0m\u001b[0;34m[\u001b[0m\u001b[0;34m[\u001b[0m\u001b[0;36m941890922\u001b[0m\u001b[0;34m,\u001b[0m \u001b[0;36m941891358\u001b[0m\u001b[0;34m,\u001b[0m \u001b[0;36m941891618\u001b[0m\u001b[0;34m,\u001b[0m \u001b[0;36m1357900\u001b[0m\u001b[0;34m,\u001b[0m \u001b[0;36m941892406\u001b[0m\u001b[0;34m]\u001b[0m\u001b[0;34m]\u001b[0m\u001b[0;34m\u001b[0m\u001b[0;34m\u001b[0m\u001b[0m\n\u001b[0m\u001b[1;32m      2\u001b[0m \u001b[0;31m# trajs[trajs['index'] == 1839]\u001b[0m\u001b[0;34m\u001b[0m\u001b[0;34m\u001b[0m\u001b[0;34m\u001b[0m\u001b[0m\n\u001b[1;32m      3\u001b[0m \u001b[0;31m# trajs.plot.line(x='density(droplet/ice)[kg/m3]', y='time')\u001b[0m\u001b[0;34m\u001b[0m\u001b[0;34m\u001b[0m\u001b[0;34m\u001b[0m\u001b[0m\n",
      "\u001b[0;31mNameError\u001b[0m: name 'trajs' is not defined"
     ]
    }
   ],
   "source": [
    "trajs.loc[[941890922, 941891358, 941891618, 1357900, 941892406]]\n",
    "# trajs[trajs['index'] == 1839]\n",
    "# trajs.plot.line(x='density(droplet/ice)[kg/m3]', y='time')"
   ]
  },
  {
   "cell_type": "code",
   "execution_count": 109,
   "id": "a5d2ff80-4622-4cd3-899d-1c991852a03c",
   "metadata": {},
   "outputs": [
    {
     "data": {
      "image/png": "[encoded data removed]",
      "text/plain": [
       "<Figure size 432x288 with 1 Axes>"
      ]
     },
     "metadata": {
      "needs_background": "light"
     },
     "output_type": "display_data"
    }
   ],
   "source": [
    "# DROPLET: 941890922\n",
    "trajs.loc[941890922]\n",
    "trajs2 = trajs.to_xarray()\n",
    "x = trajs2[\"time\"].sel(rk_deact=941890922)\n",
    "y = trajs2[\"density(droplet/ice)[kg/m3]\"].sel(rk_deact=941890922)\n",
    "\n",
    "plt.ylabel(\"Density(Droplet/Ice)[kg/m3]\")\n",
    "plt.xlabel(\"Time\")\n",
    "plt.xlim(5100, 5600)\n",
    "plt.ylim(480, 500)\n",
    "\n",
    "plt.scatter(x, y, marker=\"o\")\n",
    "plt.show()"
   ]
  },
  {
   "cell_type": "code",
   "execution_count": 112,
   "id": "1cfb03d3-65e0-4776-b881-772426202314",
   "metadata": {},
   "outputs": [
    {
     "ename": "TypeError",
     "evalue": "can only lookup dictionaries from Dataset.loc",
     "output_type": "error",
     "traceback": [
      "\u001b[0;31m---------------------------------------------------------------------------\u001b[0m",
      "\u001b[0;31mTypeError\u001b[0m                                 Traceback (most recent call last)",
      "\u001b[0;32m<ipython-input-112-9daf919f33af>\u001b[0m in \u001b[0;36m<module>\u001b[0;34m\u001b[0m\n\u001b[1;32m      1\u001b[0m \u001b[0;31m#DROPLET: 941891358\u001b[0m\u001b[0;34m\u001b[0m\u001b[0;34m\u001b[0m\u001b[0;34m\u001b[0m\u001b[0m\n\u001b[0;32m----> 2\u001b[0;31m \u001b[0mtrajs2\u001b[0m\u001b[0;34m.\u001b[0m\u001b[0mloc\u001b[0m\u001b[0;34m[\u001b[0m\u001b[0;36m941891358\u001b[0m\u001b[0;34m]\u001b[0m\u001b[0;34m\u001b[0m\u001b[0;34m\u001b[0m\u001b[0m\n\u001b[0m\u001b[1;32m      3\u001b[0m \u001b[0mtrajs2\u001b[0m \u001b[0;34m=\u001b[0m \u001b[0mtrajs\u001b[0m\u001b[0;34m.\u001b[0m\u001b[0mto_xarray\u001b[0m\u001b[0;34m(\u001b[0m\u001b[0;34m)\u001b[0m\u001b[0;34m\u001b[0m\u001b[0;34m\u001b[0m\u001b[0m\n\u001b[1;32m      4\u001b[0m \u001b[0mx\u001b[0m \u001b[0;34m=\u001b[0m \u001b[0mtrajs2\u001b[0m\u001b[0;34m[\u001b[0m\u001b[0;34m'time'\u001b[0m\u001b[0;34m]\u001b[0m\u001b[0;34m.\u001b[0m\u001b[0msel\u001b[0m\u001b[0;34m(\u001b[0m\u001b[0mrk_deact\u001b[0m\u001b[0;34m=\u001b[0m\u001b[0;36m941891358\u001b[0m\u001b[0;34m)\u001b[0m\u001b[0;34m\u001b[0m\u001b[0;34m\u001b[0m\u001b[0m\n\u001b[1;32m      5\u001b[0m \u001b[0my\u001b[0m \u001b[0;34m=\u001b[0m \u001b[0mtrajs2\u001b[0m\u001b[0;34m[\u001b[0m\u001b[0;34m'density(droplet/ice)[kg/m3]'\u001b[0m\u001b[0;34m]\u001b[0m\u001b[0;34m.\u001b[0m\u001b[0msel\u001b[0m\u001b[0;34m(\u001b[0m\u001b[0mrk_deact\u001b[0m\u001b[0;34m=\u001b[0m\u001b[0;36m941891358\u001b[0m\u001b[0;34m)\u001b[0m\u001b[0;34m\u001b[0m\u001b[0;34m\u001b[0m\u001b[0m\n",
      "\u001b[0;32m/glade/u/ssg/ch/usr/jupyterhub/envs/pangeo-2019.09.12/lib/python3.7/site-packages/xarray/core/dataset.py\u001b[0m in \u001b[0;36m__getitem__\u001b[0;34m(self, key)\u001b[0m\n\u001b[1;32m    321\u001b[0m     \u001b[0;32mdef\u001b[0m \u001b[0m__getitem__\u001b[0m\u001b[0;34m(\u001b[0m\u001b[0mself\u001b[0m\u001b[0;34m,\u001b[0m \u001b[0mkey\u001b[0m\u001b[0;34m:\u001b[0m \u001b[0mMapping\u001b[0m\u001b[0;34m[\u001b[0m\u001b[0mstr\u001b[0m\u001b[0;34m,\u001b[0m \u001b[0mAny\u001b[0m\u001b[0;34m]\u001b[0m\u001b[0;34m)\u001b[0m \u001b[0;34m->\u001b[0m \u001b[0;34m'Dataset'\u001b[0m\u001b[0;34m:\u001b[0m\u001b[0;34m\u001b[0m\u001b[0;34m\u001b[0m\u001b[0m\n\u001b[1;32m    322\u001b[0m         \u001b[0;32mif\u001b[0m \u001b[0;32mnot\u001b[0m \u001b[0mutils\u001b[0m\u001b[0;34m.\u001b[0m\u001b[0mis_dict_like\u001b[0m\u001b[0;34m(\u001b[0m\u001b[0mkey\u001b[0m\u001b[0;34m)\u001b[0m\u001b[0;34m:\u001b[0m\u001b[0;34m\u001b[0m\u001b[0;34m\u001b[0m\u001b[0m\n\u001b[0;32m--> 323\u001b[0;31m             \u001b[0;32mraise\u001b[0m \u001b[0mTypeError\u001b[0m\u001b[0;34m(\u001b[0m\u001b[0;34m'can only lookup dictionaries from Dataset.loc'\u001b[0m\u001b[0;34m)\u001b[0m\u001b[0;34m\u001b[0m\u001b[0;34m\u001b[0m\u001b[0m\n\u001b[0m\u001b[1;32m    324\u001b[0m         \u001b[0;32mreturn\u001b[0m \u001b[0mself\u001b[0m\u001b[0;34m.\u001b[0m\u001b[0mdataset\u001b[0m\u001b[0;34m.\u001b[0m\u001b[0msel\u001b[0m\u001b[0;34m(\u001b[0m\u001b[0;34m**\u001b[0m\u001b[0mkey\u001b[0m\u001b[0;34m)\u001b[0m\u001b[0;34m\u001b[0m\u001b[0;34m\u001b[0m\u001b[0m\n\u001b[1;32m    325\u001b[0m \u001b[0;34m\u001b[0m\u001b[0m\n",
      "\u001b[0;31mTypeError\u001b[0m: can only lookup dictionaries from Dataset.loc"
     ]
    }
   ],
   "source": [
    "# DROPLET: 941891358\n",
    "trajs2.loc[941891358]\n",
    "trajs2 = trajs.to_xarray()\n",
    "x = trajs2[\"time\"].sel(rk_deact=941891358)\n",
    "y = trajs2[\"density(droplet/ice)[kg/m3]\"].sel(rk_deact=941891358)\n",
    "\n",
    "plt.ylabel(\"Density(Droplet/Ice)[kg/m3]\")\n",
    "plt.xlabel(\"Time\")\n",
    "plt.xlim(5100, 5300)\n",
    "plt.ylim(480, 500)\n",
    "\n",
    "plt.scatter(x, y, marker=\"o\")\n",
    "plt.show()"
   ]
  },
  {
   "cell_type": "code",
   "execution_count": null,
   "id": "1eceaef9-ecf4-4898-9b5b-02a160b2c719",
   "metadata": {},
   "outputs": [],
   "source": [
    "# DROPLET: 941890922\n",
    "trajs2.loc[941890922]\n",
    "trajs2 = trajs.to_xarray()\n",
    "x = trajs2[\"time\"].sel(rk_deact=941890922)\n",
    "y = trajs2[\"density(droplet/ice)[kg/m3]\"].sel(rk_deact=941890922)\n",
    "\n",
    "plt.ylabel(\"Density(Droplet/Ice)[kg/m3]\")\n",
    "plt.xlabel(\"Time\")\n",
    "plt.xlim(5100, 5300)\n",
    "plt.ylim(480, 500)\n",
    "\n",
    "plt.scatter(x, y, marker=\"o\")\n",
    "plt.show()"
   ]
  },
  {
   "cell_type": "code",
   "execution_count": 22,
   "id": "e7d1fcc9-943b-460d-84dc-5161817fbb8d",
   "metadata": {},
   "outputs": [
    {
     "name": "stdout",
     "output_type": "stream",
     "text": [
      "traj.head()\n",
      "traj = traj[traj['z[m]'] > 0]\n",
      "traj = pd.read_csv(filepath,sep = '\\s+',skiprows=1,header=None,delim_whitespace=False,names=colnames,index_col='index')\n",
      "from load_trajectories import load_trajectories, get_timestamps\n",
      "load_trajectories\n",
      "# Using the NPL 2024a kernel\n",
      "import numpy as np\n",
      "import xarray as xr\n",
      "import os.path\n",
      "import os\n",
      "import pandas as pd\n",
      "import dask\n",
      "import dask.dataframe as dd\n",
      "\n",
      "from matplotlib import pyplot as plt\n",
      "%matplotlib inline\n",
      "# filepaths for 3d variables\n",
      "dirpath = '/glade/derecho/scratch/klamb/superdroplets/outsdm_iceball_nowind_rhod_dist_min200_time_var_sgs_1024_poly_trj/'\n",
      "fn = 'cm1out.nc'\n",
      "newncfilepath = os.path.join(dirpath,fn)\n",
      "print(newncfilepath)\n",
      "nc=xr.open_dataset(newncfilepath)\n",
      "# check what variables are available in this file\n",
      "nc\n",
      "# this plots the horizontal velocity for a specific time (z vs. x)\n",
      "plt.imshow(nc['vinterp'][24,:,60,:],origin='lower')\n",
      "# filepaths for trajectories\n",
      "dirpath = '/glade/derecho/scratch/klamb/superdroplets/outsdm_iceball_nowind_rhod_dist_min200_time_var_sgs_1024_poly_trj/SDM_trajs/'\n",
      "# this command lists all the files in the directory\n",
      "trajfiles = os.listdir(dirpath)\n",
      "# this is the file path for the first trajectory file in the directory\n",
      "filepath = os.path.join(dirpath,trajfiles[0])\n",
      "filepath\n",
      "# these are the column names for the data in the ascii files\n",
      "cols ={0:'x[m]',1:'y[m]',2:'z[m]',3:'vz[m]',\n",
      "       4:'radius(droplet)[m]',5:'mass_of_aerosol_in_droplet/ice(1:01)[g]',6:'radius_eq(ice)[m]',7:'radius_pol(ice)[m]',\n",
      "       8:'density(droplet/ice)[kg/m3]',9:'rhod [kg/m3]',10:'multiplicity[-]',11:'status[-]',12:'index', 13:'rime_mass[kg]',14:'num_of_monomers[-]',15:'rk_deact'}\n",
      "\n",
      "colnames =['x[m]','y[m]','z[m]','vz[m]','radius(droplet)[m]','mass_of_aerosol_in_droplet/ice(1:01)[g]','radius_eq(ice)[m]','radius_pol(ice)[m]',\n",
      "           'density(droplet/ice)[kg/m3]','rhod [kg/m3]','multiplicity[-]','status[-]','index','rime_mass[kg]','num_of_monomers[-]','rk_deact']\n",
      "traj = pd.read_csv(filepath,sep = '\\s+',skiprows=1,header=None,delim_whitespace=False,names=colnames,index_col='index')\n",
      "# load the data for a single trajectory file using pandas\n",
      "#ATTEMPT TO USE THE DASK FOR FILE\n",
      "\n",
      "#traj= dd.read_csv(filepath,sep = '\\s+',skiprows=1,header=None,delim_whitespace=False,names=colnames,index_col='index')\n",
      "#traj = dd.read_csv\n",
      "traj.head()\n",
      "traj = traj[traj['z[m]'] > 0]\n",
      "trajectory = traj.to_xarray()\n",
      "trajectory\n",
      "traj\n",
      "traj\n",
      "%history\n"
     ]
    }
   ],
   "source": [
    "%history"
   ]
  },
  {
   "cell_type": "code",
   "execution_count": null,
   "id": "ae53ddbc-294d-42da-8f13-7d2e50c83112",
   "metadata": {},
   "outputs": [],
   "source": []
  }
 ],
 "metadata": {
  "kernelspec": {
   "display_name": "Pangeo (2019.09.12 - py3.7)",
   "language": "python",
   "name": "pangeo-2019.09.12"
  },
  "language_info": {
   "codemirror_mode": {
    "name": "ipython",
    "version": 3
   },
   "file_extension": ".py",
   "mimetype": "text/x-python",
   "name": "python",
   "nbconvert_exporter": "python",
   "pygments_lexer": "ipython3",
   "version": "3.7.3"
  }
 },
 "nbformat": 4,
 "nbformat_minor": 5
}
