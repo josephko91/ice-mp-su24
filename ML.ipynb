{
 "cells": [
  {
   "cell_type": "markdown",
   "id": "5c5b2294-57c2-4481-8a21-23bd54c355af",
   "metadata": {},
   "source": [
    "# Machine Learning"
   ]
  },
  {
   "cell_type": "code",
   "execution_count": 11,
   "id": "f9478655-715b-4379-8673-3b587867fa63",
   "metadata": {},
   "outputs": [],
   "source": [
    "from CombinedForML import *"
   ]
  },
  {
   "cell_type": "code",
   "execution_count": null,
   "id": "23faaaee-a0bd-42b6-ba34-e6619e3e9823",
   "metadata": {},
   "outputs": [],
   "source": [
    "trajs"
   ]
  },
  {
   "cell_type": "code",
   "execution_count": null,
   "id": "47806a7c-4c12-426b-a7b7-96b45ba0e370",
   "metadata": {},
   "outputs": [],
   "source": []
  }
 ],
 "metadata": {
  "kernelspec": {
   "display_name": "NPL 2024a",
   "language": "python",
   "name": "npl-2024a"
  },
  "language_info": {
   "codemirror_mode": {
    "name": "ipython",
    "version": 3
   },
   "file_extension": ".py",
   "mimetype": "text/x-python",
   "name": "python",
   "nbconvert_exporter": "python",
   "pygments_lexer": "ipython3",
   "version": "3.11.6"
  }
 },
 "nbformat": 4,
 "nbformat_minor": 5
}
